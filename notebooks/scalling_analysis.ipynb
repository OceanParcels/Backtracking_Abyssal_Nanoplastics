{
 "cells": [
  {
   "cell_type": "code",
   "execution_count": 1,
   "metadata": {},
   "outputs": [],
   "source": [
    "import numpy as np\n",
    "import pandas as pd"
   ]
  },
  {
   "cell_type": "markdown",
   "metadata": {},
   "source": [
    "- The **Brownian force** magnitude is $\\mathcal{O}(k_BT/R)$, where $k_B$ is the Boltzmann constant (\\SI{1.381e-23}{\\joule\\per\\kelvin}), $T$ is the absolute temperature, and $R$ is the characteristic radius of the particles. \n",
    "- The **viscous force** due to Stokes magnitude  is $\\mathcal{O}(\\mu UR)$, where $\\mu$ is the dynamic viscosity of water and $U$ is the characteristic velocity of the particles moving through the fluid. \n",
    "- The **inertial force** magnitude is $\\mathcal{O}(\\rho U^2 R^2)$, where $\\rho$ is the density of the particle. \n",
    "- The **buoyancy and gravity force**, due to the difference of the density of the particle and the fluid $\\Delta \\rho$ and gravity, is $\\mathcal{O}(g \\Delta \\rho R^3)$. \n",
    "\n",
    "In Table S1 we show the values of the forces for particles of radius $R=[0.01, 1, 100] \\mu m$."
   ]
  },
  {
   "cell_type": "code",
   "execution_count": 2,
   "metadata": {},
   "outputs": [],
   "source": [
    "def brownian_force(T, R):\n",
    "    k = 1.38064852e-23\n",
    "    T_abs = T + 273.15\n",
    "    \n",
    "    return (k*T_abs)/R\n",
    "\n",
    "def viscous_force(R, U):\n",
    "    mu = 1.5e-6 * 1025 # kg/\n",
    "    return mu*U*R\n",
    "\n",
    "def inertial_force(R, U, rho):\n",
    "    return rho*U**2*R**2\n",
    "\n",
    "def gravitational_buoyancy_force(R, rho_p, rho_f):\n",
    "    g = 9.81\n",
    "    return R**3 * (rho_f - rho_p) * g\n"
   ]
  },
  {
   "cell_type": "code",
   "execution_count": 3,
   "metadata": {},
   "outputs": [
    {
     "data": {
      "text/plain": [
       "0.001"
      ]
     },
     "execution_count": 3,
     "metadata": {},
     "output_type": "execute_result"
    }
   ],
   "source": [
    "1e-6 * 1000"
   ]
  },
  {
   "cell_type": "code",
   "execution_count": 34,
   "metadata": {},
   "outputs": [],
   "source": [
    "def terminal_velocity(R, rho_p, rho_f):\n",
    "    nu = 1e-6\n",
    "    g = 10\n",
    "    beta = rho_p/rho_f\n",
    "    \n",
    "    return (2/9) * (R**2) * (beta - 1) * g / nu\n",
    "\n",
    "r = np.array([0.5e-8, 0.5e-7, 1e-6, 0.5e-5, 0.5e-4]) # m\n",
    "rho_p = 1100 # kg/m^3\n",
    "rho_f = 1000 # kg/m^3\n",
    "T = 10 # C\n",
    "U_terminal = terminal_velocity(r, rho_p, rho_f) # m/s\n",
    "\n",
    "U = np.array([1e-10, 1e-8, 1e-6, 1e-4, 1e-3]) # m/s"
   ]
  },
  {
   "cell_type": "code",
   "execution_count": 35,
   "metadata": {},
   "outputs": [
    {
     "data": {
      "text/plain": [
       "array([5.55555556e-12, 5.55555556e-10, 2.22222222e-07, 5.55555556e-06,\n",
       "       5.55555556e-04])"
      ]
     },
     "execution_count": 35,
     "metadata": {},
     "output_type": "execute_result"
    }
   ],
   "source": [
    "U_terminal"
   ]
  },
  {
   "cell_type": "code",
   "execution_count": 36,
   "metadata": {},
   "outputs": [],
   "source": [
    "Brownian = brownian_force(T, r)\n",
    "Viscous = viscous_force(r, U)\n",
    "Inertial = inertial_force(r, U, rho_p)\n",
    "Gravitational = gravitational_buoyancy_force(r, rho_p, rho_f)"
   ]
  },
  {
   "cell_type": "code",
   "execution_count": 37,
   "metadata": {},
   "outputs": [],
   "source": [
    "DF = {\"Brownian/viscous\" : np.log10(Brownian/Viscous).astype(int),\n",
    "      \"Gravitational/viscous\" : np.log10(abs(Gravitational/Viscous)).astype(int),\n",
    "      \"inertial/viscous\" : np.log10(Inertial/Viscous).astype(int)}\n",
    "\n",
    "# saving in log10"
   ]
  },
  {
   "cell_type": "code",
   "execution_count": 38,
   "metadata": {},
   "outputs": [],
   "source": [
    "scalling_ananlysis = pd.DataFrame(DF, index = r)"
   ]
  },
  {
   "cell_type": "code",
   "execution_count": 39,
   "metadata": {},
   "outputs": [
    {
     "data": {
      "text/html": [
       "<div>\n",
       "<style scoped>\n",
       "    .dataframe tbody tr th:only-of-type {\n",
       "        vertical-align: middle;\n",
       "    }\n",
       "\n",
       "    .dataframe tbody tr th {\n",
       "        vertical-align: top;\n",
       "    }\n",
       "\n",
       "    .dataframe thead th {\n",
       "        text-align: right;\n",
       "    }\n",
       "</style>\n",
       "<table border=\"1\" class=\"dataframe\">\n",
       "  <thead>\n",
       "    <tr style=\"text-align: right;\">\n",
       "      <th></th>\n",
       "      <th>5.000000e-09</th>\n",
       "      <th>5.000000e-08</th>\n",
       "      <th>1.000000e-06</th>\n",
       "      <th>5.000000e-06</th>\n",
       "      <th>5.000000e-05</th>\n",
       "    </tr>\n",
       "  </thead>\n",
       "  <tbody>\n",
       "    <tr>\n",
       "      <th>Brownian/viscous</th>\n",
       "      <td>9</td>\n",
       "      <td>5</td>\n",
       "      <td>0</td>\n",
       "      <td>-2</td>\n",
       "      <td>-5</td>\n",
       "    </tr>\n",
       "    <tr>\n",
       "      <th>Gravitational/viscous</th>\n",
       "      <td>0</td>\n",
       "      <td>0</td>\n",
       "      <td>0</td>\n",
       "      <td>0</td>\n",
       "      <td>0</td>\n",
       "    </tr>\n",
       "    <tr>\n",
       "      <th>inertial/viscous</th>\n",
       "      <td>-12</td>\n",
       "      <td>-9</td>\n",
       "      <td>-6</td>\n",
       "      <td>-3</td>\n",
       "      <td>-1</td>\n",
       "    </tr>\n",
       "  </tbody>\n",
       "</table>\n",
       "</div>"
      ],
      "text/plain": [
       "                       5.000000e-09  5.000000e-08  1.000000e-06  5.000000e-06  \\\n",
       "Brownian/viscous                  9             5             0            -2   \n",
       "Gravitational/viscous             0             0             0             0   \n",
       "inertial/viscous                -12            -9            -6            -3   \n",
       "\n",
       "                       5.000000e-05  \n",
       "Brownian/viscous                 -5  \n",
       "Gravitational/viscous             0  \n",
       "inertial/viscous                 -1  "
      ]
     },
     "execution_count": 39,
     "metadata": {},
     "output_type": "execute_result"
    }
   ],
   "source": [
    "scalling_ananlysis.T"
   ]
  },
  {
   "cell_type": "markdown",
   "metadata": {},
   "source": []
  },
  {
   "cell_type": "code",
   "execution_count": 40,
   "metadata": {},
   "outputs": [],
   "source": [
    "scalling_ananlysis.to_latex('scalling_ananlysis.tex')\n"
   ]
  },
  {
   "cell_type": "code",
   "execution_count": null,
   "metadata": {},
   "outputs": [],
   "source": []
  }
 ],
 "metadata": {
  "kernelspec": {
   "display_name": "Python 3",
   "language": "python",
   "name": "python3"
  },
  "language_info": {
   "codemirror_mode": {
    "name": "ipython",
    "version": 3
   },
   "file_extension": ".py",
   "mimetype": "text/x-python",
   "name": "python",
   "nbconvert_exporter": "python",
   "pygments_lexer": "ipython3",
   "version": "3.11.6"
  },
  "orig_nbformat": 4
 },
 "nbformat": 4,
 "nbformat_minor": 2
}
