{
 "cells": [
  {
   "cell_type": "code",
   "execution_count": 190,
   "id": "7016fa7d",
   "metadata": {},
   "outputs": [
    {
     "data": {
      "text/plain": [
       "frag_vec (generic function with 1 method)"
      ]
     },
     "execution_count": 190,
     "metadata": {},
     "output_type": "execute_result"
    }
   ],
   "source": [
    "function frag_vec(n, dt,  fragmentation_timescale, mode)\n",
    "    \n",
    "    fragmentation_mode = ones(n)\n",
    "    frag_prob = exp(-abs(dt)/(fragmentation_timescale))\n",
    "    frag_prob = ones(n)*frag_prob\n",
    "    rnd_num = rand(n)\n",
    "    \n",
    "    truth = rnd_num  .> frag_prob\n",
    "    \n",
    "    if mode == \"rand\"\n",
    "        fragmentation_mode = rand(n).*truth + .!truth\n",
    "        \n",
    "    elseif mode == \"Mika\"\n",
    "        raw_mode = rand([8, 4, 2, 1], n) #p=np.array([8/14.5, 4/14.5, 2/14.5, 0.5/14.5])) # FIX this!!\n",
    "        fragmentation_mode = 1 ./raw_mode.*truth + .!truth\n",
    "    \n",
    "    end\n",
    "    \n",
    "    return fragmentation_mode\n",
    "end"
   ]
  },
  {
   "cell_type": "code",
   "execution_count": 187,
   "id": "d9e7826d",
   "metadata": {},
   "outputs": [
    {
     "name": "stdout",
     "output_type": "stream",
     "text": [
      "Bool[0, 0, 0, 0, 0, 0, 0, 0, 0, 0]"
     ]
    },
    {
     "data": {
      "text/plain": [
       "10-element Vector{Float64}:\n",
       " 1.0\n",
       " 1.0\n",
       " 1.0\n",
       " 1.0\n",
       " 1.0\n",
       " 1.0\n",
       " 1.0\n",
       " 1.0\n",
       " 1.0\n",
       " 1.0"
      ]
     },
     "execution_count": 187,
     "metadata": {},
     "output_type": "execute_result"
    }
   ],
   "source": [
    "a = frag_vec(10, 0.1, 100, \"Mika\")"
   ]
  },
  {
   "cell_type": "code",
   "execution_count": 169,
   "id": "78378929",
   "metadata": {},
   "outputs": [
    {
     "data": {
      "text/plain": [
       "sinkingVelocity (generic function with 1 method)"
      ]
     },
     "execution_count": 169,
     "metadata": {},
     "output_type": "execute_result"
    }
   ],
   "source": [
    "function sinkingVelocity(radius, β, ν)\n",
    "    alpha = radius\n",
    "    g = 9.81\n",
    "  \n",
    "    tau_p = alpha.^2/(3*β*ν)\n",
    "    \n",
    "    v_s = (1 - β)*g*tau_p\n",
    "    \n",
    "    return v_s\n",
    "    \n",
    "end"
   ]
  },
  {
   "cell_type": "code",
   "execution_count": 182,
   "id": "c13e70ac",
   "metadata": {},
   "outputs": [
    {
     "data": {
      "text/plain": [
       "3-element Vector{Float64}:\n",
       " 81749.99999999999\n",
       " 81749.99999999999\n",
       " 81749.99999999999"
      ]
     },
     "execution_count": 182,
     "metadata": {},
     "output_type": "execute_result"
    }
   ],
   "source": [
    "sinkingVelocity([1,1,1], 0.8, 1e-6)*.1"
   ]
  },
  {
   "cell_type": "code",
   "execution_count": 203,
   "id": "ccbc5fb9",
   "metadata": {
    "scrolled": false
   },
   "outputs": [],
   "source": [
    "# parameters\n",
    "r = 5e-5 # 100nm\n",
    "k = 0\n",
    "sim_time = 1000 #365*10\n",
    "N = sim_time + 1\n",
    "V = 4/3 *π*r^3\n",
    "mode = 1/2\n",
    "frag_timescale = 5000\n",
    "frag_mode = 1/2\n",
    "k = 0\n",
    "particles = 10000\n",
    "initial_depth = 2000\n",
    "depth_lim = 1500\n",
    "diameter_lim = 1e-3\n",
    "β = 0.8\n",
    "ν = 1e-6\n",
    "\n",
    "# Da Arrais\n",
    "time = LinRange(0, sim_time, N)\n",
    "dt = time[2] - time[1]\n",
    "\n",
    "lengthxx = zeros(particles)\n",
    "depthxx = zeros(particles) .+ initial_depth\n",
    "agexx = zeros(particles)\n",
    "\n",
    "lengthxx[:] .= r\n",
    "online = sum(depthxx .> depth_lim)\n",
    "\n",
    "i = 0\n",
    "while online != 0\n",
    "    truth = depthxx .> depth_lim\n",
    "    length_lim = lengthxx .< diameter_lim\n",
    "    \n",
    "    depthxx = depthxx - sinkingVelocity(lengthxx, β, ν)*dt.*truth\n",
    "    modexx = frag_vec(particles, dt, frag_timescale, \"Mika\")\n",
    "    lengthxx = lengthxx.*(1 .+ (1 ./modexx .- 1).*length_lim)\n",
    "    agexx = agexx + 1 .*truth\n",
    "    online = sum(truth)\n",
    "    i += 1\n",
    "end"
   ]
  },
  {
   "cell_type": "code",
   "execution_count": 204,
   "id": "a50473c8",
   "metadata": {},
   "outputs": [
    {
     "data": {
      "text/plain": [
       "10000-element Vector{Float64}:\n",
       " 11735.0\n",
       "  8171.0\n",
       "  7645.0\n",
       "  6032.0\n",
       " 20325.0\n",
       "  6868.0\n",
       " 15595.0\n",
       " 20389.0\n",
       " 17148.0\n",
       " 15717.0\n",
       "  7746.0\n",
       " 14078.0\n",
       " 17375.0\n",
       "     ⋮\n",
       "  2452.0\n",
       " 16032.0\n",
       " 16152.0\n",
       " 23974.0\n",
       "  1196.0\n",
       " 12679.0\n",
       " 14493.0\n",
       " 13326.0\n",
       "  5386.0\n",
       "  4967.0\n",
       "  3960.0\n",
       "  6597.0"
      ]
     },
     "execution_count": 204,
     "metadata": {},
     "output_type": "execute_result"
    }
   ],
   "source": [
    "agexx"
   ]
  },
  {
   "cell_type": "code",
   "execution_count": 153,
   "id": "7697ee39",
   "metadata": {},
   "outputs": [
    {
     "data": {
      "text/plain": [
       "1000-element LinRange{Float64, Int64}:\n",
       " 0.0,0.01001,0.02002,0.03003,0.04004,…,9.95996,9.96997,9.97998,9.98999,10.0"
      ]
     },
     "execution_count": 153,
     "metadata": {},
     "output_type": "execute_result"
    }
   ],
   "source": [
    "LinRange(0, 10, 1000) "
   ]
  },
  {
   "cell_type": "code",
   "execution_count": null,
   "id": "c5e17c82",
   "metadata": {},
   "outputs": [],
   "source": []
  }
 ],
 "metadata": {
  "kernelspec": {
   "display_name": "Julia 1.7.0",
   "language": "julia",
   "name": "julia-1.7"
  },
  "language_info": {
   "file_extension": ".jl",
   "mimetype": "application/julia",
   "name": "julia",
   "version": "1.7.0"
  }
 },
 "nbformat": 4,
 "nbformat_minor": 5
}
