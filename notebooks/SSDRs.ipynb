{
 "cells": [
  {
   "cell_type": "markdown",
   "id": "b2f6356e-61a6-4f9e-895d-ad64583cf5fd",
   "metadata": {},
   "source": [
    "# Degradation Rates\n",
    "\n",
    "$$ - \\frac{dm}{dt} = k_d \\rho SA$$\n",
    "\n",
    "- $m$ is the mass\n",
    "- $k_d$ is the specific surface degradation rate (SSDR)\n",
    "- $\\rho$ is the density\n",
    "- $SA$ is the surface area\n",
    "\n",
    "My main idea is to compute this rate from my fragmenting scheme, as a quantification of the degradation timescales."
   ]
  },
  {
   "cell_type": "markdown",
   "id": "d2454fed-cb9b-4118-a920-da5c49941f6b",
   "metadata": {},
   "source": [
    "How to compute the $SA$? \n",
    "Because the particles are squares: $$SA = 6L^2$$\n",
    "\n",
    "Mass $m$ is \n",
    "\n",
    "$$m = \\rho L^3$$"
   ]
  },
  {
   "cell_type": "markdown",
   "id": "c498a030-b43d-475a-94e6-69b723984c81",
   "metadata": {},
   "source": [
    "assuming that $\\rho$ is a constant and discretizing the first equation:"
   ]
  },
  {
   "cell_type": "markdown",
   "id": "e3864355-d842-4f2f-88d2-1c3a19b28cf7",
   "metadata": {},
   "source": [
    "$$- \\frac{m_{i+1} - m_{i}}{dt} = k_d \\rho SA_i$$\n",
    "\n",
    "Me can compute $k_d$ for the data\n",
    "\n",
    "$$k_d[i] = -\\frac{1}{\\rho dt} \\frac{m[i+1] - m[i]}{SA[i]}$$\n"
   ]
  },
  {
   "cell_type": "code",
   "execution_count": 54,
   "id": "7ce2c35f-77d4-4528-a41b-5c9e8493dc6b",
   "metadata": {},
   "outputs": [],
   "source": [
    "import numpy as np\n",
    "import matplotlib.pyplot as plt\n",
    "import xarray as xr\n",
    "from tqdm import tqdm"
   ]
  },
  {
   "cell_type": "code",
   "execution_count": 55,
   "id": "6140bdc6-7b85-46cb-a708-1350ade568b9",
   "metadata": {},
   "outputs": [],
   "source": [
    "time_scales = [10] + [i for i in range(100, 600, 100)] + [1000, 10000]"
   ]
  },
  {
   "cell_type": "code",
   "execution_count": 56,
   "id": "adcd2311-5683-43d4-a444-65776eb419e2",
   "metadata": {},
   "outputs": [
    {
     "name": "stdout",
     "output_type": "stream",
     "text": [
      "/storage/shared/oceanparcels/output_data/data_Claudio/set_19/set19_10.zarr/\n",
      "/storage/shared/oceanparcels/output_data/data_Claudio/set_19/set19_100.zarr/\n",
      "/storage/shared/oceanparcels/output_data/data_Claudio/set_19/set19_200.zarr/\n",
      "/storage/shared/oceanparcels/output_data/data_Claudio/set_19/set19_300.zarr/\n",
      "/storage/shared/oceanparcels/output_data/data_Claudio/set_19/set19_400.zarr/\n",
      "/storage/shared/oceanparcels/output_data/data_Claudio/set_19/set19_500.zarr/\n",
      "/storage/shared/oceanparcels/output_data/data_Claudio/set_19/set19_1000.zarr/\n",
      "/storage/shared/oceanparcels/output_data/data_Claudio/set_19/set19_10000.zarr/\n"
     ]
    }
   ],
   "source": [
    "for scale in time_scales:\n",
    "    path = f'/storage/shared/oceanparcels/output_data/data_Claudio/set_19/set19_{scale}.zarr/'\n",
    "    print(path)"
   ]
  },
  {
   "cell_type": "code",
   "execution_count": 96,
   "id": "a994656f-4ed6-430c-aeda-dfca6e100039",
   "metadata": {},
   "outputs": [
    {
     "name": "stderr",
     "output_type": "stream",
     "text": [
      "100%|█████████████████████████████████████████████| 8/8 [01:52<00:00, 14.12s/it]\n"
     ]
    }
   ],
   "source": [
    "ρ = 1380 #kg/m3\n",
    "dt = 24*60*60\n",
    "\n",
    "frag_stats = {}\n",
    "for scale in tqdm(time_scales):\n",
    "    path = f'/storage/shared/oceanparcels/output_data/data_Claudio/set_19/set19_{scale}.zarr/'\n",
    "    aux_dict = {}\n",
    "    \n",
    "    sim = xr.open_zarr(path)\n",
    "    sim = sim.compute()\n",
    "\n",
    "    observations = sim.dims['obs']\n",
    "    time = sim['time'][0,:]\n",
    "\n",
    "    L  = sim['diameter'].values #np.ma.masked_greater(sim['diameter'].values, 1e-3)\n",
    "    L_mask = np.ma.masked_where(L > 1e-3, L)\n",
    "\n",
    "    SA = np.ma.masked_where(L > 1e-3, 6*L**2)\n",
    "    mass = np.ma.masked_where(L > 1e-3, ρ*L**3)\n",
    "    \n",
    "    \n",
    "\n",
    "    aux_dict['mean_length'] = L_mask.mean(axis=0).data\n",
    "    aux_dict['std_length'] = L_mask.std(axis=0).data\n",
    "\n",
    "    sa = SA.mean(axis=0).data\n",
    "    aux_dict['mean_SA'] = sa\n",
    "    aux_dict['std_SA'] = SA.std(axis=0).data\n",
    "    \n",
    "    m = mass.mean(axis=0).data\n",
    "    aux_dict['mean_mass'] = m\n",
    "    aux_dict['std_mass'] = mass.std(axis=0).data\n",
    "    \n",
    "    k_d = (m - np.roll(m, -1))/(sa*dt*ρ) *1e6*3.15576e+7\n",
    "    aux_dict['k_d'] = np.nanmean(k_d)\n",
    "    aux_dict['k_d_std'] = np.nanstd(k_d)\n",
    "    \n",
    "    frag_stats[scale] = aux_dict\n",
    "    "
   ]
  },
  {
   "cell_type": "markdown",
   "id": "2d8ae314-c3c5-4b9c-afd4-593ae89ad58f",
   "metadata": {},
   "source": [
    "$$k_d [\\frac{\\mu m}{year}]= \\frac{m}{s} \\  \\frac{1e6 \\mu m}{1 m } \\ \\frac{3.15576e+7 s}{1 year } \\pm$$"
   ]
  },
  {
   "cell_type": "code",
   "execution_count": 128,
   "id": "a53fc318-6590-412a-b1fe-40993aabe44f",
   "metadata": {},
   "outputs": [
    {
     "data": {
      "text/plain": [
       "(array([   0,    0,    0, ..., 9999, 9999, 9999]),\n",
       " array([   0,    1,    2, ..., 4853, 4854, 4855]))"
      ]
     },
     "execution_count": 128,
     "metadata": {},
     "output_type": "execute_result"
    }
   ],
   "source": [
    "np.where(L < 1e-3)"
   ]
  },
  {
   "cell_type": "code",
   "execution_count": 102,
   "id": "ac27020c-54ca-4858-baf1-07ef5338382e",
   "metadata": {},
   "outputs": [
    {
     "data": {
      "text/plain": [
       "masked_array(data=[1.50000488e-14, 1.50000488e-14, 1.50000488e-14, ...,\n",
       "                              nan,            nan,            nan],\n",
       "             mask=False,\n",
       "       fill_value=1e+20)"
      ]
     },
     "execution_count": 102,
     "metadata": {},
     "output_type": "execute_result"
    }
   ],
   "source": [
    "SA.min(axis=0)"
   ]
  },
  {
   "cell_type": "code",
   "execution_count": 99,
   "id": "79a811c3-6949-42c7-9f6c-7073114ca26a",
   "metadata": {},
   "outputs": [
    {
     "name": "stdout",
     "output_type": "stream",
     "text": [
      "10 :  -14317.356447334416 ± 49619.10128697349\n",
      "100 :  -17457.44646814041 ± 207700.815037309\n",
      "200 :  -1008.3631081025832 ± 7085.82233838957\n",
      "300 :  -2076.1545588103204 ± 28828.373991449105\n",
      "400 :  -668.7764030654424 ± 7548.456457893963\n",
      "500 :  -332.5478253629829 ± 2257.306466919402\n",
      "1000 :  -128.52727319012055 ± 1309.0298391631372\n",
      "10000 :  -31.0942180933871 ± 1434.7837102794385\n"
     ]
    }
   ],
   "source": [
    "for scale in time_scales:\n",
    "    print(scale, ': ', frag_stats[scale]['k_d'], '±', frag_stats[scale]['k_d_std'])"
   ]
  },
  {
   "cell_type": "code",
   "execution_count": 68,
   "id": "76c1a37b-7fbf-4752-8b6d-0f2cf8d298bf",
   "metadata": {},
   "outputs": [
    {
     "data": {
      "text/plain": [
       "array([2.18454167e-14, 1.83210401e-13, 3.60546427e-13, ...,\n",
       "                  nan,            nan, 1.77744581e-19])"
      ]
     },
     "execution_count": 68,
     "metadata": {},
     "output_type": "execute_result"
    }
   ],
   "source": [
    "np.roll(m, -1)"
   ]
  },
  {
   "cell_type": "code",
   "execution_count": 106,
   "id": "000be6d5-49b2-41e4-a714-5dc91efb34f2",
   "metadata": {},
   "outputs": [
    {
     "data": {
      "text/plain": [
       "<matplotlib.legend.Legend at 0x7fe3b7856040>"
      ]
     },
     "execution_count": 106,
     "metadata": {},
     "output_type": "execute_result"
    },
    {
     "data": {
      "image/png": "[encoded data removed]",
      "text/plain": [
       "<Figure size 432x288 with 1 Axes>"
      ]
     },
     "metadata": {
      "needs_background": "light"
     },
     "output_type": "display_data"
    }
   ],
   "source": [
    "for scale in time_scales:\n",
    "    y = frag_stats[scale]['mean_SA']\n",
    "#     y_err = std_length\n",
    "    plt.plot(time, y, label=scale)\n",
    "    \n",
    "# plt.fill_between(time, y - y_err, y + y_err, alpha=0.3)\n",
    "plt.semilogy()\n",
    "plt.legend()"
   ]
  },
  {
   "cell_type": "code",
   "execution_count": null,
   "id": "cf0bfb06-3b3f-4457-9760-07ab822d5377",
   "metadata": {},
   "outputs": [],
   "source": []
  },
  {
   "cell_type": "code",
   "execution_count": 26,
   "id": "3c6d4da1-d612-4fde-9f62-ffec02d163c8",
   "metadata": {},
   "outputs": [
    {
     "data": {
      "text/plain": [
       "[]"
      ]
     },
     "execution_count": 26,
     "metadata": {},
     "output_type": "execute_result"
    },
    {
     "data": {
      "image/png": "[encoded data removed]",
      "text/plain": [
       "<Figure size 432x288 with 1 Axes>"
      ]
     },
     "metadata": {
      "needs_background": "light"
     },
     "output_type": "display_data"
    }
   ],
   "source": [
    "y = mean_SA\n",
    "y_err = std_SA\n",
    "plt.plot(time, y)\n",
    "plt.fill_between(time, y - y_err, y + y_err, alpha=0.3)\n",
    "plt.semilogy()"
   ]
  },
  {
   "cell_type": "code",
   "execution_count": 30,
   "id": "82af76ef-a561-4af9-a3da-3126794eec2c",
   "metadata": {},
   "outputs": [
    {
     "data": {
      "text/plain": [
       "[]"
      ]
     },
     "execution_count": 30,
     "metadata": {},
     "output_type": "execute_result"
    },
    {
     "data": {
      "image/png": "[encoded data removed]",
      "text/plain": [
       "<Figure size 432x288 with 1 Axes>"
      ]
     },
     "metadata": {
      "needs_background": "light"
     },
     "output_type": "display_data"
    }
   ],
   "source": [
    "y = mean_mass\n",
    "y_err = std_mass\n",
    "plt.scatter(time, y)\n",
    "plt.fill_between(time, y - y_err, y + y_err, alpha=0.3)\n",
    "plt.semilogy()"
   ]
  },
  {
   "cell_type": "code",
   "execution_count": null,
   "id": "f529a283-d843-454d-9a24-5841bb9566ec",
   "metadata": {},
   "outputs": [],
   "source": []
  }
 ],
 "metadata": {
  "kernelspec": {
   "display_name": "Python 3 (ipykernel)",
   "language": "python",
   "name": "python3"
  },
  "language_info": {
   "codemirror_mode": {
    "name": "ipython",
    "version": 3
   },
   "file_extension": ".py",
   "mimetype": "text/x-python",
   "name": "python",
   "nbconvert_exporter": "python",
   "pygments_lexer": "ipython3",
   "version": "3.8.11"
  }
 },
 "nbformat": 4,
 "nbformat_minor": 5
}
