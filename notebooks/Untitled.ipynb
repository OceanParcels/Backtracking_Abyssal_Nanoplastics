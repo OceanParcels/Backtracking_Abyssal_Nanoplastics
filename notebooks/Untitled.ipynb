{
 "cells": [
  {
   "cell_type": "code",
   "execution_count": 3,
   "id": "de854b2c",
   "metadata": {},
   "outputs": [
    {
     "name": "stdout",
     "output_type": "stream",
     "text": [
      "Base.IOError(\"could not spawn `gmt --version`: no such file or directory (ENOENT)\", -2)\n"
     ]
    },
    {
     "name": "stderr",
     "output_type": "stream",
     "text": [
      "┌ Info: Precompiling GMT [5752ebe1-31b9-557e-87aa-f909b540aa54]\n",
      "└ @ Base loading.jl:1278\n",
      "   Building Conda → `~/.julia/packages/Conda/sNGum/deps/build.log`\n",
      "   Building GMT ──→ `~/.julia/packages/GMT/86yOO/deps/build.log`\n"
     ]
    }
   ],
   "source": [
    "using GMT"
   ]
  },
  {
   "cell_type": "code",
   "execution_count": null,
   "id": "2d5d0e3c",
   "metadata": {},
   "outputs": [],
   "source": [
    "# topo = makecpt(color=:plasma, range=(-6000,0,1500), continuous=true);\n",
    "# grdimage(\"../bathy/gebco_2020_n45.0_s30.0_w-40.0_e-25.0.nc\",\n",
    "#     shade=(azimuth=250, norm=\"e0.9\"), \n",
    "#     J=:M3i, \n",
    "#     frame=(axes=:WSen, annot=5, ticks=1,grid=2))\n",
    "\n",
    "# pscoast!(land=\"grey\")\n",
    "# psxy!(\"../bathy/pb2002_boundaries.gmt\", lw=0.8)\n",
    "# basemap!(map_scale=\"jBR+c37.20+w500+f+o0.4/0.5+l\")\n",
    "# scatter!([-32.3 37.275], fill=:green, marker=:star, markersize=0.2)\n",
    "# colorbar!(pos=(anchor=:BC, length=(7.5,0.6), horizontal=true, offset=(0,1.0)), \n",
    "#     frame=(ylabel=:m,), \n",
    "#     show=true)\n"
   ]
  }
 ],
 "metadata": {
  "kernelspec": {
   "display_name": "Julia 1.5.2",
   "language": "julia",
   "name": "julia-1.5"
  },
  "language_info": {
   "file_extension": ".jl",
   "mimetype": "application/julia",
   "name": "julia",
   "version": "1.5.2"
  }
 },
 "nbformat": 4,
 "nbformat_minor": 5
}
