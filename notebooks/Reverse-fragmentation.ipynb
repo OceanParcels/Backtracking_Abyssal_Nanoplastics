{
 "cells": [
  {
   "cell_type": "markdown",
   "id": "2e7dc4c9",
   "metadata": {},
   "source": [
    "Implement the fragmentation scheme in reverse to 'grow' some particles.\n",
    "\n",
    "### Cozar Scheme"
   ]
  },
  {
   "cell_type": "code",
   "execution_count": 1,
   "id": "8ffc680b-c1eb-4358-8f8e-4619d0ec325f",
   "metadata": {},
   "outputs": [],
   "source": [
    "import numpy as np\n",
    "import matplotlib.pyplot as plt\n",
    "import math"
   ]
  },
  {
   "cell_type": "code",
   "execution_count": 2,
   "id": "c7477ae9",
   "metadata": {},
   "outputs": [],
   "source": [
    "def fragmentation_event(L, k, fragmentation_mode):\n",
    "    \"\"\"\n",
    "    L: lenght of cube\n",
    "    k: size class. 0 if original\n",
    "    fragmentation_mode: 1/2 if it breaks in two in a fragmentation event.\n",
    "    \"\"\"\n",
    "    new_L = L*fragmentation_mode\n",
    "    k += 1\n",
    "    \n",
    "    return new_L, k"
   ]
  },
  {
   "cell_type": "code",
   "execution_count": 3,
   "id": "e42a2600",
   "metadata": {},
   "outputs": [],
   "source": [
    "def defragmentation_event(V, k, fragmentation_mode):\n",
    "    \"\"\"\n",
    "    V: volume of sphere\n",
    "    k: size class. 0 if original\n",
    "    fragmentation_mode: 1/2 if it breaks in two in a fragmentation event.\n",
    "    \"\"\"\n",
    "    new_V = V/fragmentation_mode\n",
    "    k += 1\n",
    "    \n",
    "    return new_V, k"
   ]
  },
  {
   "cell_type": "code",
   "execution_count": 85,
   "id": "95dbcae8",
   "metadata": {},
   "outputs": [],
   "source": [
    "def fragmentation(V, k, dt, fragmentation_mode, fragmentation_timescale):\n",
    "    fragmentation_prob = math.exp(-dt/(fragmentation_timescale))\n",
    "    rnd_num = np.random.rand()\n",
    "    if rnd_num > fragmentation_prob:\n",
    "        V, k = defragmentation_event(V, k, fragmentation_mode)\n",
    "        \n",
    "    return V, k "
   ]
  },
  {
   "cell_type": "code",
   "execution_count": null,
   "id": "edcd5e36-802c-481b-95a9-677942528b27",
   "metadata": {},
   "outputs": [],
   "source": []
  },
  {
   "cell_type": "code",
   "execution_count": 86,
   "id": "38444e75-16e7-4e67-94ab-71cfea3f9b0c",
   "metadata": {},
   "outputs": [
    {
     "data": {
      "text/plain": [
       "0.9047468482529376"
      ]
     },
     "execution_count": 86,
     "metadata": {},
     "output_type": "execute_result"
    }
   ],
   "source": [
    "np.exp(-dt/10)"
   ]
  },
  {
   "cell_type": "code",
   "execution_count": 89,
   "id": "4fdb1553-eb48-4b23-9f37-24a23c5a70e5",
   "metadata": {},
   "outputs": [
    {
     "name": "stdout",
     "output_type": "stream",
     "text": [
      "-0.020020020020020023\n"
     ]
    }
   ],
   "source": [
    "r = 5e-5 # 100nm\n",
    "k = 0\n",
    "sim_time = 1000 #365*10\n",
    "N = sim_time\n",
    "V = 4/3 * np.pi*r**3\n",
    "mode = 1/2\n",
    "frag_timescale = 50\n",
    "frag_mode = 1/2\n",
    "k = 0\n",
    "\n",
    "time = np.linspace(0, sim_time, N)\n",
    "dt = time[1] - time[0]\n",
    "\n",
    "radiuses = np.zeros(N)\n",
    "volumes = np.zeros(N)\n",
    "\n",
    "radiuses[0] = r\n",
    "volumes[0] = V\n",
    "print(-dt/(frag_timescale))\n",
    "\n",
    "for i, t in enumerate(time):\n",
    "    V, k = fragmentation(V, k, dt, frag_mode, frag_timescale)\n",
    "    volumes[i] = V\n",
    "    radiuses[i] = np.cbrt(3*V/(4*np.pi))\n",
    "    "
   ]
  },
  {
   "cell_type": "code",
   "execution_count": 90,
   "id": "5d6611a3-2c37-4803-8379-77be564332dc",
   "metadata": {},
   "outputs": [
    {
     "data": {
      "text/plain": [
       "Text(0.5, 1.0, 'Fragmentation timescale = 100 . Mode = 0.5')"
      ]
     },
     "execution_count": 90,
     "metadata": {},
     "output_type": "execute_result"
    },
    {
     "data": {
      "image/png": "[encoded data removed]",
      "text/plain": [
       "<Figure size 432x288 with 1 Axes>"
      ]
     },
     "metadata": {
      "needs_background": "light"
     },
     "output_type": "display_data"
    }
   ],
   "source": [
    "plt.semilogy(time, radiuses)\n",
    "plt.xlabel('Days')\n",
    "plt.ylabel('Radius (m)')\n",
    "plt.title('Fragmentation timescale = 100 . Mode = 0.5')"
   ]
  },
  {
   "cell_type": "code",
   "execution_count": 16,
   "id": "8379973c",
   "metadata": {},
   "outputs": [
    {
     "data": {
      "text/plain": [
       "10"
      ]
     },
     "execution_count": 16,
     "metadata": {},
     "output_type": "execute_result"
    }
   ],
   "source": [
    "int('10')"
   ]
  },
  {
   "cell_type": "code",
   "execution_count": null,
   "id": "490cffd2-dc41-4628-9077-f77c293290bf",
   "metadata": {},
   "outputs": [],
   "source": []
  }
 ],
 "metadata": {
  "kernelspec": {
   "display_name": "Python 3 (ipykernel)",
   "language": "python",
   "name": "python3"
  },
  "language_info": {
   "codemirror_mode": {
    "name": "ipython",
    "version": 3
   },
   "file_extension": ".py",
   "mimetype": "text/x-python",
   "name": "python",
   "nbconvert_exporter": "python",
   "pygments_lexer": "ipython3",
   "version": "3.8.11"
  }
 },
 "nbformat": 4,
 "nbformat_minor": 5
}
