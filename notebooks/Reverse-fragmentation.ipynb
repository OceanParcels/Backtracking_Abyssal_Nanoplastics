{
 "cells": [
  {
   "cell_type": "markdown",
   "id": "2e7dc4c9",
   "metadata": {},
   "source": [
    "Implement the fragmentation scheme in reverse to 'grow' some particles.\n",
    "\n",
    "### Cozar Scheme"
   ]
  },
  {
   "cell_type": "code",
   "execution_count": 33,
   "id": "c7477ae9",
   "metadata": {},
   "outputs": [],
   "source": [
    "def fragmentation_event(L, k, fragmentation_mode):\n",
    "    \"\"\"\n",
    "    L: lenght of cube\n",
    "    k: size class. 0 if original\n",
    "    fragmentation_mode: 1/2 if it breaks in two in a fragmentation event.\n",
    "    \"\"\"\n",
    "    new_L = L*fragmentation_mode\n",
    "    k += 1\n",
    "    \n",
    "    return new_L, k"
   ]
  },
  {
   "cell_type": "code",
   "execution_count": 68,
   "id": "e42a2600",
   "metadata": {},
   "outputs": [],
   "source": [
    "def defragmentation_event(L, k, fragmentation_mode):\n",
    "    \"\"\"\n",
    "    L: lenght of cube\n",
    "    k: size class. 0 if original\n",
    "    fragmentation_mode: 1/2 if it breaks in two in a fragmentation event.\n",
    "    \"\"\"\n",
    "    new_L = L/fragmentation_mode\n",
    "    k += 1\n",
    "    \n",
    "    return new_L, k"
   ]
  },
  {
   "cell_type": "code",
   "execution_count": 101,
   "id": "95dbcae8",
   "metadata": {},
   "outputs": [],
   "source": [
    "L = 1e-7\n",
    "k = 0\n"
   ]
  },
  {
   "cell_type": "code",
   "execution_count": 127,
   "id": "b39facfb",
   "metadata": {},
   "outputs": [
    {
     "name": "stdout",
     "output_type": "stream",
     "text": [
      "6.7108864 26\n"
     ]
    }
   ],
   "source": [
    "L, k = defragmentation_event(L,k,1/10)\n",
    "print(L, k)"
   ]
  },
  {
   "cell_type": "code",
   "execution_count": null,
   "id": "8379973c",
   "metadata": {},
   "outputs": [],
   "source": []
  }
 ],
 "metadata": {
  "kernelspec": {
   "display_name": "Python 3",
   "language": "python",
   "name": "python3"
  },
  "language_info": {
   "codemirror_mode": {
    "name": "ipython",
    "version": 3
   },
   "file_extension": ".py",
   "mimetype": "text/x-python",
   "name": "python",
   "nbconvert_exporter": "python",
   "pygments_lexer": "ipython3",
   "version": "3.6.13"
  }
 },
 "nbformat": 4,
 "nbformat_minor": 5
}
