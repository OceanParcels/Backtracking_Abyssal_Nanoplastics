{
 "cells": [
  {
   "cell_type": "markdown",
   "id": "2e7dc4c9",
   "metadata": {},
   "source": [
    "Implement the fragmentation scheme in reverse to 'grow' some particles.\n",
    "\n",
    "### Cozar Scheme"
   ]
  },
  {
   "cell_type": "code",
   "execution_count": 1,
   "id": "8ffc680b-c1eb-4358-8f8e-4619d0ec325f",
   "metadata": {},
   "outputs": [],
   "source": [
    "import numpy as np\n",
    "import matplotlib.pyplot as plt\n",
    "import math"
   ]
  },
  {
   "cell_type": "code",
   "execution_count": 2,
   "id": "c7477ae9",
   "metadata": {},
   "outputs": [],
   "source": [
    "def fragmentation_event(L, k, fragmentation_mode):\n",
    "    \"\"\"\n",
    "    L: lenght of cube\n",
    "    k: size class. 0 if original\n",
    "    fragmentation_mode: 1/2 if it breaks in two in a fragmentation event.\n",
    "    \"\"\"\n",
    "    new_L = L*fragmentation_mode\n",
    "    k += 1\n",
    "    \n",
    "    return new_L, k"
   ]
  },
  {
   "cell_type": "code",
   "execution_count": 3,
   "id": "e42a2600",
   "metadata": {},
   "outputs": [],
   "source": [
    "def fix_mode(V, fragmentation_mode):\n",
    "    \"\"\"\n",
    "    V: volume of sphere\n",
    "    k: size class. 0 if original\n",
    "    fragmentation_mode: 1/2 if it breaks in two in a fragmentation event.\n",
    "    \"\"\"\n",
    "    new_V = V/fragmentation_mode\n",
    "   \n",
    "    return new_V\n",
    "\n",
    "def random_mode(V):\n",
    "    \"\"\"\n",
    "    V: volume of sphere\n",
    "    k: size class. 0 if original\n",
    "    fragmentation_mode: 1/2 if it breaks in two in a fragmentation event.\n",
    "    \"\"\"\n",
    "    n = V.shape[0]\n",
    "    fragmentation_mode = np.random.rand(n)\n",
    "    print(fragmentation_mode)\n",
    "    new_V = V/fragmentation_mode\n",
    "    \n",
    "    return new_V"
   ]
  },
  {
   "cell_type": "code",
   "execution_count": 25,
   "id": "ed787a39-fdfe-498f-9e84-6bf65b91ede4",
   "metadata": {},
   "outputs": [],
   "source": [
    "def frag_vec(V, dt, fragmentation_timescale, mode):\n",
    "    n = V.shape[0]\n",
    "    frag_prob = math.exp(-abs(dt)/(fragmentation_timescale))\n",
    "    \n",
    "    frag_prob = np.ones(n)*frag_prob\n",
    "    rnd_num = np.random.rand(n)\n",
    "    \n",
    "    truth = rnd_num  > frag_prob\n",
    "    \n",
    "    if mode == 'rand':\n",
    "        fragmentation_mode = np.random.rand(n)*truth + ~truth\n",
    "        V = V/fragmentation_mode\n",
    "        \n",
    "    elif mode == 'fix':\n",
    "        fragmentation_mode = 1/2*truth + ~truth\n",
    "        V = V/fragmentation_mode\n",
    "        \n",
    "    elif mode == '3D':\n",
    "        fragmentation_mode = 1/8*truth + ~truth\n",
    "        V = V/fragmentation_mode\n",
    "        \n",
    "    return V"
   ]
  },
  {
   "cell_type": "code",
   "execution_count": 26,
   "id": "95dbcae8",
   "metadata": {},
   "outputs": [],
   "source": [
    "def fragmentation(V, dt, fragmentation_timescale, mode):\n",
    "    \"\"\"\n",
    "    mode: 'rand' or 'fix'.\n",
    "    \"\"\"\n",
    "    n = V.shape[0]\n",
    "    print(n)\n",
    "    fragmentation_prob = math.exp(-dt/(fragmentation_timescale))\n",
    "    rnd_num = np.random.rand(n)\n",
    "    \n",
    "    if rnd_num > fragmentation_prob and mode == 'rand':\n",
    "        V = random_mode(V)\n",
    "        \n",
    "    elif rnd_num > fragmentation_prob and mode == 'fix':\n",
    "        V = fix_mode(V, 1/2)\n",
    "\n",
    "        \n",
    "    return V"
   ]
  },
  {
   "cell_type": "code",
   "execution_count": 27,
   "id": "08d952a5-2320-46ec-b974-fbe3fa558248",
   "metadata": {},
   "outputs": [],
   "source": [
    "def logistic_map(x, r):\n",
    "    x_1 = r*x*(1 - x)\n",
    "    \n",
    "    return x_1"
   ]
  },
  {
   "cell_type": "markdown",
   "id": "4c5760a5-d0fe-42c6-9641-569e6d1e6717",
   "metadata": {},
   "source": [
    "# Settling velocity"
   ]
  },
  {
   "cell_type": "code",
   "execution_count": 67,
   "id": "374e9025-cb98-4ba0-baca-aaf0e0c7d7c2",
   "metadata": {},
   "outputs": [
    {
     "data": {
      "text/plain": [
       "0.005"
      ]
     },
     "execution_count": 67,
     "metadata": {},
     "output_type": "execute_result"
    }
   ],
   "source": [
    "5/1000"
   ]
  },
  {
   "cell_type": "code",
   "execution_count": 77,
   "id": "9ea07902-87fe-4beb-8900-a415b05ddd2c",
   "metadata": {},
   "outputs": [],
   "source": [
    "def sinkingVelocity(radius, β, ν):\n",
    "    alpha = radius\n",
    "    g = 9.81\n",
    "  \n",
    "    tau_p = alpha*alpha/(3*β*ν)\n",
    "    \n",
    "    v_s = (1 - β)*g*tau_p\n",
    "        \n",
    "    \n",
    "    return v_s"
   ]
  },
  {
   "cell_type": "markdown",
   "id": "01575367-f149-461d-aa24-3815f28feaf1",
   "metadata": {},
   "source": [
    "# Experiment "
   ]
  },
  {
   "cell_type": "code",
   "execution_count": 74,
   "id": "9a904561-da38-4dc7-a554-5d290fb66fe8",
   "metadata": {},
   "outputs": [
    {
     "data": {
      "text/plain": [
       "array([False, False, False, False, False, False, False, False, False,\n",
       "       False, False, False, False, False, False, False, False, False,\n",
       "       False, False, False, False, False, False, False, False, False,\n",
       "       False, False, False, False, False, False, False, False, False,\n",
       "       False, False, False, False])"
      ]
     },
     "execution_count": 74,
     "metadata": {},
     "output_type": "execute_result"
    }
   ],
   "source": [
    "np.zeros(40) > 2"
   ]
  },
  {
   "cell_type": "code",
   "execution_count": 69,
   "id": "c847801f-1078-4fec-a4f7-84ffbbe19d42",
   "metadata": {},
   "outputs": [
    {
     "data": {
      "text/plain": [
       "array([10.,  9.,  8.,  7.,  6.,  5.,  4.,  3.,  2.,  1.,  0.])"
      ]
     },
     "execution_count": 69,
     "metadata": {},
     "output_type": "execute_result"
    }
   ],
   "source": [
    "np.linspace(10, 0, 11)"
   ]
  },
  {
   "cell_type": "code",
   "execution_count": 102,
   "id": "4fdb1553-eb48-4b23-9f37-24a23c5a70e5",
   "metadata": {},
   "outputs": [],
   "source": [
    "r = 5e-8 # 100nm\n",
    "k = 0\n",
    "sim_time = 1000 #365*10\n",
    "N = sim_time + 1\n",
    "V = 4/3 * np.pi*r**3\n",
    "mode = 1/2\n",
    "frag_timescale = 800\n",
    "frag_mode = 1/2\n",
    "k = 0\n",
    "particles = 10000\n",
    "initial_depth = 5000\n",
    "\n",
    "time = np.linspace(0, sim_time, N)\n",
    "dt = time[1] - time[0]\n",
    "\n",
    "radiuses_rand = np.zeros((particles, N))\n",
    "volumes_rand = np.zeros((particles, N))\n",
    "\n",
    "radiuses_fix = np.zeros((particles, N))\n",
    "volumes_fix = np.zeros((particles, N))\n",
    "\n",
    "length_3d = np.zeros((particles, N))\n",
    "volumes_3d = np.zeros((particles, N))\n",
    "depth_3d = np.zeros((particles, N)) + 5000\n",
    "\n",
    "radiuses_rand[:, 0] = r\n",
    "volumes_rand[:, 0] = V\n",
    "\n",
    "radiuses_fix[:, 0] = r\n",
    "volumes_fix[:, 0] = V\n",
    "\n",
    "length_3d[:, 0] = r\n",
    "volumes_3d[:, 0] = (r)**3\n",
    "\n",
    "for i in range(N-1):\n",
    "    vr = volumes_rand[:, i]\n",
    "    vf = volumes_fix[:, i]\n",
    "    volumes_rand[:, i+1] = frag_vec(vr , dt, frag_timescale, 'rand')\n",
    "    volumes_fix[:, i+1] = frag_vec(vf, dt, frag_timescale, 'fix')\n",
    "    \n",
    "    radiuses_rand[:, i+1] = np.cbrt(3*volumes_rand[:, i+1]/(4*np.pi))\n",
    "    radiuses_fix[:, i+1] = np.cbrt(3*volumes_fix[:, i+1]/(4*np.pi))\n",
    "    \n",
    "    l = length_3d[:, i]\n",
    "    depth_3d[:, i+1] = depth_3d[:, i] - sinkingVelocity(l, 0.8, 1e-6)*dt\n",
    "    \n",
    "    length_3d[:, i+1] = frag_vec(l, dt, frag_timescale, '3D')\n",
    "    volumes_3d[:, i+1] = length_3d[:, i+1]**3"
   ]
  },
  {
   "cell_type": "code",
   "execution_count": 105,
   "id": "3aba0d1b-4557-4f58-9788-fd82b93fe296",
   "metadata": {},
   "outputs": [],
   "source": [
    "mean_rand = np.mean(radiuses_rand, axis=0)\n",
    "mean_vol_rand = np.mean(volumes_rand, axis=0)\n",
    "\n",
    "mean_fix = np.mean(radiuses_fix, axis=0)\n",
    "mean_vol_fix = np.mean(volumes_fix, axis=0)\n",
    "\n",
    "mean_3D = np.mean(length_3d, axis=0)\n",
    "mean_vol_3D = np.mean(volumes_3d, axis=0)\n",
    "\n",
    "mean_depth = np.mean(depth_3d, axis=0)\n",
    "std_depth = np.std(depth_3d, axis=0)\n"
   ]
  },
  {
   "cell_type": "code",
   "execution_count": 110,
   "id": "4e0c0dc0-c1f4-4a25-a8dc-68f882d41cc3",
   "metadata": {},
   "outputs": [
    {
     "data": {
      "image/png": "[encoded data removed]",
      "text/plain": [
       "<Figure size 432x288 with 1 Axes>"
      ]
     },
     "metadata": {
      "needs_background": "light"
     },
     "output_type": "display_data"
    }
   ],
   "source": [
    "# plt.plot(time, mean_depth);\n",
    "plt.plot(time, std_depth);\n",
    "# plt.fill_between(time, mean_depth + std_depth, mean_depth, alpha=0.2, color='orange')\n",
    "# plt.fill_between(time, mean_depth , mean_depth - std_depth, alpha=0.2, color='orange')"
   ]
  },
  {
   "cell_type": "code",
   "execution_count": 89,
   "id": "b31af788-74c5-41a4-854c-39836caf6103",
   "metadata": {},
   "outputs": [
    {
     "data": {
      "text/plain": [
       "[]"
      ]
     },
     "execution_count": 89,
     "metadata": {},
     "output_type": "execute_result"
    },
    {
     "data": {
      "image/png": "[encoded data removed]",
      "text/plain": [
       "<Figure size 432x288 with 1 Axes>"
      ]
     },
     "metadata": {
      "needs_background": "light"
     },
     "output_type": "display_data"
    }
   ],
   "source": [
    "plt.plot(time, mean_rand, label=r'Rand')\n",
    "# plt.fill_between(time, mean_rand + std_rand, mean_rand, alpha=0.2, color='b')\n",
    "# plt.fill_between(time, mean_rand , mean_rand - std_rand, alpha=0.2, color='b')\n",
    "\n",
    "plt.plot(time, mean_fix, label=r'Fix')\n",
    "# plt.fill_between(time, mean_fix + std_fix, mean_fix, alpha=0.2, color='orange')\n",
    "# plt.fill_between(time, mean_fix , mean_fix - std_fix, alpha=0.2, color='orange')\n",
    "\n",
    "plt.plot(time, mean_3D, label='3D')\n",
    "\n",
    "plt.xlabel('Days', fontsize=14)\n",
    "plt.ylabel('Average Radius (m)', fontsize=13)\n",
    "plt.legend(loc='upper left')\n",
    "plt.semilogy()"
   ]
  },
  {
   "cell_type": "code",
   "execution_count": null,
   "id": "a83f21cc-e1ca-4d1c-8536-a015d88fdbde",
   "metadata": {},
   "outputs": [],
   "source": []
  },
  {
   "cell_type": "code",
   "execution_count": 11,
   "id": "4446e7c0-c617-48c3-ace3-bc083084acea",
   "metadata": {},
   "outputs": [
    {
     "data": {
      "text/plain": [
       "[]"
      ]
     },
     "execution_count": 11,
     "metadata": {},
     "output_type": "execute_result"
    },
    {
     "data": {
      "image/png": "[encoded data removed]",
      "text/plain": [
       "<Figure size 432x288 with 1 Axes>"
      ]
     },
     "metadata": {
      "needs_background": "light"
     },
     "output_type": "display_data"
    }
   ],
   "source": [
    "plt.plot(time, mean_vol_rand, label=r'Rand')\n",
    "# plt.fill_between(time, mean_rand + std_rand, mean_rand, alpha=0.2, color='b')\n",
    "# plt.fill_between(time, mean_rand , mean_rand - std_rand, alpha=0.2, color='b')\n",
    "\n",
    "plt.plot(time, mean_vol_fix, label=r'Fix')\n",
    "# plt.fill_between(time, mean_fix + std_fix, mean_fix, alpha=0.2, color='orange')\n",
    "# plt.fill_between(time, mean_fix , mean_fix - std_fix, alpha=0.2, color='orange')\n",
    "\n",
    "plt.plot(time, mean_vol_3D, label='3D')\n",
    "\n",
    "plt.xlabel('Days', fontsize=14)\n",
    "plt.ylabel(r'Average volume ($m^3$)', fontsize=13)\n",
    "plt.legend(loc='upper left')\n",
    "plt.semilogy()"
   ]
  },
  {
   "cell_type": "code",
   "execution_count": 14,
   "id": "5d6611a3-2c37-4803-8379-77be564332dc",
   "metadata": {},
   "outputs": [
    {
     "data": {
      "text/plain": [
       "Text(0.5, 1.0, 'Fragmentation timescale = 100 ')"
      ]
     },
     "execution_count": 14,
     "metadata": {},
     "output_type": "execute_result"
    },
    {
     "data": {
      "image/png": "[encoded data removed]",
      "text/plain": [
       "<Figure size 432x288 with 1 Axes>"
      ]
     },
     "metadata": {
      "needs_background": "light"
     },
     "output_type": "display_data"
    }
   ],
   "source": [
    "for p in range(particles):\n",
    "    plt.semilogy(time, radiuses_rand[p], c='b', label='rand', lw='1', alpha=0.5)\n",
    "    plt.semilogy(time, radiuses_fix[p], c='r', label='fix', lw='1', alpha=0.5)\n",
    "    \n",
    "plt.xlabel('Days')\n",
    "plt.ylabel('Radius (m)')\n",
    "plt.title('Fragmentation timescale = 100 ')\n",
    "# plt.legend()"
   ]
  },
  {
   "cell_type": "code",
   "execution_count": 15,
   "id": "8379973c",
   "metadata": {},
   "outputs": [
    {
     "data": {
      "text/plain": [
       "[]"
      ]
     },
     "execution_count": 15,
     "metadata": {},
     "output_type": "execute_result"
    },
    {
     "data": {
      "image/png": "[encoded data removed]",
      "text/plain": [
       "<Figure size 432x288 with 1 Axes>"
      ]
     },
     "metadata": {
      "needs_background": "light"
     },
     "output_type": "display_data"
    }
   ],
   "source": [
    "plt.hist(radiuses_rand[:, -1], bins=100, color='b', alpha=0.5);\n",
    "plt.hist(radiuses_fix[:, -1], bins=100, color='r', alpha=0.5);\n",
    "plt.hist(length_3d[:, -1], bins=100, color='g', alpha=0.5);\n",
    "plt.semilogx()"
   ]
  },
  {
   "cell_type": "markdown",
   "id": "589beb3a-607f-4f41-abf7-379ef3209886",
   "metadata": {},
   "source": [
    "# Average time it take the particle to reach the surface"
   ]
  },
  {
   "cell_type": "code",
   "execution_count": 16,
   "id": "7605e7d2-ef27-4e00-a198-b19dcc808690",
   "metadata": {},
   "outputs": [
    {
     "data": {
      "text/plain": [
       "array([[2.5e-08, 2.5e-08, 2.5e-08, ..., 1.6e-06, 1.6e-06, 1.6e-06],\n",
       "       [2.5e-08, 2.5e-08, 2.5e-08, ..., 2.5e-08, 2.5e-08, 2.5e-08],\n",
       "       [2.5e-08, 2.5e-08, 2.5e-08, ..., 2.0e-07, 2.0e-07, 2.0e-07],\n",
       "       ...,\n",
       "       [2.5e-08, 2.5e-08, 2.5e-08, ..., 2.0e-07, 2.0e-07, 2.0e-07],\n",
       "       [2.5e-08, 2.5e-08, 2.5e-08, ..., 1.6e-06, 1.6e-06, 1.6e-06],\n",
       "       [2.5e-08, 2.5e-08, 2.5e-08, ..., 2.0e-07, 2.0e-07, 2.0e-07]])"
      ]
     },
     "execution_count": 16,
     "metadata": {},
     "output_type": "execute_result"
    }
   ],
   "source": [
    "length_3d"
   ]
  },
  {
   "cell_type": "code",
   "execution_count": 13,
   "id": "d31e8f9a-2ec1-46c2-8041-388dbe1ed346",
   "metadata": {},
   "outputs": [],
   "source": [
    "v_s = sinkingVelocity(length_3d, 0.8, 1e-6)"
   ]
  },
  {
   "cell_type": "code",
   "execution_count": null,
   "id": "75a33f57-3f49-4655-b844-32d76c270ddc",
   "metadata": {},
   "outputs": [],
   "source": []
  },
  {
   "cell_type": "code",
   "execution_count": null,
   "id": "58e96fd4-0604-4d3f-88cc-d291b3e68d1e",
   "metadata": {},
   "outputs": [],
   "source": [
    "mean_rand = np.mean(radiuses_rand, axis=0)\n",
    "mean_vol_rand = np.mean(volumes_rand, axis=0)\n",
    "\n",
    "mean_fix = np.mean(radiuses_fix, axis=0)\n",
    "mean_vol_fix = np.mean(volumes_fix, axis=0)\n",
    "\n",
    "mean_3D = np.mean(length_3d, axis=0)\n",
    "mean_vol_3D = np.mean(volumes_3d, axis=0)\n"
   ]
  },
  {
   "cell_type": "code",
   "execution_count": null,
   "id": "b182260f-361f-4995-b55a-b756e6a7bdda",
   "metadata": {},
   "outputs": [],
   "source": []
  },
  {
   "cell_type": "markdown",
   "id": "b0ff55b8-2e21-45dc-9078-f36134507f7a",
   "metadata": {},
   "source": [
    "# Sensibility to dt"
   ]
  },
  {
   "cell_type": "code",
   "execution_count": 140,
   "id": "1f40a47f-d4c6-4ba2-a646-d78e0290115a",
   "metadata": {},
   "outputs": [],
   "source": [
    "DTs = np.logspace(1e-5, 10, 10001)"
   ]
  },
  {
   "cell_type": "code",
   "execution_count": 141,
   "id": "bc03bca2-a778-4446-a248-cf491744c4be",
   "metadata": {},
   "outputs": [],
   "source": [
    "frag_timescale = 1000"
   ]
  },
  {
   "cell_type": "code",
   "execution_count": 142,
   "id": "d6befb9b-dc20-462e-9911-437ed945c5a0",
   "metadata": {},
   "outputs": [],
   "source": [
    "frag_probas  = np.exp(-DTs/(frag_timescale))"
   ]
  },
  {
   "cell_type": "code",
   "execution_count": 152,
   "id": "a8f4ee62-fb03-49c2-a2f5-2a28ae7b7ca5",
   "metadata": {},
   "outputs": [
    {
     "data": {
      "text/plain": [
       "Text(0, 0.5, 'Fragmentation Probability')"
      ]
     },
     "execution_count": 152,
     "metadata": {},
     "output_type": "execute_result"
    },
    {
     "data": {
      "image/png": "[encoded data removed]",
      "text/plain": [
       "<Figure size 432x288 with 1 Axes>"
      ]
     },
     "metadata": {
      "needs_background": "light"
     },
     "output_type": "display_data"
    }
   ],
   "source": [
    "plt.semilogx(DTs/frag_timescale, frag_probas)\n",
    "plt.scatter(dT/frag_timescale, frag_probas_scat)\n",
    "plt.xlabel('dt/fragemtation-timescale')\n",
    "plt.ylabel('Fragmentation Probability')"
   ]
  },
  {
   "cell_type": "code",
   "execution_count": null,
   "id": "137802b9-114c-40df-95f8-ad608e2b15e9",
   "metadata": {},
   "outputs": [],
   "source": []
  },
  {
   "cell_type": "code",
   "execution_count": 147,
   "id": "3aaf4bd4-0492-4448-88e2-5feda155f2f5",
   "metadata": {},
   "outputs": [],
   "source": [
    "dT = np.array([1,60, 1, 24, 240])\n",
    "frag_probas_scat  = np.exp(-dT/(frag_timescale))"
   ]
  },
  {
   "cell_type": "code",
   "execution_count": 148,
   "id": "fa72dbda-4d3b-4247-a56f-46b24a465a44",
   "metadata": {},
   "outputs": [
    {
     "data": {
      "text/plain": [
       "array([  1,  60,   1,  24, 240])"
      ]
     },
     "execution_count": 148,
     "metadata": {},
     "output_type": "execute_result"
    }
   ],
   "source": [
    "dT"
   ]
  },
  {
   "cell_type": "markdown",
   "id": "7abba81c-b05f-4dd3-a5dd-31251a15fd4c",
   "metadata": {},
   "source": [
    "# sensitivity to fragmentation timescales "
   ]
  },
  {
   "cell_type": "code",
   "execution_count": null,
   "id": "d75e32b4-99c3-4b65-930d-67a5d9425805",
   "metadata": {},
   "outputs": [],
   "source": [
    "r = 5e-8 # 100nm\n",
    "k = 0\n",
    "sim_time = 1000 #365*10\n",
    "N = sim_time + 1\n",
    "V = 4/3 * np.pi*r**3\n",
    "mode = 1/2\n",
    "frag_timescale = 800\n",
    "frag_mode = 1/2\n",
    "k = 0\n",
    "particles = 10000\n",
    "initial_depth = 5000\n",
    "\n",
    "time = np.linspace(0, sim_time, N)\n",
    "dt = time[1] - time[0]\n",
    "\n",
    "radiuses_rand = np.zeros((particles, N))\n",
    "volumes_rand = np.zeros((particles, N))\n",
    "\n",
    "radiuses_fix = np.zeros((particles, N))\n",
    "volumes_fix = np.zeros((particles, N))\n",
    "\n",
    "length_3d = np.zeros((particles, N))\n",
    "volumes_3d = np.zeros((particles, N))\n",
    "depth_3d = np.zeros((particles, N)) + 5000\n",
    "\n",
    "radiuses_rand[:, 0] = r\n",
    "volumes_rand[:, 0] = V\n",
    "\n",
    "radiuses_fix[:, 0] = r\n",
    "volumes_fix[:, 0] = V\n",
    "\n",
    "length_3d[:, 0] = r\n",
    "volumes_3d[:, 0] = (r)**3\n",
    "\n",
    "for i in range(N-1):\n",
    "    vr = volumes_rand[:, i]\n",
    "    vf = volumes_fix[:, i]\n",
    "    volumes_rand[:, i+1] = frag_vec(vr , dt, frag_timescale, 'rand')\n",
    "    volumes_fix[:, i+1] = frag_vec(vf, dt, frag_timescale, 'fix')\n",
    "    \n",
    "    radiuses_rand[:, i+1] = np.cbrt(3*volumes_rand[:, i+1]/(4*np.pi))\n",
    "    radiuses_fix[:, i+1] = np.cbrt(3*volumes_fix[:, i+1]/(4*np.pi))\n",
    "    \n",
    "    l = length_3d[:, i]\n",
    "    depth_3d[:, i+1] = depth_3d[:, i] - sinkingVelocity(l, 0.8, 1e-6)*dt\n",
    "    \n",
    "    length_3d[:, i+1] = frag_vec(l, dt, frag_timescale, '3D')\n",
    "    volumes_3d[:, i+1] = length_3d[:, i+1]**3"
   ]
  }
 ],
 "metadata": {
  "kernelspec": {
   "display_name": "Python 3 (ipykernel)",
   "language": "python",
   "name": "python3"
  },
  "language_info": {
   "codemirror_mode": {
    "name": "ipython",
    "version": 3
   },
   "file_extension": ".py",
   "mimetype": "text/x-python",
   "name": "python",
   "nbconvert_exporter": "python",
   "pygments_lexer": "ipython3",
   "version": "3.8.11"
  }
 },
 "nbformat": 4,
 "nbformat_minor": 5
}
