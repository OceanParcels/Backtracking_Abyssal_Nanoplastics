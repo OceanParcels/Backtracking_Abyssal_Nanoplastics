{
 "cells": [
  {
   "cell_type": "markdown",
   "id": "2e7dc4c9",
   "metadata": {},
   "source": [
    "Implement the fragmentation scheme in reverse to 'grow' some particles.\n",
    "\n",
    "### Cozar Scheme"
   ]
  },
  {
   "cell_type": "code",
   "execution_count": 2,
   "id": "8ffc680b-c1eb-4358-8f8e-4619d0ec325f",
   "metadata": {},
   "outputs": [],
   "source": [
    "import numpy as np\n",
    "import matplotlib.pyplot as plt\n",
    "import math"
   ]
  },
  {
   "cell_type": "code",
   "execution_count": 5,
   "id": "c7477ae9",
   "metadata": {},
   "outputs": [],
   "source": [
    "def fragmentation_event(L, k, fragmentation_mode):\n",
    "    \"\"\"\n",
    "    L: lenght of cube\n",
    "    k: size class. 0 if original\n",
    "    fragmentation_mode: 1/2 if it breaks in two in a fragmentation event.\n",
    "    \"\"\"\n",
    "    new_L = L*fragmentation_mode\n",
    "    k += 1\n",
    "    \n",
    "    return new_L, k"
   ]
  },
  {
   "cell_type": "code",
   "execution_count": 6,
   "id": "e42a2600",
   "metadata": {},
   "outputs": [],
   "source": [
    "def defragmentation_event(V, k, fragmentation_mode):\n",
    "    \"\"\"\n",
    "    V: volume of sphere\n",
    "    k: size class. 0 if original\n",
    "    fragmentation_mode: 1/2 if it breaks in two in a fragmentation event.\n",
    "    \"\"\"\n",
    "    new_V = V/fragmentation_mode\n",
    "    k += 1\n",
    "    \n",
    "    return new_V, k"
   ]
  },
  {
   "cell_type": "code",
   "execution_count": 12,
   "id": "95dbcae8",
   "metadata": {},
   "outputs": [],
   "source": [
    "def fragmentation(V, k, dt, fragmentation_mode, fragmentation_timescale):\n",
    "    fragmentation_prob = math.exp(-dt/(fragmentation_timescale*24*60*60))\n",
    "    rnd_num = np.random.rand()\n",
    "    \n",
    "    if rnd_num > fragmentation_prob:\n",
    "        V, k = defragmentation_event(V, k, fragmentation_mode)\n",
    "        \n",
    "    return V, k "
   ]
  },
  {
   "cell_type": "code",
   "execution_count": 14,
   "id": "74b55e61-46b2-4c5a-9742-faf2f0d76698",
   "metadata": {},
   "outputs": [
    {
     "data": {
      "text/plain": [
       "31536000"
      ]
     },
     "execution_count": 31,
     "metadata": {},
     "output_type": "execute_result"
    }
   ],
   "source": [
    "24*60*60*365"
   ]
  },
  {
   "cell_type": "code",
   "execution_count": 50,
   "id": "4fdb1553-eb48-4b23-9f37-24a23c5a70e5",
   "metadata": {},
   "outputs": [
    {
     "name": "stdout",
     "output_type": "stream",
     "text": [
      "-2.6791839168066498e-12\n"
     ]
    }
   ],
   "source": [
    "r = 1e-7 # 100nm\n",
    "k = 0\n",
    "sim_time = 300\n",
    "N = 24*60*60*sim_time\n",
    "V = 4/3 * np.pi*r**3\n",
    "mode = 1/2\n",
    "frag_timescale = 50\n",
    "frag_mode = 1/2\n",
    "k = 0\n",
    "\n",
    "time = np.linspace(0, sim_time, N)\n",
    "dt = time[1] - time[0]\n",
    "\n",
    "radiuses = np.zeros(N)\n",
    "volumes = np.zeros(N)\n",
    "\n",
    "radiuses[0] = r\n",
    "volumes[0] = V\n",
    "print(-dt/(frag_timescale*24*60*60))\n",
    "\n",
    "for i, t in enumerate(time):\n",
    "    V, k = fragmentation(V, k, dt, frag_mode, frag_timescale)\n",
    "    volumes[i] = V\n",
    "    radiuses[i] = np.cbrt(3*V/(4*np.pi))\n",
    "    "
   ]
  },
  {
   "cell_type": "code",
   "execution_count": 51,
   "id": "3ff5d29e-5e49-4f34-a12c-301fb803aa96",
   "metadata": {},
   "outputs": [
    {
     "data": {
      "text/plain": [
       "9"
      ]
     },
     "execution_count": 51,
     "metadata": {},
     "output_type": "execute_result"
    }
   ],
   "source": [
    "k"
   ]
  },
  {
   "cell_type": "code",
   "execution_count": null,
   "id": "0c62771f-371b-4513-bd90-49a11a53d6a6",
   "metadata": {},
   "outputs": [],
   "source": [
    "# plt.scatter(time, volumes)\n",
    "plt.scatter(time, radiuses)"
   ]
  },
  {
   "cell_type": "code",
   "execution_count": null,
   "id": "8379973c",
   "metadata": {},
   "outputs": [],
   "source": []
  }
 ],
 "metadata": {
  "kernelspec": {
   "display_name": "Python 3 (ipykernel)",
   "language": "python",
   "name": "python3"
  },
  "language_info": {
   "codemirror_mode": {
    "name": "ipython",
    "version": 3
   },
   "file_extension": ".py",
   "mimetype": "text/x-python",
   "name": "python",
   "nbconvert_exporter": "python",
   "pygments_lexer": "ipython3",
   "version": "3.8.11"
  }
 },
 "nbformat": 4,
 "nbformat_minor": 5
}
