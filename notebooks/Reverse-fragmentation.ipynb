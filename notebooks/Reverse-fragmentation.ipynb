{
 "cells": [
  {
   "cell_type": "markdown",
   "id": "2e7dc4c9",
   "metadata": {},
   "source": [
    "Implement the fragmentation scheme in reverse to 'grow' some particles.\n",
    "\n",
    "### Cozar Scheme"
   ]
  },
  {
   "cell_type": "code",
   "execution_count": 9,
   "id": "8ffc680b-c1eb-4358-8f8e-4619d0ec325f",
   "metadata": {},
   "outputs": [],
   "source": [
    "import numpy as np\n",
    "import matplotlib.pyplot as plt\n",
    "import math"
   ]
  },
  {
   "cell_type": "code",
   "execution_count": 10,
   "id": "c7477ae9",
   "metadata": {},
   "outputs": [],
   "source": [
    "def fragmentation_event(L, k, fragmentation_mode):\n",
    "    \"\"\"\n",
    "    L: lenght of cube\n",
    "    k: size class. 0 if original\n",
    "    fragmentation_mode: 1/2 if it breaks in two in a fragmentation event.\n",
    "    \"\"\"\n",
    "    new_L = L*fragmentation_mode\n",
    "    k += 1\n",
    "    \n",
    "    return new_L, k"
   ]
  },
  {
   "cell_type": "code",
   "execution_count": 11,
   "id": "e42a2600",
   "metadata": {},
   "outputs": [],
   "source": [
    "def fix_mode(V, fragmentation_mode):\n",
    "    \"\"\"\n",
    "    V: volume of sphere\n",
    "    k: size class. 0 if original\n",
    "    fragmentation_mode: 1/2 if it breaks in two in a fragmentation event.\n",
    "    \"\"\"\n",
    "    new_V = V/fragmentation_mode\n",
    "   \n",
    "    return new_V\n",
    "\n",
    "def random_mode(V):\n",
    "    \"\"\"\n",
    "    V: volume of sphere\n",
    "    k: size class. 0 if original\n",
    "    fragmentation_mode: 1/2 if it breaks in two in a fragmentation event.\n",
    "    \"\"\"\n",
    "    n = V.shape[0]\n",
    "    fragmentation_mode = np.random.rand(n)\n",
    "    print(fragmentation_mode)\n",
    "    new_V = V/fragmentation_mode\n",
    "    \n",
    "    return new_V"
   ]
  },
  {
   "cell_type": "code",
   "execution_count": 12,
   "id": "c7e0ed8c",
   "metadata": {},
   "outputs": [
    {
     "data": {
      "text/plain": [
       "8"
      ]
     },
     "execution_count": 12,
     "metadata": {},
     "output_type": "execute_result"
    }
   ],
   "source": [
    "np.random.choice([8, 4, 2, 1], p=np.array([8/14.5, 4/14.5, 2/14.5, 0.5/14.5]))"
   ]
  },
  {
   "cell_type": "code",
   "execution_count": 222,
   "id": "ed787a39-fdfe-498f-9e84-6bf65b91ede4",
   "metadata": {},
   "outputs": [],
   "source": [
    "def frag_vec(n, dt,  fragmentation_timescale, mode):\n",
    "    \n",
    "    fragmentation_mode = np.ones(n)\n",
    "    frag_prob = math.exp(-abs(dt)/(fragmentation_timescale))\n",
    "    frag_prob = np.ones(n)*frag_prob\n",
    "    rnd_num = np.random.rand(n)\n",
    "    \n",
    "    truth = rnd_num  > frag_prob\n",
    "    \n",
    "    if mode == 'rand':\n",
    "        fragmentation_mode = np.random.rand(n)*truth + ~truth\n",
    "        \n",
    "    elif mode == 'fix':\n",
    "        fragmentation_mode = 1/2*truth + ~truth\n",
    "        \n",
    "    elif mode == 'Mika':\n",
    "        raw_mode = np.random.choice([8, 4, 2, 1], size=n, p=np.array([8/14.5, 4/14.5, 2/14.5, 0.5/14.5]))\n",
    "        fragmentation_mode = 1/raw_mode*truth + ~truth\n",
    "        \n",
    "    return fragmentation_mode"
   ]
  },
  {
   "cell_type": "code",
   "execution_count": 234,
   "id": "fdfb8b28",
   "metadata": {},
   "outputs": [
    {
     "data": {
      "text/plain": [
       "array([1.  , 1.  , 1.  , ..., 0.25, 1.  , 1.  ])"
      ]
     },
     "execution_count": 234,
     "metadata": {},
     "output_type": "execute_result"
    }
   ],
   "source": [
    "frag_vec(10000, 0.1, 1, 'Mika')"
   ]
  },
  {
   "cell_type": "code",
   "execution_count": 14,
   "id": "95dbcae8",
   "metadata": {},
   "outputs": [],
   "source": [
    "def fragmentation(V, dt, fragmentation_timescale, mode):\n",
    "    \"\"\"\n",
    "    mode: 'rand' or 'fix'.\n",
    "    \"\"\"\n",
    "    n = V.shape[0]\n",
    "    print(n)\n",
    "    fragmentation_prob = math.exp(-dt/(fragmentation_timescale))\n",
    "    rnd_num = np.random.rand(n)\n",
    "    \n",
    "    if rnd_num > fragmentation_prob and mode == 'rand':\n",
    "        V = random_mode(V)\n",
    "        \n",
    "    elif rnd_num > fragmentation_prob and mode == 'fix':\n",
    "        V = fix_mode(V, 1/2)\n",
    "\n",
    "        \n",
    "    return V"
   ]
  },
  {
   "cell_type": "code",
   "execution_count": 15,
   "id": "08d952a5-2320-46ec-b974-fbe3fa558248",
   "metadata": {},
   "outputs": [],
   "source": [
    "def logistic_map(x, r):\n",
    "    x_1 = r*x*(1 - x)\n",
    "    \n",
    "    return x_1"
   ]
  },
  {
   "cell_type": "markdown",
   "id": "4c5760a5-d0fe-42c6-9641-569e6d1e6717",
   "metadata": {},
   "source": [
    "# Settling velocity"
   ]
  },
  {
   "cell_type": "code",
   "execution_count": 17,
   "id": "9ea07902-87fe-4beb-8900-a415b05ddd2c",
   "metadata": {},
   "outputs": [],
   "source": [
    "def sinkingVelocity(radius, β, ν):\n",
    "    alpha = radius\n",
    "    g = 9.81\n",
    "  \n",
    "    tau_p = alpha*alpha/(3*β*ν)\n",
    "    \n",
    "    v_s = (1 - β)*g*tau_p\n",
    "        \n",
    "    \n",
    "    return v_s"
   ]
  },
  {
   "cell_type": "markdown",
   "id": "01575367-f149-461d-aa24-3815f28feaf1",
   "metadata": {},
   "source": [
    "# Experiment "
   ]
  },
  {
   "cell_type": "code",
   "execution_count": 18,
   "id": "9a904561-da38-4dc7-a554-5d290fb66fe8",
   "metadata": {},
   "outputs": [
    {
     "data": {
      "text/plain": [
       "array([False, False, False, False, False, False, False, False, False,\n",
       "       False, False, False, False, False, False, False, False, False,\n",
       "       False, False, False, False, False, False, False, False, False,\n",
       "       False, False, False, False, False, False, False, False, False,\n",
       "       False, False, False, False])"
      ]
     },
     "execution_count": 18,
     "metadata": {},
     "output_type": "execute_result"
    }
   ],
   "source": [
    "np.zeros(40) > 2"
   ]
  },
  {
   "cell_type": "code",
   "execution_count": 19,
   "id": "c847801f-1078-4fec-a4f7-84ffbbe19d42",
   "metadata": {},
   "outputs": [
    {
     "data": {
      "text/plain": [
       "array([10.,  9.,  8.,  7.,  6.,  5.,  4.,  3.,  2.,  1.,  0.])"
      ]
     },
     "execution_count": 19,
     "metadata": {},
     "output_type": "execute_result"
    }
   ],
   "source": [
    "np.linspace(10, 0, 11)"
   ]
  },
  {
   "cell_type": "code",
   "execution_count": 20,
   "id": "4fdb1553-eb48-4b23-9f37-24a23c5a70e5",
   "metadata": {},
   "outputs": [],
   "source": [
    "r = 5e-8 # 100nm\n",
    "k = 0\n",
    "sim_time = 100 #365*10\n",
    "N = sim_time + 1\n",
    "V = 4/3 * np.pi*r**3\n",
    "mode = 1/2\n",
    "frag_timescale = 1000\n",
    "frag_mode = 1/2\n",
    "k = 0\n",
    "particles = 10000\n",
    "initial_depth = 5000\n",
    "\n",
    "time = np.linspace(0, sim_time, N)\n",
    "dt = time[1] - time[0]\n",
    "\n",
    "radiuses_rand = np.zeros((particles, N))\n",
    "volumes_rand = np.zeros((particles, N))\n",
    "\n",
    "radiuses_fix = np.zeros((particles, N))\n",
    "volumes_fix = np.zeros((particles, N))\n",
    "\n",
    "length_3d = np.zeros((particles, N))\n",
    "volumes_3d = np.zeros((particles, N))\n",
    "depth_3d = np.zeros((particles, N)) + 5000\n",
    "\n",
    "radiuses_rand[:, 0] = r\n",
    "volumes_rand[:, 0] = V\n",
    "\n",
    "radiuses_fix[:, 0] = r\n",
    "volumes_fix[:, 0] = V\n",
    "\n",
    "length_3d[:, 0] = r\n",
    "volumes_3d[:, 0] = (r)**3\n",
    "\n",
    "for i in range(N-1):\n",
    "    vr = volumes_rand[:, i]\n",
    "    vf = volumes_fix[:, i]\n",
    "    volumes_rand[:, i+1] = frag_vec(vr , dt, frag_timescale, 'rand')\n",
    "    volumes_fix[:, i+1] = frag_vec(vf, dt, frag_timescale, 'fix')\n",
    "    \n",
    "    radiuses_rand[:, i+1] = np.cbrt(3*volumes_rand[:, i+1]/(4*np.pi))\n",
    "    radiuses_fix[:, i+1] = np.cbrt(3*volumes_fix[:, i+1]/(4*np.pi))\n",
    "    \n",
    "    l = length_3d[:, i]\n",
    "    depth_3d[:, i+1] = depth_3d[:, i] - sinkingVelocity(l, 0.8, 1e-6)*dt\n",
    "    \n",
    "    length_3d[:, i+1] = frag_vec(l, dt, frag_timescale, '3D')\n",
    "    volumes_3d[:, i+1] = length_3d[:, i+1]**3"
   ]
  },
  {
   "cell_type": "code",
   "execution_count": 21,
   "id": "455e71a2",
   "metadata": {},
   "outputs": [
    {
     "data": {
      "text/plain": [
       "[]"
      ]
     },
     "execution_count": 21,
     "metadata": {},
     "output_type": "execute_result"
    },
    {
     "data": {
      "image/png": "[encoded data removed]",
      "text/plain": [
       "<Figure size 432x288 with 1 Axes>"
      ]
     },
     "metadata": {
      "needs_background": "light"
     },
     "output_type": "display_data"
    }
   ],
   "source": [
    "plt.plot(length_3d[1,:])\n",
    "plt.semilogy()"
   ]
  },
  {
   "cell_type": "code",
   "execution_count": 22,
   "id": "3aba0d1b-4557-4f58-9788-fd82b93fe296",
   "metadata": {},
   "outputs": [],
   "source": [
    "mean_rand = np.mean(radiuses_rand, axis=0)\n",
    "mean_vol_rand = np.mean(volumes_rand, axis=0)\n",
    "\n",
    "mean_fix = np.mean(radiuses_fix, axis=0)\n",
    "mean_vol_fix = np.mean(volumes_fix, axis=0)\n",
    "\n",
    "mean_3D = np.mean(length_3d, axis=0)\n",
    "mean_vol_3D = np.mean(volumes_3d, axis=0)\n",
    "\n",
    "mean_depth = np.mean(depth_3d, axis=0)\n",
    "std_depth = np.std(depth_3d, axis=0)\n"
   ]
  },
  {
   "cell_type": "code",
   "execution_count": 23,
   "id": "b31af788-74c5-41a4-854c-39836caf6103",
   "metadata": {},
   "outputs": [
    {
     "data": {
      "text/plain": [
       "[]"
      ]
     },
     "execution_count": 23,
     "metadata": {},
     "output_type": "execute_result"
    },
    {
     "data": {
      "image/png": "[encoded data removed]",
      "text/plain": [
       "<Figure size 432x288 with 1 Axes>"
      ]
     },
     "metadata": {
      "needs_background": "light"
     },
     "output_type": "display_data"
    }
   ],
   "source": [
    "plt.plot(time, mean_rand, label=r'Rand')\n",
    "# plt.fill_between(time, mean_rand + std_rand, mean_rand, alpha=0.2, color='b')\n",
    "# plt.fill_between(time, mean_rand , mean_rand - std_rand, alpha=0.2, color='b')\n",
    "\n",
    "plt.plot(time, mean_fix, label=r'Fix')\n",
    "# plt.fill_between(time, mean_fix + std_fix, mean_fix, alpha=0.2, color='orange')\n",
    "# plt.fill_between(time, mean_fix , mean_fix - std_fix, alpha=0.2, color='orange')\n",
    "\n",
    "plt.plot(time, mean_3D, label='3D')\n",
    "\n",
    "plt.xlabel('Days', fontsize=14)\n",
    "plt.ylabel('Average Radius (m)', fontsize=13)\n",
    "plt.legend(loc='upper left')\n",
    "plt.semilogy()"
   ]
  },
  {
   "cell_type": "code",
   "execution_count": 24,
   "id": "4446e7c0-c617-48c3-ace3-bc083084acea",
   "metadata": {},
   "outputs": [
    {
     "data": {
      "text/plain": [
       "[]"
      ]
     },
     "execution_count": 24,
     "metadata": {},
     "output_type": "execute_result"
    },
    {
     "data": {
      "image/png": "[encoded data removed]",
      "text/plain": [
       "<Figure size 432x288 with 1 Axes>"
      ]
     },
     "metadata": {
      "needs_background": "light"
     },
     "output_type": "display_data"
    }
   ],
   "source": [
    "plt.plot(time, mean_vol_rand, label=r'Rand')\n",
    "# plt.fill_between(time, mean_rand + std_rand, mean_rand, alpha=0.2, color='b')\n",
    "# plt.fill_between(time, mean_rand , mean_rand - std_rand, alpha=0.2, color='b')\n",
    "\n",
    "plt.plot(time, mean_vol_fix, label=r'Fix')\n",
    "# plt.fill_between(time, mean_fix + std_fix, mean_fix, alpha=0.2, color='orange')\n",
    "# plt.fill_between(time, mean_fix , mean_fix - std_fix, alpha=0.2, color='orange')\n",
    "\n",
    "plt.plot(time, mean_vol_3D, label='3D')\n",
    "\n",
    "plt.xlabel('Days', fontsize=14)\n",
    "plt.ylabel(r'Average volume ($m^3$)', fontsize=13)\n",
    "plt.legend(loc='upper left')\n",
    "plt.semilogy()"
   ]
  },
  {
   "cell_type": "code",
   "execution_count": 25,
   "id": "52108fb8",
   "metadata": {},
   "outputs": [],
   "source": [
    "size_dist, binss = np.histogram(length_3d[:, -1], bins=np.logspace(-8, -5, 30))\n",
    "size_dist_fix, _ = np.histogram(radiuses_fix[:, -1], bins=np.logspace(-8, -5, 30))\n",
    "size_dist_rand, _ = np.histogram(radiuses_rand[:, -1], bins=np.logspace(-8, -5, 30))"
   ]
  },
  {
   "cell_type": "code",
   "execution_count": 26,
   "id": "8c0e6961",
   "metadata": {},
   "outputs": [
    {
     "data": {
      "text/plain": [
       "array([1.00000000e-08, 1.26896100e-08, 1.61026203e-08, 2.04335972e-08,\n",
       "       2.59294380e-08, 3.29034456e-08, 4.17531894e-08, 5.29831691e-08,\n",
       "       6.72335754e-08, 8.53167852e-08, 1.08263673e-07, 1.37382380e-07,\n",
       "       1.74332882e-07, 2.21221629e-07, 2.80721620e-07, 3.56224789e-07,\n",
       "       4.52035366e-07, 5.73615251e-07, 7.27895384e-07, 9.23670857e-07,\n",
       "       1.17210230e-06, 1.48735211e-06, 1.88739182e-06, 2.39502662e-06,\n",
       "       3.03919538e-06, 3.85662042e-06, 4.89390092e-06, 6.21016942e-06,\n",
       "       7.88046282e-06, 1.00000000e-05])"
      ]
     },
     "execution_count": 26,
     "metadata": {},
     "output_type": "execute_result"
    }
   ],
   "source": [
    "binss"
   ]
  },
  {
   "cell_type": "code",
   "execution_count": 27,
   "id": "1337887c",
   "metadata": {},
   "outputs": [
    {
     "data": {
      "text/plain": [
       "<matplotlib.legend.Legend at 0x7fd17c9cd550>"
      ]
     },
     "execution_count": 27,
     "metadata": {},
     "output_type": "execute_result"
    },
    {
     "data": {
      "image/png": "[encoded data removed]",
      "text/plain": [
       "<Figure size 432x288 with 1 Axes>"
      ]
     },
     "metadata": {
      "needs_background": "light"
     },
     "output_type": "display_data"
    }
   ],
   "source": [
    "plt.bar(np.log10(binss[0:-1]), size_dist_fix, align='edge', alpha=0.3, label='fix')\n",
    "plt.bar(np.log10(binss[0:-1]), size_dist_rand, align='edge', alpha=0.3, label='rand')\n",
    "plt.bar(np.log10(binss[0:-1]), size_dist, align='edge', alpha=0.3, label='3D')\n",
    "plt.legend()\n"
   ]
  },
  {
   "cell_type": "code",
   "execution_count": 28,
   "id": "ebe69e5b",
   "metadata": {},
   "outputs": [
    {
     "data": {
      "text/plain": [
       "0.5517241379310345"
      ]
     },
     "execution_count": 28,
     "metadata": {},
     "output_type": "execute_result"
    }
   ],
   "source": [
    "8/14.5"
   ]
  },
  {
   "cell_type": "markdown",
   "id": "589beb3a-607f-4f41-abf7-379ef3209886",
   "metadata": {},
   "source": [
    "# Average time it take the particle to reach the surface"
   ]
  },
  {
   "cell_type": "code",
   "execution_count": 31,
   "id": "d31e8f9a-2ec1-46c2-8041-388dbe1ed346",
   "metadata": {},
   "outputs": [],
   "source": [
    "v_s = sinkingVelocity(length_3d, 0.8, 1e-6)"
   ]
  },
  {
   "cell_type": "code",
   "execution_count": 32,
   "id": "58e96fd4-0604-4d3f-88cc-d291b3e68d1e",
   "metadata": {},
   "outputs": [],
   "source": [
    "mean_rand = np.mean(radiuses_rand, axis=0)\n",
    "mean_vol_rand = np.mean(volumes_rand, axis=0)\n",
    "\n",
    "mean_fix = np.mean(radiuses_fix, axis=0)\n",
    "mean_vol_fix = np.mean(volumes_fix, axis=0)\n",
    "\n",
    "mean_3D = np.mean(length_3d, axis=0)\n",
    "mean_vol_3D = np.mean(volumes_3d, axis=0)\n"
   ]
  },
  {
   "cell_type": "code",
   "execution_count": null,
   "id": "b182260f-361f-4995-b55a-b756e6a7bdda",
   "metadata": {},
   "outputs": [],
   "source": []
  },
  {
   "cell_type": "markdown",
   "id": "b0ff55b8-2e21-45dc-9078-f36134507f7a",
   "metadata": {},
   "source": [
    "# Sensibility to dt"
   ]
  },
  {
   "cell_type": "code",
   "execution_count": 33,
   "id": "1f40a47f-d4c6-4ba2-a646-d78e0290115a",
   "metadata": {},
   "outputs": [],
   "source": [
    "DTs = np.logspace(1e-5, 10, 10001)"
   ]
  },
  {
   "cell_type": "code",
   "execution_count": 34,
   "id": "bc03bca2-a778-4446-a248-cf491744c4be",
   "metadata": {},
   "outputs": [],
   "source": [
    "frag_timescale = 1000"
   ]
  },
  {
   "cell_type": "code",
   "execution_count": 35,
   "id": "d6befb9b-dc20-462e-9911-437ed945c5a0",
   "metadata": {},
   "outputs": [],
   "source": [
    "frag_probas  = np.exp(-DTs/(frag_timescale))"
   ]
  },
  {
   "cell_type": "code",
   "execution_count": 38,
   "id": "3aaf4bd4-0492-4448-88e2-5feda155f2f5",
   "metadata": {},
   "outputs": [],
   "source": [
    "dT = np.array([1,60, 1, 24, 240])\n",
    "frag_probas_scat  = np.exp(-dT/(frag_timescale))"
   ]
  },
  {
   "cell_type": "code",
   "execution_count": 39,
   "id": "a8f4ee62-fb03-49c2-a2f5-2a28ae7b7ca5",
   "metadata": {},
   "outputs": [
    {
     "data": {
      "text/plain": [
       "Text(0, 0.5, 'Fragmentation Probability')"
      ]
     },
     "execution_count": 39,
     "metadata": {},
     "output_type": "execute_result"
    },
    {
     "data": {
      "image/png": "[encoded data removed]",
      "text/plain": [
       "<Figure size 432x288 with 1 Axes>"
      ]
     },
     "metadata": {
      "needs_background": "light"
     },
     "output_type": "display_data"
    }
   ],
   "source": [
    "plt.semilogx(DTs/frag_timescale, frag_probas)\n",
    "plt.scatter(dT/frag_timescale, frag_probas_scat)\n",
    "plt.xlabel('dt/fragemtation-timescale')\n",
    "plt.ylabel('Fragmentation Probability')"
   ]
  },
  {
   "cell_type": "markdown",
   "id": "b0b8a73e",
   "metadata": {},
   "source": [
    "# time it take a particle to reach the surface"
   ]
  },
  {
   "cell_type": "code",
   "execution_count": 78,
   "id": "80dfee2c",
   "metadata": {},
   "outputs": [],
   "source": [
    "# parameters\n",
    "r = 5e-8 # 100nm\n",
    "k = 0\n",
    "sim_time = 1000 #365*10\n",
    "N = sim_time + 1\n",
    "V = 4/3 * np.pi*r**3\n",
    "mode = 1/2\n",
    "frag_timescale = 100\n",
    "frag_mode = 1/2\n",
    "k = 0\n",
    "particles = 1000\n",
    "initial_depth = 5000\n",
    "β = 0.8\n",
    "ν = 1e-6\n",
    "\n",
    "# Da Arrais\n",
    "time = np.linspace(0, sim_time, N)\n",
    "dt = time[1] - time[0]\n",
    "\n",
    "lengthxx = np.linspace(1e-7, 1e-5, particles)\n",
    "vsxx = sinkingVelocity(lengthxx,β, ν)\n",
    "depthxx = np.zeros(particles) + initial_depth\n",
    "agexx = np.zeros(particles)\n",
    "\n",
    "timescalexx = initial_depth/vsxx"
   ]
  },
  {
   "cell_type": "code",
   "execution_count": 80,
   "id": "e686120e",
   "metadata": {},
   "outputs": [
    {
     "data": {
      "text/plain": [
       "[<matplotlib.lines.Line2D at 0x7fd180004860>]"
      ]
     },
     "execution_count": 80,
     "metadata": {},
     "output_type": "execute_result"
    },
    {
     "data": {
      "image/png": "[encoded data removed]",
      "text/plain": [
       "<Figure size 432x288 with 1 Axes>"
      ]
     },
     "metadata": {
      "needs_background": "light"
     },
     "output_type": "display_data"
    }
   ],
   "source": [
    "plt.loglog(lengthxx*1000, timescalexx/(60*60*24))"
   ]
  },
  {
   "cell_type": "markdown",
   "id": "7abba81c-b05f-4dd3-a5dd-31251a15fd4c",
   "metadata": {},
   "source": [
    "# sensitivity to fragmentation timescales "
   ]
  },
  {
   "cell_type": "code",
   "execution_count": 238,
   "id": "d75e32b4-99c3-4b65-930d-67a5d9425805",
   "metadata": {
    "scrolled": false
   },
   "outputs": [],
   "source": [
    "# parameters\n",
    "r = 5e-5 # 100nm\n",
    "k = 0\n",
    "sim_time = 1000 #365*10\n",
    "N = sim_time + 1\n",
    "V = 4/3 * np.pi*r**3\n",
    "mode = 1/2\n",
    "frag_timescale = 10\n",
    "frag_mode = 1/2\n",
    "k = 0\n",
    "particles = 10000\n",
    "initial_depth = 2000\n",
    "β = 0.8\n",
    "ν = 1e-6\n",
    "\n",
    "# Da Arrais\n",
    "time = np.linspace(0, sim_time, N)\n",
    "dt = time[1] - time[0]\n",
    "\n",
    "lengthxx = np.zeros(particles)\n",
    "depthxx = np.zeros(particles) + initial_depth\n",
    "agexx = np.zeros(particles)\n",
    "\n",
    "lengthxx[:] = r\n",
    "online = sum(depthxx > 20)\n",
    "\n",
    "i = 0\n",
    "while online != 0:\n",
    "    truth = depthxx > 1500\n",
    "    length_lim = lengthxx < 1e-3\n",
    "    \n",
    "    depthxx = depthxx - sinkingVelocity(lengthxx, β, ν)*dt*truth\n",
    "    modexx = frag_vec(particles, dt, frag_timescale, 'Mika')\n",
    "    lengthxx = lengthxx*(1 + (1/modexx - 1)*length_lim)\n",
    "    agexx = agexx + 1*truth\n",
    "    online = sum(truth)\n",
    "    i += 1"
   ]
  },
  {
   "cell_type": "markdown",
   "id": "19581b71",
   "metadata": {},
   "source": [
    "# multiple fragmetation timescales\n",
    "\n",
    "A bit slow. Try writing this in Julia"
   ]
  },
  {
   "cell_type": "code",
   "execution_count": 274,
   "id": "a8ad8824",
   "metadata": {},
   "outputs": [
    {
     "name": "stdout",
     "output_type": "stream",
     "text": [
      "100.0\n",
      "304.20833333333337\n",
      "508.4166666666667\n",
      "712.625\n",
      "916.8333333333334\n",
      "1121.0416666666667\n",
      "1325.25\n",
      "1529.4583333333335\n",
      "1733.6666666666667\n",
      "1937.875\n",
      "2142.0833333333335\n",
      "2346.291666666667\n",
      "2550.5\n",
      "2754.7083333333335\n"
     ]
    },
    {
     "ename": "KeyboardInterrupt",
     "evalue": "",
     "output_type": "error",
     "traceback": [
      "\u001b[0;31m---------------------------------------------------------------------------\u001b[0m",
      "\u001b[0;31mKeyboardInterrupt\u001b[0m                         Traceback (most recent call last)",
      "\u001b[0;32m<ipython-input-274-5f270207ff7d>\u001b[0m in \u001b[0;36m<module>\u001b[0;34m\u001b[0m\n\u001b[1;32m     37\u001b[0m         \u001b[0mlengthxx\u001b[0m \u001b[0;34m=\u001b[0m \u001b[0mlengthxx\u001b[0m\u001b[0;34m*\u001b[0m\u001b[0;34m(\u001b[0m\u001b[0;36m1\u001b[0m \u001b[0;34m+\u001b[0m \u001b[0;34m(\u001b[0m\u001b[0;36m1\u001b[0m\u001b[0;34m/\u001b[0m\u001b[0mmodexx\u001b[0m \u001b[0;34m-\u001b[0m \u001b[0;36m1\u001b[0m\u001b[0;34m)\u001b[0m\u001b[0;34m*\u001b[0m\u001b[0mlength_lim\u001b[0m\u001b[0;34m)\u001b[0m\u001b[0;34m\u001b[0m\u001b[0;34m\u001b[0m\u001b[0m\n\u001b[1;32m     38\u001b[0m         \u001b[0magexx\u001b[0m \u001b[0;34m=\u001b[0m \u001b[0magexx\u001b[0m \u001b[0;34m+\u001b[0m \u001b[0;36m1\u001b[0m\u001b[0;34m*\u001b[0m\u001b[0mtruth\u001b[0m\u001b[0;34m\u001b[0m\u001b[0;34m\u001b[0m\u001b[0m\n\u001b[0;32m---> 39\u001b[0;31m         \u001b[0monline\u001b[0m \u001b[0;34m=\u001b[0m \u001b[0msum\u001b[0m\u001b[0;34m(\u001b[0m\u001b[0mtruth\u001b[0m\u001b[0;34m)\u001b[0m\u001b[0;34m\u001b[0m\u001b[0;34m\u001b[0m\u001b[0m\n\u001b[0m\u001b[1;32m     40\u001b[0m \u001b[0;34m\u001b[0m\u001b[0m\n\u001b[1;32m     41\u001b[0m     \u001b[0mmean_timescales\u001b[0m\u001b[0;34m.\u001b[0m\u001b[0mappend\u001b[0m\u001b[0;34m(\u001b[0m\u001b[0mnp\u001b[0m\u001b[0;34m.\u001b[0m\u001b[0mmean\u001b[0m\u001b[0;34m(\u001b[0m\u001b[0magexx\u001b[0m\u001b[0;34m)\u001b[0m\u001b[0;34m)\u001b[0m\u001b[0;34m\u001b[0m\u001b[0;34m\u001b[0m\u001b[0m\n",
      "\u001b[0;31mKeyboardInterrupt\u001b[0m: "
     ]
    }
   ],
   "source": [
    "# parameters\n",
    "r = 5e-5 # 100nm\n",
    "k = 0\n",
    "sim_time = 1000 #365*10\n",
    "N = sim_time + 1\n",
    "V = 4/3 * np.pi*r**3\n",
    "mode = 1/2\n",
    "frag_timescale = np.array([10, 100])\n",
    "frag_mode = 1/2\n",
    "k = 0\n",
    "particles = 10000\n",
    "initial_depth = 1000\n",
    "β = 0.8\n",
    "ν = 1e-6\n",
    "\n",
    "time = np.linspace(0, sim_time, N)\n",
    "dt = time[1] - time[0]\n",
    "\n",
    "frag_timescale = np.linspace(100, 5001, 25) #np.array([1, 10, 100, 1000])\n",
    "mean_timescales = []\n",
    "std_timescales = []\n",
    "median_timescales = []\n",
    "\n",
    "for frag_t in frag_timescale:\n",
    "    print(frag_t)\n",
    "    lengthxx = np.zeros(particles)\n",
    "    depthxx = np.zeros(particles) + initial_depth\n",
    "    agexx = np.zeros(particles)\n",
    "    lengthxx[:] = r\n",
    "    online = sum(depthxx > 20)\n",
    "    \n",
    "    while online != 0:\n",
    "        truth = depthxx > 0\n",
    "        length_lim = lengthxx < 1e-3\n",
    "        depthxx = depthxx - sinkingVelocity(lengthxx, β, ν)*dt*truth\n",
    "        modexx = frag_vec(particles, dt, frag_t, 'Mika')\n",
    "        lengthxx = lengthxx*(1 + (1/modexx - 1)*length_lim)\n",
    "        agexx = agexx + 1*truth\n",
    "        online = sum(truth)\n",
    "        \n",
    "    mean_timescales.append(np.mean(agexx))\n",
    "    std_timescales.append(np.std(agexx))\n",
    "    median_timescales.append(np.median(agexx))\n",
    "    "
   ]
  },
  {
   "cell_type": "code",
   "execution_count": 286,
   "id": "4cdb5b0b",
   "metadata": {},
   "outputs": [],
   "source": [
    "mean_timescales = np.array(mean_timescales)\n",
    "median_timescales = np.array(median_timescales)\n",
    "std_timescales = np.array(std_timescales)"
   ]
  },
  {
   "cell_type": "code",
   "execution_count": 304,
   "id": "0585f333",
   "metadata": {},
   "outputs": [
    {
     "data": {
      "text/plain": [
       "<matplotlib.legend.Legend at 0x7fd163de7c18>"
      ]
     },
     "execution_count": 304,
     "metadata": {},
     "output_type": "execute_result"
    },
    {
     "data": {
      "image/png": "[encoded data removed]",
      "text/plain": [
       "<Figure size 432x288 with 1 Axes>"
      ]
     },
     "metadata": {
      "needs_background": "light"
     },
     "output_type": "display_data"
    }
   ],
   "source": [
    "plt.plot(frag_timescale[:13], mean_timescales, 'o-', label='Mean')\n",
    "plt.plot(frag_timescale[:13], median_timescales, 'rs-', label='Median')\n",
    "plt.fill_between(frag_timescale[:13], mean_timescales, mean_timescales + std_timescales, alpha=0.2, color='b')\n",
    "plt.fill_between(frag_timescale[:13], mean_timescales, mean_timescales - std_timescales, alpha=0.2, color='b')\n",
    "\n",
    "plt.xlabel('Fragmentation timescale (days)')\n",
    "plt.ylabel('Time to sink 1000 m (days)')\n",
    "\n",
    "plt.legend(loc='upper left')"
   ]
  },
  {
   "cell_type": "code",
   "execution_count": 254,
   "id": "1b831dbe",
   "metadata": {},
   "outputs": [
    {
     "data": {
      "text/plain": [
       "[257.273, 275.0616, 490.0442, 2618.3381]"
      ]
     },
     "execution_count": 254,
     "metadata": {},
     "output_type": "execute_result"
    }
   ],
   "source": [
    "mean_timescales"
   ]
  },
  {
   "cell_type": "code",
   "execution_count": 255,
   "id": "d1a19ece",
   "metadata": {},
   "outputs": [
    {
     "data": {
      "text/plain": [
       "[257.273, 275.0616, 490.0442, 2618.3381]"
      ]
     },
     "execution_count": 255,
     "metadata": {},
     "output_type": "execute_result"
    }
   ],
   "source": [
    "mean_timescales"
   ]
  },
  {
   "cell_type": "code",
   "execution_count": null,
   "id": "13491112",
   "metadata": {},
   "outputs": [],
   "source": []
  }
 ],
 "metadata": {
  "kernelspec": {
   "display_name": "Python 3",
   "language": "python",
   "name": "python3"
  },
  "language_info": {
   "codemirror_mode": {
    "name": "ipython",
    "version": 3
   },
   "file_extension": ".py",
   "mimetype": "text/x-python",
   "name": "python",
   "nbconvert_exporter": "python",
   "pygments_lexer": "ipython3",
   "version": "3.6.13"
  }
 },
 "nbformat": 4,
 "nbformat_minor": 5
}
