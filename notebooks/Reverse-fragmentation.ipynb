{
 "cells": [
  {
   "cell_type": "markdown",
   "id": "2e7dc4c9",
   "metadata": {},
   "source": [
    "Implement the fragmentation scheme in reverse to 'grow' some particles.\n",
    "\n",
    "### Cozar Scheme"
   ]
  },
  {
   "cell_type": "code",
   "execution_count": 1,
   "id": "8ffc680b-c1eb-4358-8f8e-4619d0ec325f",
   "metadata": {},
   "outputs": [],
   "source": [
    "import numpy as np\n",
    "import matplotlib.pyplot as plt\n",
    "import math"
   ]
  },
  {
   "cell_type": "code",
   "execution_count": 2,
   "id": "c7477ae9",
   "metadata": {},
   "outputs": [],
   "source": [
    "def fragmentation_event(L, k, fragmentation_mode):\n",
    "    \"\"\"\n",
    "    L: lenght of cube\n",
    "    k: size class. 0 if original\n",
    "    fragmentation_mode: 1/2 if it breaks in two in a fragmentation event.\n",
    "    \"\"\"\n",
    "    new_L = L*fragmentation_mode\n",
    "    k += 1\n",
    "    \n",
    "    return new_L, k"
   ]
  },
  {
   "cell_type": "code",
   "execution_count": 3,
   "id": "e42a2600",
   "metadata": {},
   "outputs": [],
   "source": [
    "def fix_mode(V, fragmentation_mode):\n",
    "    \"\"\"\n",
    "    V: volume of sphere\n",
    "    k: size class. 0 if original\n",
    "    fragmentation_mode: 1/2 if it breaks in two in a fragmentation event.\n",
    "    \"\"\"\n",
    "    new_V = V/fragmentation_mode\n",
    "   \n",
    "    return new_V\n",
    "\n",
    "def random_mode(V):\n",
    "    \"\"\"\n",
    "    V: volume of sphere\n",
    "    k: size class. 0 if original\n",
    "    fragmentation_mode: 1/2 if it breaks in two in a fragmentation event.\n",
    "    \"\"\"\n",
    "    n = V.shape[0]\n",
    "    fragmentation_mode = np.random.rand(n)\n",
    "    print(fragmentation_mode)\n",
    "    new_V = V/fragmentation_mode\n",
    "    \n",
    "    return new_V"
   ]
  },
  {
   "cell_type": "code",
   "execution_count": 72,
   "id": "c7e0ed8c",
   "metadata": {},
   "outputs": [
    {
     "data": {
      "text/plain": [
       "2"
      ]
     },
     "execution_count": 72,
     "metadata": {},
     "output_type": "execute_result"
    }
   ],
   "source": [
    "np.random.choice([8, 4, 2, 1], p=np.array([8/14.5, 4/14.5, 2/14.5, 0.5/14.5]))"
   ]
  },
  {
   "cell_type": "code",
   "execution_count": 73,
   "id": "ed787a39-fdfe-498f-9e84-6bf65b91ede4",
   "metadata": {},
   "outputs": [],
   "source": [
    "def frag_vec(V, dt, fragmentation_timescale, mode):\n",
    "    n = V.shape[0]\n",
    "    frag_prob = math.exp(-abs(dt)/(fragmentation_timescale))\n",
    "    \n",
    "    frag_prob = np.ones(n)*frag_prob\n",
    "    rnd_num = np.random.rand(n)\n",
    "    \n",
    "    truth = rnd_num  > frag_prob\n",
    "    \n",
    "    if mode == 'rand':\n",
    "        fragmentation_mode = np.random.rand(n)*truth + ~truth\n",
    "        V = V/fragmentation_mode\n",
    "        \n",
    "    elif mode == 'fix':\n",
    "        fragmentation_mode = 1/2*truth + ~truth\n",
    "        V = V/fragmentation_mode\n",
    "        \n",
    "    elif mode == '3D':\n",
    "        fragmentation_mode = 1/2*truth + ~truth\n",
    "        V = V/fragmentation_mode\n",
    "        \n",
    "    elif mode == 'Mika':\n",
    "        fragmentation_mode = np.random.choice([8, 4, 2, 1], p=np.array([8/14.5, 4/14.5, 2/14.5, 0.5/14.5]))\n",
    "        V = V*fragmentation_mode\n",
    "        \n",
    "    return V"
   ]
  },
  {
   "cell_type": "code",
   "execution_count": 74,
   "id": "95dbcae8",
   "metadata": {},
   "outputs": [],
   "source": [
    "def fragmentation(V, dt, fragmentation_timescale, mode):\n",
    "    \"\"\"\n",
    "    mode: 'rand' or 'fix'.\n",
    "    \"\"\"\n",
    "    n = V.shape[0]\n",
    "    print(n)\n",
    "    fragmentation_prob = math.exp(-dt/(fragmentation_timescale))\n",
    "    rnd_num = np.random.rand(n)\n",
    "    \n",
    "    if rnd_num > fragmentation_prob and mode == 'rand':\n",
    "        V = random_mode(V)\n",
    "        \n",
    "    elif rnd_num > fragmentation_prob and mode == 'fix':\n",
    "        V = fix_mode(V, 1/2)\n",
    "\n",
    "        \n",
    "    return V"
   ]
  },
  {
   "cell_type": "code",
   "execution_count": 75,
   "id": "08d952a5-2320-46ec-b974-fbe3fa558248",
   "metadata": {},
   "outputs": [],
   "source": [
    "def logistic_map(x, r):\n",
    "    x_1 = r*x*(1 - x)\n",
    "    \n",
    "    return x_1"
   ]
  },
  {
   "cell_type": "markdown",
   "id": "4c5760a5-d0fe-42c6-9641-569e6d1e6717",
   "metadata": {},
   "source": [
    "# Settling velocity"
   ]
  },
  {
   "cell_type": "code",
   "execution_count": 45,
   "id": "374e9025-cb98-4ba0-baca-aaf0e0c7d7c2",
   "metadata": {},
   "outputs": [
    {
     "data": {
      "text/plain": [
       "0.005"
      ]
     },
     "execution_count": 45,
     "metadata": {},
     "output_type": "execute_result"
    }
   ],
   "source": [
    "5/1000"
   ]
  },
  {
   "cell_type": "code",
   "execution_count": 46,
   "id": "9ea07902-87fe-4beb-8900-a415b05ddd2c",
   "metadata": {},
   "outputs": [],
   "source": [
    "def sinkingVelocity(radius, β, ν):\n",
    "    alpha = radius\n",
    "    g = 9.81\n",
    "  \n",
    "    tau_p = alpha*alpha/(3*β*ν)\n",
    "    \n",
    "    v_s = (1 - β)*g*tau_p\n",
    "        \n",
    "    \n",
    "    return v_s"
   ]
  },
  {
   "cell_type": "markdown",
   "id": "01575367-f149-461d-aa24-3815f28feaf1",
   "metadata": {},
   "source": [
    "# Experiment "
   ]
  },
  {
   "cell_type": "code",
   "execution_count": 47,
   "id": "9a904561-da38-4dc7-a554-5d290fb66fe8",
   "metadata": {},
   "outputs": [
    {
     "data": {
      "text/plain": [
       "array([False, False, False, False, False, False, False, False, False,\n",
       "       False, False, False, False, False, False, False, False, False,\n",
       "       False, False, False, False, False, False, False, False, False,\n",
       "       False, False, False, False, False, False, False, False, False,\n",
       "       False, False, False, False])"
      ]
     },
     "execution_count": 47,
     "metadata": {},
     "output_type": "execute_result"
    }
   ],
   "source": [
    "np.zeros(40) > 2"
   ]
  },
  {
   "cell_type": "code",
   "execution_count": 48,
   "id": "c847801f-1078-4fec-a4f7-84ffbbe19d42",
   "metadata": {},
   "outputs": [
    {
     "data": {
      "text/plain": [
       "array([10.,  9.,  8.,  7.,  6.,  5.,  4.,  3.,  2.,  1.,  0.])"
      ]
     },
     "execution_count": 48,
     "metadata": {},
     "output_type": "execute_result"
    }
   ],
   "source": [
    "np.linspace(10, 0, 11)"
   ]
  },
  {
   "cell_type": "code",
   "execution_count": 134,
   "id": "4fdb1553-eb48-4b23-9f37-24a23c5a70e5",
   "metadata": {},
   "outputs": [],
   "source": [
    "r = 5e-8 # 100nm\n",
    "k = 0\n",
    "sim_time = 100 #365*10\n",
    "N = sim_time + 1\n",
    "V = 4/3 * np.pi*r**3\n",
    "mode = 1/2\n",
    "frag_timescale = 1000\n",
    "frag_mode = 1/2\n",
    "k = 0\n",
    "particles = 10000\n",
    "initial_depth = 5000\n",
    "\n",
    "time = np.linspace(0, sim_time, N)\n",
    "dt = time[1] - time[0]\n",
    "\n",
    "radiuses_rand = np.zeros((particles, N))\n",
    "volumes_rand = np.zeros((particles, N))\n",
    "\n",
    "radiuses_fix = np.zeros((particles, N))\n",
    "volumes_fix = np.zeros((particles, N))\n",
    "\n",
    "length_3d = np.zeros((particles, N))\n",
    "volumes_3d = np.zeros((particles, N))\n",
    "depth_3d = np.zeros((particles, N)) + 5000\n",
    "\n",
    "radiuses_rand[:, 0] = r\n",
    "volumes_rand[:, 0] = V\n",
    "\n",
    "radiuses_fix[:, 0] = r\n",
    "volumes_fix[:, 0] = V\n",
    "\n",
    "length_3d[:, 0] = r\n",
    "volumes_3d[:, 0] = (r)**3\n",
    "\n",
    "for i in range(N-1):\n",
    "    vr = volumes_rand[:, i]\n",
    "    vf = volumes_fix[:, i]\n",
    "    volumes_rand[:, i+1] = frag_vec(vr , dt, frag_timescale, 'rand')\n",
    "    volumes_fix[:, i+1] = frag_vec(vf, dt, frag_timescale, 'fix')\n",
    "    \n",
    "    radiuses_rand[:, i+1] = np.cbrt(3*volumes_rand[:, i+1]/(4*np.pi))\n",
    "    radiuses_fix[:, i+1] = np.cbrt(3*volumes_fix[:, i+1]/(4*np.pi))\n",
    "    \n",
    "    l = length_3d[:, i]\n",
    "    depth_3d[:, i+1] = depth_3d[:, i] - sinkingVelocity(l, 0.8, 1e-6)*dt\n",
    "    \n",
    "    length_3d[:, i+1] = frag_vec(l, dt, frag_timescale, '3D')\n",
    "    volumes_3d[:, i+1] = length_3d[:, i+1]**3"
   ]
  },
  {
   "cell_type": "code",
   "execution_count": 135,
   "id": "455e71a2",
   "metadata": {},
   "outputs": [
    {
     "data": {
      "text/plain": [
       "[]"
      ]
     },
     "execution_count": 135,
     "metadata": {},
     "output_type": "execute_result"
    },
    {
     "data": {
      "image/png": "[encoded data removed]",
      "text/plain": [
       "<Figure size 432x288 with 1 Axes>"
      ]
     },
     "metadata": {
      "needs_background": "light"
     },
     "output_type": "display_data"
    }
   ],
   "source": [
    "plt.plot(length_3d[1,:])\n",
    "plt.semilogy()"
   ]
  },
  {
   "cell_type": "code",
   "execution_count": 136,
   "id": "3aba0d1b-4557-4f58-9788-fd82b93fe296",
   "metadata": {},
   "outputs": [],
   "source": [
    "mean_rand = np.mean(radiuses_rand, axis=0)\n",
    "mean_vol_rand = np.mean(volumes_rand, axis=0)\n",
    "\n",
    "mean_fix = np.mean(radiuses_fix, axis=0)\n",
    "mean_vol_fix = np.mean(volumes_fix, axis=0)\n",
    "\n",
    "mean_3D = np.mean(length_3d, axis=0)\n",
    "mean_vol_3D = np.mean(volumes_3d, axis=0)\n",
    "\n",
    "mean_depth = np.mean(depth_3d, axis=0)\n",
    "std_depth = np.std(depth_3d, axis=0)\n"
   ]
  },
  {
   "cell_type": "code",
   "execution_count": 137,
   "id": "b31af788-74c5-41a4-854c-39836caf6103",
   "metadata": {},
   "outputs": [
    {
     "data": {
      "text/plain": [
       "[]"
      ]
     },
     "execution_count": 137,
     "metadata": {},
     "output_type": "execute_result"
    },
    {
     "data": {
      "image/png": "[encoded data removed]",
      "text/plain": [
       "<Figure size 432x288 with 1 Axes>"
      ]
     },
     "metadata": {
      "needs_background": "light"
     },
     "output_type": "display_data"
    }
   ],
   "source": [
    "plt.plot(time, mean_rand, label=r'Rand')\n",
    "# plt.fill_between(time, mean_rand + std_rand, mean_rand, alpha=0.2, color='b')\n",
    "# plt.fill_between(time, mean_rand , mean_rand - std_rand, alpha=0.2, color='b')\n",
    "\n",
    "plt.plot(time, mean_fix, label=r'Fix')\n",
    "# plt.fill_between(time, mean_fix + std_fix, mean_fix, alpha=0.2, color='orange')\n",
    "# plt.fill_between(time, mean_fix , mean_fix - std_fix, alpha=0.2, color='orange')\n",
    "\n",
    "plt.plot(time, mean_3D, label='3D')\n",
    "\n",
    "plt.xlabel('Days', fontsize=14)\n",
    "plt.ylabel('Average Radius (m)', fontsize=13)\n",
    "plt.legend(loc='upper left')\n",
    "plt.semilogy()"
   ]
  },
  {
   "cell_type": "code",
   "execution_count": 129,
   "id": "4446e7c0-c617-48c3-ace3-bc083084acea",
   "metadata": {},
   "outputs": [
    {
     "name": "stderr",
     "output_type": "stream",
     "text": [
      "/opt/miniconda3/envs/py3_parcels/lib/python3.6/site-packages/numpy/ma/core.py:6849: RuntimeWarning: overflow encountered in power\n",
      "  result = np.where(m, fa, umath.power(fa, fb)).view(basetype)\n"
     ]
    },
    {
     "data": {
      "text/plain": [
       "[]"
      ]
     },
     "execution_count": 129,
     "metadata": {},
     "output_type": "execute_result"
    },
    {
     "data": {
      "image/png": "[encoded data removed]",
      "text/plain": [
       "<Figure size 432x288 with 1 Axes>"
      ]
     },
     "metadata": {
      "needs_background": "light"
     },
     "output_type": "display_data"
    }
   ],
   "source": [
    "plt.plot(time, mean_vol_rand, label=r'Rand')\n",
    "# plt.fill_between(time, mean_rand + std_rand, mean_rand, alpha=0.2, color='b')\n",
    "# plt.fill_between(time, mean_rand , mean_rand - std_rand, alpha=0.2, color='b')\n",
    "\n",
    "plt.plot(time, mean_vol_fix, label=r'Fix')\n",
    "# plt.fill_between(time, mean_fix + std_fix, mean_fix, alpha=0.2, color='orange')\n",
    "# plt.fill_between(time, mean_fix , mean_fix - std_fix, alpha=0.2, color='orange')\n",
    "\n",
    "plt.plot(time, mean_vol_3D, label='3D')\n",
    "\n",
    "plt.xlabel('Days', fontsize=14)\n",
    "plt.ylabel(r'Average volume ($m^3$)', fontsize=13)\n",
    "plt.legend(loc='upper left')\n",
    "plt.semilogy()"
   ]
  },
  {
   "cell_type": "code",
   "execution_count": 143,
   "id": "52108fb8",
   "metadata": {},
   "outputs": [],
   "source": [
    "size_dist, binss = np.histogram(length_3d[:, -1], bins=np.logspace(-8, -5, 30))\n",
    "size_dist_fix, _ = np.histogram(radiuses_fix[:, -1], bins=np.logspace(-8, -5, 30))\n",
    "size_dist_rand, _ = np.histogram(radiuses_rand[:, -1], bins=np.logspace(-8, -5, 30))"
   ]
  },
  {
   "cell_type": "code",
   "execution_count": 144,
   "id": "8c0e6961",
   "metadata": {},
   "outputs": [
    {
     "data": {
      "text/plain": [
       "array([1.00000000e-08, 1.26896100e-08, 1.61026203e-08, 2.04335972e-08,\n",
       "       2.59294380e-08, 3.29034456e-08, 4.17531894e-08, 5.29831691e-08,\n",
       "       6.72335754e-08, 8.53167852e-08, 1.08263673e-07, 1.37382380e-07,\n",
       "       1.74332882e-07, 2.21221629e-07, 2.80721620e-07, 3.56224789e-07,\n",
       "       4.52035366e-07, 5.73615251e-07, 7.27895384e-07, 9.23670857e-07,\n",
       "       1.17210230e-06, 1.48735211e-06, 1.88739182e-06, 2.39502662e-06,\n",
       "       3.03919538e-06, 3.85662042e-06, 4.89390092e-06, 6.21016942e-06,\n",
       "       7.88046282e-06, 1.00000000e-05])"
      ]
     },
     "execution_count": 144,
     "metadata": {},
     "output_type": "execute_result"
    }
   ],
   "source": [
    "binss"
   ]
  },
  {
   "cell_type": "code",
   "execution_count": 145,
   "id": "1337887c",
   "metadata": {},
   "outputs": [
    {
     "data": {
      "text/plain": [
       "<matplotlib.legend.Legend at 0x7f964ef55e10>"
      ]
     },
     "execution_count": 145,
     "metadata": {},
     "output_type": "execute_result"
    },
    {
     "data": {
      "image/png": "[encoded data removed]",
      "text/plain": [
       "<Figure size 432x288 with 1 Axes>"
      ]
     },
     "metadata": {
      "needs_background": "light"
     },
     "output_type": "display_data"
    }
   ],
   "source": [
    "plt.bar(np.log10(binss[0:-1]), size_dist_fix, align='edge', alpha=0.3, label='fix')\n",
    "plt.bar(np.log10(binss[0:-1]), size_dist_rand, align='edge', alpha=0.3, label='rand')\n",
    "plt.bar(np.log10(binss[0:-1]), size_dist, align='edge', alpha=0.3, label='3D')\n",
    "plt.legend()\n"
   ]
  },
  {
   "cell_type": "code",
   "execution_count": 71,
   "id": "ebe69e5b",
   "metadata": {},
   "outputs": [
    {
     "data": {
      "text/plain": [
       "0.5517241379310345"
      ]
     },
     "execution_count": 71,
     "metadata": {},
     "output_type": "execute_result"
    }
   ],
   "source": [
    "8/14.5"
   ]
  },
  {
   "cell_type": "code",
   "execution_count": null,
   "id": "8379973c",
   "metadata": {},
   "outputs": [],
   "source": [
    "# plt.hist(radiuses_rand[:, -1], bins=100, color='b', alpha=0.5);\n",
    "# plt.hist(radiuses_fix[:, -1], bins=100, color='r', alpha=0.5);\n",
    "plt.hist(length_3d[:, -1], bins=np.logspace(-8, -3, 100), color='g', alpha=0.5);\n",
    "# plt.semilogx()"
   ]
  },
  {
   "cell_type": "code",
   "execution_count": null,
   "id": "0e212e14",
   "metadata": {},
   "outputs": [],
   "source": []
  },
  {
   "cell_type": "markdown",
   "id": "589beb3a-607f-4f41-abf7-379ef3209886",
   "metadata": {},
   "source": [
    "# Average time it take the particle to reach the surface"
   ]
  },
  {
   "cell_type": "code",
   "execution_count": 16,
   "id": "7605e7d2-ef27-4e00-a198-b19dcc808690",
   "metadata": {},
   "outputs": [
    {
     "data": {
      "text/plain": [
       "array([[2.5e-08, 2.5e-08, 2.5e-08, ..., 1.6e-06, 1.6e-06, 1.6e-06],\n",
       "       [2.5e-08, 2.5e-08, 2.5e-08, ..., 2.5e-08, 2.5e-08, 2.5e-08],\n",
       "       [2.5e-08, 2.5e-08, 2.5e-08, ..., 2.0e-07, 2.0e-07, 2.0e-07],\n",
       "       ...,\n",
       "       [2.5e-08, 2.5e-08, 2.5e-08, ..., 2.0e-07, 2.0e-07, 2.0e-07],\n",
       "       [2.5e-08, 2.5e-08, 2.5e-08, ..., 1.6e-06, 1.6e-06, 1.6e-06],\n",
       "       [2.5e-08, 2.5e-08, 2.5e-08, ..., 2.0e-07, 2.0e-07, 2.0e-07]])"
      ]
     },
     "execution_count": 16,
     "metadata": {},
     "output_type": "execute_result"
    }
   ],
   "source": [
    "length_3d"
   ]
  },
  {
   "cell_type": "code",
   "execution_count": 13,
   "id": "d31e8f9a-2ec1-46c2-8041-388dbe1ed346",
   "metadata": {},
   "outputs": [],
   "source": [
    "v_s = sinkingVelocity(length_3d, 0.8, 1e-6)"
   ]
  },
  {
   "cell_type": "code",
   "execution_count": null,
   "id": "75a33f57-3f49-4655-b844-32d76c270ddc",
   "metadata": {},
   "outputs": [],
   "source": []
  },
  {
   "cell_type": "code",
   "execution_count": null,
   "id": "58e96fd4-0604-4d3f-88cc-d291b3e68d1e",
   "metadata": {},
   "outputs": [],
   "source": [
    "mean_rand = np.mean(radiuses_rand, axis=0)\n",
    "mean_vol_rand = np.mean(volumes_rand, axis=0)\n",
    "\n",
    "mean_fix = np.mean(radiuses_fix, axis=0)\n",
    "mean_vol_fix = np.mean(volumes_fix, axis=0)\n",
    "\n",
    "mean_3D = np.mean(length_3d, axis=0)\n",
    "mean_vol_3D = np.mean(volumes_3d, axis=0)\n"
   ]
  },
  {
   "cell_type": "code",
   "execution_count": null,
   "id": "b182260f-361f-4995-b55a-b756e6a7bdda",
   "metadata": {},
   "outputs": [],
   "source": []
  },
  {
   "cell_type": "markdown",
   "id": "b0ff55b8-2e21-45dc-9078-f36134507f7a",
   "metadata": {},
   "source": [
    "# Sensibility to dt"
   ]
  },
  {
   "cell_type": "code",
   "execution_count": 140,
   "id": "1f40a47f-d4c6-4ba2-a646-d78e0290115a",
   "metadata": {},
   "outputs": [],
   "source": [
    "DTs = np.logspace(1e-5, 10, 10001)"
   ]
  },
  {
   "cell_type": "code",
   "execution_count": 141,
   "id": "bc03bca2-a778-4446-a248-cf491744c4be",
   "metadata": {},
   "outputs": [],
   "source": [
    "frag_timescale = 1000"
   ]
  },
  {
   "cell_type": "code",
   "execution_count": 142,
   "id": "d6befb9b-dc20-462e-9911-437ed945c5a0",
   "metadata": {},
   "outputs": [],
   "source": [
    "frag_probas  = np.exp(-DTs/(frag_timescale))"
   ]
  },
  {
   "cell_type": "code",
   "execution_count": 152,
   "id": "a8f4ee62-fb03-49c2-a2f5-2a28ae7b7ca5",
   "metadata": {},
   "outputs": [
    {
     "data": {
      "text/plain": [
       "Text(0, 0.5, 'Fragmentation Probability')"
      ]
     },
     "execution_count": 152,
     "metadata": {},
     "output_type": "execute_result"
    },
    {
     "data": {
      "image/png": "[encoded data removed]",
      "text/plain": [
       "<Figure size 432x288 with 1 Axes>"
      ]
     },
     "metadata": {
      "needs_background": "light"
     },
     "output_type": "display_data"
    }
   ],
   "source": [
    "plt.semilogx(DTs/frag_timescale, frag_probas)\n",
    "plt.scatter(dT/frag_timescale, frag_probas_scat)\n",
    "plt.xlabel('dt/fragemtation-timescale')\n",
    "plt.ylabel('Fragmentation Probability')"
   ]
  },
  {
   "cell_type": "code",
   "execution_count": null,
   "id": "137802b9-114c-40df-95f8-ad608e2b15e9",
   "metadata": {},
   "outputs": [],
   "source": []
  },
  {
   "cell_type": "code",
   "execution_count": 147,
   "id": "3aaf4bd4-0492-4448-88e2-5feda155f2f5",
   "metadata": {},
   "outputs": [],
   "source": [
    "dT = np.array([1,60, 1, 24, 240])\n",
    "frag_probas_scat  = np.exp(-dT/(frag_timescale))"
   ]
  },
  {
   "cell_type": "code",
   "execution_count": 148,
   "id": "fa72dbda-4d3b-4247-a56f-46b24a465a44",
   "metadata": {},
   "outputs": [
    {
     "data": {
      "text/plain": [
       "array([  1,  60,   1,  24, 240])"
      ]
     },
     "execution_count": 148,
     "metadata": {},
     "output_type": "execute_result"
    }
   ],
   "source": [
    "dT"
   ]
  },
  {
   "cell_type": "markdown",
   "id": "7abba81c-b05f-4dd3-a5dd-31251a15fd4c",
   "metadata": {},
   "source": [
    "# sensitivity to fragmentation timescales "
   ]
  },
  {
   "cell_type": "code",
   "execution_count": 149,
   "id": "d75e32b4-99c3-4b65-930d-67a5d9425805",
   "metadata": {},
   "outputs": [
    {
     "ename": "KeyboardInterrupt",
     "evalue": "",
     "output_type": "error",
     "traceback": [
      "\u001b[0;31m--------------------------------------------------------------------------\u001b[0m",
      "\u001b[0;31mKeyboardInterrupt\u001b[0m                        Traceback (most recent call last)",
      "\u001b[0;32m<ipython-input-149-8963e9565ffe>\u001b[0m in \u001b[0;36m<module>\u001b[0;34m\u001b[0m\n\u001b[1;32m     34\u001b[0m     \u001b[0mlengthxx\u001b[0m \u001b[0;34m=\u001b[0m \u001b[0mfrag_vec\u001b[0m\u001b[0;34m(\u001b[0m\u001b[0mlengthxx\u001b[0m\u001b[0;34m,\u001b[0m \u001b[0mdt\u001b[0m\u001b[0;34m,\u001b[0m \u001b[0mfrag_timescale\u001b[0m\u001b[0;34m,\u001b[0m \u001b[0;34m'3D'\u001b[0m\u001b[0;34m)\u001b[0m\u001b[0;34m*\u001b[0m\u001b[0mlength_lim\u001b[0m\u001b[0;34m\u001b[0m\u001b[0;34m\u001b[0m\u001b[0m\n\u001b[1;32m     35\u001b[0m     \u001b[0magexx\u001b[0m \u001b[0;34m=\u001b[0m \u001b[0magexx\u001b[0m \u001b[0;34m+\u001b[0m \u001b[0;36m1\u001b[0m\u001b[0;34m*\u001b[0m\u001b[0mtruth\u001b[0m\u001b[0;34m\u001b[0m\u001b[0;34m\u001b[0m\u001b[0m\n\u001b[0;32m---> 36\u001b[0;31m     \u001b[0monline\u001b[0m \u001b[0;34m=\u001b[0m \u001b[0msum\u001b[0m\u001b[0;34m(\u001b[0m\u001b[0mtruth\u001b[0m\u001b[0;34m)\u001b[0m\u001b[0;34m\u001b[0m\u001b[0;34m\u001b[0m\u001b[0m\n\u001b[0m\u001b[1;32m     37\u001b[0m \u001b[0;31m#     i += 1\u001b[0m\u001b[0;34m\u001b[0m\u001b[0;34m\u001b[0m\u001b[0;34m\u001b[0m\u001b[0m\n",
      "\u001b[0;31mKeyboardInterrupt\u001b[0m: "
     ]
    }
   ],
   "source": [
    "# parameters\n",
    "r = 5e-8 # 100nm\n",
    "k = 0\n",
    "sim_time = 1000 #365*10\n",
    "N = sim_time + 1\n",
    "V = 4/3 * np.pi*r**3\n",
    "mode = 1/2\n",
    "frag_timescale = 100\n",
    "frag_mode = 1/2\n",
    "k = 0\n",
    "particles = 1000\n",
    "initial_depth = 1000\n",
    "β = 0.8\n",
    "ν = 1e-6\n",
    "\n",
    "# Da Arrais\n",
    "time = np.linspace(0, sim_time, N)\n",
    "dt = time[1] - time[0]\n",
    "\n",
    "lengthxx = np.zeros(particles)\n",
    "depthxx = np.zeros(particles) + initial_depth\n",
    "agexx = np.zeros(particles)\n",
    "\n",
    "lengthxx[:] = r\n",
    "online = sum(depthxx > 20)\n",
    "i = 0\n",
    "\n",
    "while online != 0:\n",
    "# for i in range(sim_time):\n",
    "    truth = depthxx > 20\n",
    "    length_lim = lengthxx < 1e-3\n",
    "    \n",
    "    depthxx = depthxx - sinkingVelocity(lengthxx, β, ν)*dt*truth\n",
    "    lengthxx = frag_vec(lengthxx, dt, frag_timescale, '3D')*length_lim\n",
    "    agexx = agexx + 1*truth\n",
    "    online = sum(truth)\n",
    "#     i += 1"
   ]
  },
  {
   "cell_type": "code",
   "execution_count": null,
   "id": "319f1baf",
   "metadata": {},
   "outputs": [],
   "source": [
    "plt.scatter(depthxx, lengthxx)\n",
    "plt.semilogy()"
   ]
  },
  {
   "cell_type": "code",
   "execution_count": 126,
   "id": "1faea971",
   "metadata": {},
   "outputs": [
    {
     "data": {
      "text/plain": [
       "array([ 4.97467553e+03,  4.99603710e+03,  4.99901055e+03,  4.99999824e+03,\n",
       "        4.99999434e+03,  4.99996095e+03,  3.90570000e+03,  4.99999882e+03,\n",
       "        4.92491968e+03,  4.99945578e+03,  4.99949268e+03,  4.95065828e+03,\n",
       "        4.98847698e+03,  4.99999992e+03,  4.99557721e+03,  4.99987269e+03,\n",
       "        4.99392216e+03,  4.99813586e+03,  4.99957905e+03,  4.88073032e+03,\n",
       "        4.99917834e+03,  4.99989587e+03,  4.99733137e+03,  4.99999110e+03,\n",
       "        4.99999951e+03,  4.99794962e+03,  4.98594714e+03,  4.99999995e+03,\n",
       "        4.99999884e+03,  4.98479068e+03,  4.79136208e+03,  4.99998231e+03,\n",
       "        4.99948244e+03,  3.99121125e+03,  4.99837914e+03,  4.97189461e+03,\n",
       "        4.98025755e+03,  4.99798580e+03,  4.79387667e+03,  4.99999998e+03,\n",
       "        4.93731276e+03,  4.80819712e+03,  4.99999148e+03,  4.99954219e+03,\n",
       "        4.99952962e+03,  4.99300131e+03,  4.99999728e+03,  4.99998528e+03,\n",
       "        4.99993385e+03,  4.99998490e+03,  4.99997916e+03,  1.94375173e+03,\n",
       "        4.98646856e+03,  4.99810571e+03,  4.99999902e+03,  4.99999370e+03,\n",
       "        4.99999336e+03,  4.99919337e+03,  4.99998458e+03,  4.99745323e+03,\n",
       "        4.96645495e+03,  4.99977439e+03,  4.97017768e+02,  4.99980066e+03,\n",
       "        4.99999052e+03,  4.99958712e+03,  4.99562903e+03,  4.99847182e+03,\n",
       "        4.91288382e+03,  4.99991044e+03,  4.82513263e+03,  4.99998888e+03,\n",
       "        4.99987830e+03,  4.99948183e+03,  4.99999279e+03,  4.99726233e+03,\n",
       "        4.99943069e+03,  4.99999159e+03,  4.99948966e+03,  4.99999497e+03,\n",
       "        4.99979633e+03,  4.99999964e+03,  4.99978765e+03,  4.99967206e+03,\n",
       "        4.99991866e+03,  4.99999243e+03,  4.99996734e+03,  4.99986298e+03,\n",
       "        4.99397322e+03,  4.95232957e+03,  4.99919646e+03,  4.99999601e+03,\n",
       "        4.99250305e+03,  4.99997305e+03,  4.97573130e+03,  4.98356070e+03,\n",
       "       -8.41266561e+01,  4.99965491e+03,  4.99949886e+03,  4.99665332e+03,\n",
       "        4.99999874e+03,  4.99993658e+03,  4.99999798e+03,  4.99998260e+03,\n",
       "        4.99998989e+03,  4.99682082e+03,  4.99995988e+03,  4.99999991e+03,\n",
       "        4.99998649e+03,  4.99604043e+03,  4.99999167e+03,  4.99999883e+03,\n",
       "        4.99827327e+03,  4.99921188e+03,  4.99976197e+03,  4.99912068e+03,\n",
       "        4.99999858e+03,  4.94646411e+03,  4.97176389e+03,  4.99987251e+03,\n",
       "        4.95104118e+03,  4.99997909e+03,  4.99984603e+03,  4.99999718e+03,\n",
       "        4.99986491e+03,  4.99927853e+03,  4.99999832e+03,  4.99907944e+03,\n",
       "        4.99999378e+03,  4.99931534e+03,  4.99999592e+03,  4.99997521e+03,\n",
       "        4.99989045e+03,  4.99451052e+03,  4.99999761e+03,  4.99999942e+03,\n",
       "        4.99977440e+03,  4.99999251e+03,  4.99999742e+03,  4.86143340e+03,\n",
       "        4.99986572e+03,  4.99998044e+03,  4.99928009e+03,  4.99998912e+03,\n",
       "        4.99315788e+03,  4.99995565e+03,  4.98837855e+03,  4.98969982e+03,\n",
       "        4.99886916e+03,  4.99797156e+03,  4.99580992e+03,  4.99999993e+03,\n",
       "        4.99903328e+03,  4.97315743e+03,  4.99618242e+03,  4.97674402e+03,\n",
       "        4.94456679e+03,  4.57129741e+03,  4.97140536e+03,  4.99425409e+03,\n",
       "        4.99982586e+03,  4.99999648e+03,  4.99989083e+03,  4.99999992e+03,\n",
       "        4.99964663e+03,  4.98884294e+03,  4.97900978e+03,  4.99999982e+03,\n",
       "        4.99998363e+03,  4.99877903e+03,  4.97900088e+03,  4.99987804e+03,\n",
       "        4.98072415e+03,  4.99828137e+03,  4.99413763e+03,  4.99999125e+03,\n",
       "        4.99999698e+03,  4.99997777e+03,  4.99988912e+03,  4.99973765e+03,\n",
       "        4.99998962e+03,  4.99999867e+03,  4.99999687e+03,  4.99950558e+03,\n",
       "        4.99999617e+03,  4.99999971e+03,  4.99999361e+03,  4.22285861e+00,\n",
       "        4.99996194e+03,  4.99995066e+03,  4.99999064e+03,  4.99979908e+03,\n",
       "        4.99990701e+03,  4.94793085e+03,  4.99977565e+03,  4.99999116e+03,\n",
       "        4.98784908e+03,  4.99999788e+03,  4.99999240e+03,  4.99997175e+03,\n",
       "        4.99998266e+03,  4.99997727e+03,  4.99997034e+03,  4.99993789e+03,\n",
       "        4.99684726e+03,  4.99999900e+03,  4.98654041e+03,  4.99950795e+03,\n",
       "        4.99721573e+03,  4.99999993e+03,  4.99861087e+03,  4.99999996e+03,\n",
       "        4.99999490e+03,  4.98884585e+03,  4.99977996e+03,  4.99999865e+03,\n",
       "        4.99101837e+03,  4.99984395e+03,  4.99990194e+03,  4.99995832e+03,\n",
       "        4.99999956e+03,  4.98831313e+03,  4.99977090e+03,  4.99959760e+03,\n",
       "        4.99901757e+03,  4.99941982e+03,  4.99484449e+03,  4.99999985e+03,\n",
       "        4.99977488e+03,  4.67050557e+03,  4.99995381e+03,  4.99999992e+03,\n",
       "        4.99999742e+03,  4.99999373e+03,  4.99950020e+03,  4.99997153e+03,\n",
       "        4.99996916e+03,  4.99936088e+03,  4.99999453e+03,  4.99999471e+03,\n",
       "        4.99999178e+03,  4.99999966e+03,  4.99898302e+03,  4.99985473e+03,\n",
       "        4.99999969e+03,  4.99999925e+03,  4.99978570e+03,  4.99988988e+03,\n",
       "        4.99994818e+03,  4.99999404e+03,  4.99999999e+03,  4.99998243e+03,\n",
       "        4.99967708e+03,  4.99999901e+03,  4.09538307e+03,  4.99999758e+03,\n",
       "        4.99979516e+03,  4.99999989e+03,  4.99930424e+03,  4.99998759e+03,\n",
       "        4.99999821e+03,  4.99999723e+03,  4.99987542e+03,  4.97915044e+03,\n",
       "        4.77937777e+03,  4.99986971e+03,  4.99858838e+03,  4.99999992e+03,\n",
       "        4.99990415e+03,  4.99999805e+03,  4.99999437e+03,  4.60433438e+03,\n",
       "        4.82994194e+03,  4.99999995e+03,  4.98223477e+03,  4.99966254e+03,\n",
       "        4.94560367e+03,  4.99951903e+03,  4.99997798e+03,  4.99999988e+03,\n",
       "        4.99999046e+03,  4.99978799e+03,  4.99999900e+03,  4.99995409e+03,\n",
       "        4.99962585e+03,  4.99999669e+03,  4.99976572e+03,  4.99999504e+03,\n",
       "        4.99996924e+03,  4.99998268e+03,  1.11389434e+01,  4.99981154e+03,\n",
       "        4.99979936e+03,  4.99997261e+03,  4.99999255e+03,  4.99999884e+03,\n",
       "        4.99997253e+03,  4.99999909e+03, -8.14551204e+01,  4.99532024e+03,\n",
       "        4.99941379e+03,  4.99999930e+03,  4.99998210e+03,  4.96181594e+03,\n",
       "        4.99999933e+03,  4.99961560e+03,  4.98942700e+03,  4.99986425e+03,\n",
       "        4.99999771e+03,  4.99886607e+03,  4.92927523e+03,  4.99943006e+03,\n",
       "        4.99902264e+03,  4.99692907e+03,  4.99986737e+03,  4.99999773e+03,\n",
       "        4.99868281e+03,  4.99998422e+03,  4.99999212e+03,  4.99994940e+03,\n",
       "        4.99999698e+03,  4.99994877e+03,  4.99999882e+03,  4.43127206e+03,\n",
       "        4.86367132e+03,  4.99999998e+03,  4.99630701e+03,  4.99996535e+03,\n",
       "        4.99995629e+03,  4.99992977e+03,  4.99997882e+03,  4.99999711e+03,\n",
       "        4.99999999e+03,  4.99881919e+03,  4.99933484e+03,  4.99708781e+03,\n",
       "        4.99931281e+03,  4.40949700e+03,  4.99997048e+03,  4.99999964e+03,\n",
       "        4.99963980e+03,  4.99987318e+03,  4.99992347e+03,  4.99994265e+03,\n",
       "        4.99999935e+03,  4.99901892e+03,  4.99977651e+03,  4.99999997e+03,\n",
       "        4.99807120e+03,  4.99356188e+03,  4.99730505e+03,  4.99990706e+03,\n",
       "        4.99888895e+03,  4.99999075e+03,  4.98262680e+03,  4.99819124e+03,\n",
       "        4.99975841e+03,  4.99945680e+03,  4.99971092e+03,  4.99941117e+03,\n",
       "        4.99999952e+03,  4.99975507e+03,  4.99195333e+03,  4.99999514e+03,\n",
       "        4.99999991e+03,  4.99829113e+03,  4.99982362e+03,  4.99995159e+03,\n",
       "        4.99960286e+03,  4.99917411e+03,  4.99260082e+03,  4.99976812e+03,\n",
       "        4.99997674e+03,  4.99999556e+03,  4.99999958e+03,  6.01514712e-01,\n",
       "        4.99999295e+03,  4.99997644e+03,  4.99738454e+03,  4.99993794e+03,\n",
       "        4.99996932e+03,  4.99985652e+03,  4.99990101e+03,  4.99998143e+03,\n",
       "        4.99654988e+03,  4.99999528e+03,  4.98737788e+03,  4.99861152e+03,\n",
       "        4.99995140e+03,  4.95956184e+03,  4.99999611e+03,  4.99982986e+03,\n",
       "        4.99501987e+03,  4.99981821e+03,  4.99998225e+03,  4.99999170e+03,\n",
       "        4.99996649e+03,  4.35358837e+03,  4.99973681e+03,  4.99960321e+03,\n",
       "        4.99999912e+03,  4.99736943e+03,  4.99999998e+03,  4.99913769e+03,\n",
       "        4.87996419e+03,  4.99999028e+03,  4.99778466e+03,  4.99999030e+03,\n",
       "        4.99785850e+03,  4.99984444e+03,  4.99999988e+03,  4.99999226e+03,\n",
       "        4.99997926e+03,  4.99999999e+03,  4.99995566e+03,  4.99999316e+03,\n",
       "        4.99954641e+03,  4.99999976e+03,  4.99932124e+03,  4.97954179e+03,\n",
       "        4.99989768e+03,  4.98834698e+03,  4.99795640e+03,  4.99996815e+03,\n",
       "        4.99980356e+03,  4.99774624e+03,  4.99979796e+03,  4.99993634e+03,\n",
       "        4.99980370e+03,  4.99963203e+03,  4.99996392e+03,  4.99999356e+03,\n",
       "        4.99998550e+03,  4.99990798e+03,  4.99999889e+03,  4.99999994e+03,\n",
       "        4.99982498e+03,  4.99564826e+03,  4.35677446e+03,  4.99999831e+03,\n",
       "        4.99997685e+03,  4.99993266e+03,  4.99999814e+03,  4.84392506e+03,\n",
       "        4.97371872e+03,  4.99991985e+03,  4.99946293e+03,  4.99999817e+03,\n",
       "        3.49880865e+03,  4.99973876e+03,  4.68930200e+03,  4.99999756e+03,\n",
       "        4.99996726e+03,  4.99987814e+03,  4.97171207e+03,  4.93510537e+03,\n",
       "        4.93742201e+03,  4.98785631e+03,  4.99369977e+03,  4.99999938e+03,\n",
       "        4.98140350e+03,  4.99999362e+03,  4.99996828e+03,  4.99951885e+03,\n",
       "        4.99999980e+03,  4.99948916e+03,  4.98024279e+03,  4.99822575e+03,\n",
       "        4.99891593e+03,  4.96334295e+03,  4.99999724e+03,  4.99974384e+03,\n",
       "        4.99999200e+03,  4.97905849e+03,  4.99958120e+03,  4.99999657e+03,\n",
       "        4.99290457e+03,  4.99999434e+03,  4.99981815e+03,  4.99684621e+03,\n",
       "        4.99823971e+03,  2.53137171e+03,  4.99514011e+03,  4.98581195e+03,\n",
       "        4.99999833e+03, -9.13144576e+01,  4.99990678e+03,  4.99816905e+03,\n",
       "        4.99289642e+03,  4.99999711e+03,  4.99999628e+03,  4.33757246e+03,\n",
       "        4.98069058e+03,  4.99909741e+03,  4.99941779e+03,  3.63364392e+03,\n",
       "        4.99998279e+03,  4.99978886e+03,  4.99995530e+03,  4.99999246e+03,\n",
       "        4.95850536e+03,  4.99989373e+03,  4.94677981e+03,  4.65850303e+03,\n",
       "        4.99999688e+03,  4.99918450e+03,  4.99971516e+03,  4.99984179e+03,\n",
       "        4.99999845e+03,  4.99272064e+03,  4.99998650e+03,  4.99714290e+03,\n",
       "        4.99751433e+03,  4.95122574e+03,  4.99942050e+03,  4.99956694e+03,\n",
       "        4.99987180e+03,  4.96210862e+03,  4.99999907e+03,  4.96574397e+03,\n",
       "        4.99982677e+03,  4.99941677e+03,  4.99982786e+03,  4.99992281e+03,\n",
       "        4.99994358e+03,  4.99997543e+03,  4.99995414e+03,  4.99996979e+03,\n",
       "        4.99919012e+03,  4.99986814e+03,  4.99997394e+03,  4.99998095e+03,\n",
       "        4.99983185e+03,  4.99990032e+03,  4.99999420e+03,  4.99999634e+03,\n",
       "        4.99994475e+03,  4.99922825e+03,  4.99972562e+03,  4.99888064e+03,\n",
       "        4.99998853e+03,  4.42683187e+03,  4.99981341e+03,  4.99989766e+03,\n",
       "        4.90290040e+03,  4.99990639e+03,  4.99934588e+03,  4.99991632e+03,\n",
       "        4.99999571e+03,  4.99993618e+03,  4.99999506e+03,  4.89766614e+03,\n",
       "        4.99990528e+03,  4.99999540e+03,  4.99999234e+03,  4.99999321e+03,\n",
       "       -9.53344343e+01,  4.99653245e+03,  4.99079092e+03,  4.99951350e+03,\n",
       "        4.99999985e+03,  4.99998658e+03,  4.99959034e+03,  4.99999829e+03,\n",
       "        4.99799412e+03,  4.99995162e+03, -4.46208690e+01,  4.99944346e+03,\n",
       "        4.99988010e+03,  4.97220906e+03,  4.99999519e+03,  4.99999633e+03,\n",
       "        4.99988252e+03,  4.65375073e+03,  4.99989448e+03,  4.99999755e+03,\n",
       "        4.99574009e+03,  4.93086664e+03,  4.99974568e+03,  4.99999067e+03,\n",
       "        4.99903296e+03,  4.99999994e+03,  4.99986249e+03,  4.99999904e+03,\n",
       "        4.99964458e+03,  4.99997159e+03,  4.99439172e+03,  4.99997951e+03,\n",
       "        4.99601997e+03,  4.99212212e+03,  4.99997581e+03,  4.95028519e+03,\n",
       "        4.99955668e+03,  4.99999907e+03,  4.87370171e+03,  4.97780017e+03,\n",
       "        4.99914334e+03,  4.99966486e+03,  4.99992041e+03,  4.99999880e+03,\n",
       "        4.99410510e+03,  4.99983923e+03,  4.99453495e+03,  4.99999862e+03,\n",
       "        4.99629546e+03,  4.99964512e+03,  4.99999951e+03,  4.99906245e+03,\n",
       "        4.99999965e+03,  4.99810844e+03,  4.97898957e+03,  4.99999452e+03,\n",
       "        4.99879251e+03,  4.98819587e+03,  4.99907235e+03,  4.99999925e+03,\n",
       "        4.99994136e+03,  4.99999726e+03,  4.99937940e+03,  4.99995059e+03,\n",
       "        4.99999606e+03,  4.99938740e+03,  1.79273978e+03,  4.99999768e+03,\n",
       "        4.87351953e+03,  4.99005574e+03,  4.99993481e+03,  4.99996350e+03,\n",
       "        4.99789204e+03,  4.99994928e+03,  4.99835145e+03,  4.99999105e+03,\n",
       "        4.76869135e+03,  4.90522828e+03,  4.99993133e+03,  4.99549434e+03,\n",
       "        4.99973456e+03,  4.99926231e+03,  4.99980627e+03,  4.99986324e+03,\n",
       "        4.99985532e+03,  4.99986706e+03,  4.99952074e+03,  4.99960222e+03,\n",
       "        4.99942750e+03,  4.99999130e+03,  4.99643141e+03,  4.99991414e+03,\n",
       "        4.99972518e+03,  4.99856421e+03,  4.99782794e+03,  4.99999994e+03,\n",
       "        4.98489201e+03,  4.99992533e+03,  4.99999287e+03,  4.99403839e+03,\n",
       "        4.99701439e+03,  4.99997038e+03,  4.99728625e+03,  4.99982818e+03,\n",
       "        4.99789762e+03,  4.99275589e+03,  4.99998260e+03,  4.97780445e+03,\n",
       "        4.99982069e+03,  4.99999999e+03,  4.99999127e+03,  4.85599028e+03,\n",
       "        4.99085719e+03,  4.99998947e+03,  4.99999808e+03,  4.99997989e+03,\n",
       "        4.99999944e+03,  4.99999968e+03,  4.99999623e+03,  4.99998274e+03,\n",
       "        4.98702352e+03,  4.94598324e+03,  4.99997302e+03,  4.99886885e+03,\n",
       "        4.99993106e+03,  4.99996933e+03,  4.99999943e+03,  4.99284789e+03,\n",
       "        4.99961728e+03,  4.99973413e+03, -1.06864842e+02,  4.99603554e+03,\n",
       "        4.99926237e+03,  4.99824242e+03,  4.87821477e+03,  4.99871968e+03,\n",
       "        3.51189483e+03,  4.99995476e+03,  4.99998653e+03,  4.99812062e+03,\n",
       "        4.99999920e+03,  4.99870799e+03,  4.99998931e+03, -4.58121657e+01,\n",
       "        4.99999966e+03,  3.20361446e+03,  4.99999925e+03,  4.99993653e+03,\n",
       "        4.99999814e+03,  4.99984607e+03,  4.99989015e+03,  4.99999078e+03,\n",
       "        4.99999055e+03,  4.99999269e+03,  4.99996261e+03,  4.69000952e+03,\n",
       "        4.99962713e+03,  4.99993188e+03,  4.99991753e+03,  4.99110942e+03,\n",
       "        4.98602073e+03,  4.99937163e+03,  4.98816517e+03,  4.99975176e+03,\n",
       "        4.99997918e+03,  4.99905580e+03,  4.99955699e+03,  4.99865344e+03,\n",
       "        4.84782160e+03,  4.99607792e+03,  4.99996001e+03,  4.99980176e+03,\n",
       "        4.99996615e+03,  4.99962597e+03,  4.99999783e+03,  4.99999839e+03,\n",
       "        4.99986828e+03,  4.92636572e+03,  4.99999390e+03,  4.99999996e+03,\n",
       "        4.99999884e+03,  4.99985653e+03,  4.99999431e+03,  4.99966972e+03,\n",
       "        4.98299538e+03,  4.99982641e+03,  4.99993118e+03,  4.99979419e+03,\n",
       "        4.99849506e+03,  4.99981819e+03,  4.99999919e+03,  4.99955936e+03,\n",
       "        4.90850498e+03,  4.99817645e+03,  4.99990503e+03,  4.99738867e+03,\n",
       "        4.99772358e+03,  4.98296677e+03,  4.99971122e+03,  4.99978657e+03,\n",
       "        4.99997747e+03,  4.99902517e+03,  4.99986610e+03,  4.99999651e+03,\n",
       "        4.99999811e+03,  4.96108134e+03,  4.99805894e+03,  4.99989888e+03,\n",
       "        4.99998956e+03,  4.99999220e+03,  4.99968242e+03,  4.99999968e+03,\n",
       "        4.99997536e+03,  4.99999795e+03,  4.99997188e+03,  4.99664651e+03,\n",
       "        4.99983498e+03,  4.99999071e+03,  4.66206433e+03,  4.99562319e+03,\n",
       "        4.98162320e+03,  4.96697574e+03,  4.99999934e+03,  4.99908106e+03,\n",
       "        4.99993939e+03,  4.98538819e+03,  4.97296263e+03,  4.99314751e+03,\n",
       "        4.99996898e+03,  4.99623362e+03,  4.99964233e+03,  4.25675129e+03,\n",
       "        4.99998881e+03,  4.99983979e+03,  4.99998111e+03,  4.99548259e+03,\n",
       "        4.99991328e+03,  4.99983383e+03,  4.99997748e+03,  4.99122530e+03,\n",
       "        3.74481523e+03,  4.99990456e+03,  4.99999993e+03,  4.99028940e+03,\n",
       "        4.99973689e+03,  4.99999725e+03,  4.99448030e+03,  4.96798556e+03,\n",
       "        4.99979868e+03,  4.99998612e+03,  4.13112381e+03,  4.99960070e+03,\n",
       "        4.99884258e+03,  4.99999997e+03,  4.99997470e+03,  4.99999981e+03,\n",
       "        4.99608628e+03,  4.99880132e+03,  4.99998355e+03,  4.86271255e+03,\n",
       "        4.99707619e+03,  4.99999978e+03,  4.99871041e+03,  4.99978695e+03,\n",
       "        4.99999847e+03,  4.99999805e+03,  4.99999362e+03,  4.99998567e+03,\n",
       "        4.99991898e+03,  4.99999990e+03,  4.99999692e+03,  4.99999601e+03,\n",
       "        4.99930104e+03,  4.99981908e+03,  4.92211636e+03,  4.99999009e+03,\n",
       "        4.99961356e+03,  4.99999921e+03,  4.99998338e+03,  4.99998909e+03,\n",
       "        4.99931626e+03,  4.87966614e+03,  4.99998734e+03,  4.99998852e+03,\n",
       "        4.99874147e+03,  4.99656608e+03,  4.99999910e+03,  4.99996301e+03,\n",
       "        4.99999852e+03,  4.99999429e+03,  4.99999843e+03,  4.99998575e+03,\n",
       "        4.99999475e+03,  4.99999623e+03,  4.99998395e+03,  4.98550504e+03,\n",
       "        4.99971118e+03,  4.97293629e+03,  4.99979244e+03,  4.99999486e+03,\n",
       "        4.99999421e+03,  4.93801409e+03,  4.99951350e+03,  4.99602882e+03,\n",
       "        4.99992836e+03,  4.99943000e+03,  4.99795374e+03,  4.99999044e+03,\n",
       "        4.97809129e+03,  4.99999726e+03,  4.99979838e+03,  4.99875377e+03,\n",
       "        4.99993533e+03,  4.79163752e+03,  4.99994019e+03,  4.99858695e+03,\n",
       "        4.99959297e+03,  4.99980991e+03,  4.96686211e+03,  4.99998772e+03,\n",
       "        4.99836835e+03,  4.99910952e+03,  4.99998528e+03, -3.46540552e+02,\n",
       "        4.99997759e+03,  4.99971674e+03,  4.99999993e+03,  4.96585292e+03,\n",
       "        4.97560979e+03,  4.99999622e+03,  4.99795101e+03,  4.99999986e+03,\n",
       "        4.99997692e+03,  4.99984207e+03,  4.99993390e+03,  4.99999985e+03,\n",
       "        4.99999801e+03,  3.92210615e+03,  4.99941080e+03,  4.99998921e+03,\n",
       "        4.94629686e+03,  4.99965945e+03,  4.99999016e+03,  4.99938563e+03,\n",
       "        4.99987312e+03,  4.99526383e+03,  4.99975291e+03,  4.98676548e+03,\n",
       "        4.99999981e+03,  4.99995649e+03,  4.99992333e+03,  4.99999487e+03,\n",
       "        4.97655938e+03,  4.97966318e+03,  4.99946480e+03,  4.99595991e+03,\n",
       "        4.99985348e+03,  4.99998391e+03,  1.68562623e+03,  4.91559586e+03,\n",
       "        4.88478005e+03,  4.99949331e+03,  4.99996955e+03,  4.99948841e+03,\n",
       "        4.99990272e+03,  4.99162830e+03,  4.99963445e+03,  4.99999630e+03,\n",
       "        4.99913815e+03,  4.99995634e+03,  4.55223083e+03,  4.55014314e+03,\n",
       "        4.99999999e+03,  4.99059870e+03,  4.99999996e+03,  4.99623194e+03,\n",
       "        4.99999813e+03,  4.99972806e+03,  4.96415856e+03,  4.99999437e+03,\n",
       "        4.99999917e+03,  4.99945501e+03,  4.99974678e+03, -6.39118153e+00,\n",
       "        4.99899949e+03,  4.99997160e+03,  4.99997645e+03,  4.99998801e+03,\n",
       "        4.99999116e+03,  4.99596887e+03,  4.98591747e+03,  4.99987051e+03,\n",
       "        4.99927419e+03,  4.99807765e+03,  4.99868719e+03,  4.96960878e+03,\n",
       "        4.99999891e+03,  4.99985861e+03,  4.41395748e+03,  4.99952299e+03,\n",
       "        4.99991694e+03,  4.99999938e+03,  4.99998930e+03,  4.99926290e+03,\n",
       "        4.99999900e+03,  4.99999387e+03,  4.99993075e+03,  4.99990179e+03,\n",
       "        4.99999629e+03,  4.99994135e+03,  4.91817512e+03,  4.99987853e+03,\n",
       "        1.95930856e+03,  4.99700082e+03,  4.99998368e+03,  4.91744015e+03,\n",
       "        4.99970991e+03,  4.99240211e+03,  4.99957542e+03,  4.99986859e+03,\n",
       "        4.99999967e+03,  4.99997432e+03,  4.99999939e+03,  4.99990679e+03,\n",
       "        4.99990431e+03,  4.99999965e+03,  4.99998434e+03,  4.81151510e+03,\n",
       "        1.48510182e+01,  4.99997157e+03,  4.99999978e+03,  4.99988245e+03,\n",
       "        4.99999892e+03,  4.99245721e+03,  4.99999178e+03,  4.99189243e+03,\n",
       "        4.99945760e+03,  4.99999934e+03,  4.15906828e+03,  4.99993344e+03,\n",
       "        4.99996091e+03,  4.99990469e+03,  4.99980450e+03,  4.99999914e+03])"
      ]
     },
     "execution_count": 126,
     "metadata": {},
     "output_type": "execute_result"
    }
   ],
   "source": [
    "depthxx"
   ]
  },
  {
   "cell_type": "code",
   "execution_count": null,
   "id": "a8ad8824",
   "metadata": {},
   "outputs": [],
   "source": []
  }
 ],
 "metadata": {
  "kernelspec": {
   "display_name": "Python 3",
   "language": "python",
   "name": "python3"
  },
  "language_info": {
   "codemirror_mode": {
    "name": "ipython",
    "version": 3
   },
   "file_extension": ".py",
   "mimetype": "text/x-python",
   "name": "python",
   "nbconvert_exporter": "python",
   "pygments_lexer": "ipython3",
   "version": "3.6.13"
  }
 },
 "nbformat": 4,
 "nbformat_minor": 5
}
