{
 "cells": [
  {
   "cell_type": "code",
   "execution_count": 13,
   "id": "825a0411",
   "metadata": {},
   "outputs": [],
   "source": [
    "import numpy as np\n",
    "import matplotlib.pyplot as plt\n",
    "import gsw\n",
    "import xarray as xr\n",
    "from glob import glob\n",
    "from scipy import interpolate"
   ]
  },
  {
   "cell_type": "markdown",
   "id": "2bcc57e9",
   "metadata": {},
   "source": [
    "Dynamics\n",
    "\n",
    "$$ \\vec{v} = \\vec{u} + \\vec{v}_s$$\n",
    "\n",
    "with\n",
    "\n",
    "$\\vec{v_s} = (1 - \\beta) \\vec{g} \\tau_p$\n",
    "\n",
    "$\\beta = \\frac{3 \\rho_f}{2 \\rho_p + \\rho_f}$\n",
    "\n",
    "$\\tau_p = \\frac{a^2}{3 \\beta \\nu}$"
   ]
  },
  {
   "cell_type": "code",
   "execution_count": 14,
   "id": "6e69dd00",
   "metadata": {},
   "outputs": [],
   "source": [
    "def sinking_velocity(β, τ):\n",
    "    g=9.81\n",
    "    v_s = (1 - β)*g*τ\n",
    "    \n",
    "    return v_s\n",
    "\n",
    "def beta(ρ_f, ρ_p):\n",
    "    _β = 3*ρ_f/(2*ρ_p + ρ_f)\n",
    "    \n",
    "    return _β\n",
    "\n",
    "def tau_p(a, β, ν):\n",
    "    _τ = a**2/(3*β*ν)\n",
    "    \n",
    "    return _τ\n",
    "    "
   ]
  },
  {
   "cell_type": "markdown",
   "id": "6477bf2d",
   "metadata": {},
   "source": [
    " - Polypropylene(PP): 850–920 kg/m3\n",
    " - Polyethylene (PE): 890–980 kg/m3\n",
    " - Polystyrene (PS): 1040 kg/m3 (excluding its foamed version)\n",
    " - Polyesters (PEST): 1100– 1400 kg/m3\n",
    " - Polyamide (PA): 1120–1150 kg/m3\n",
    " - Acrylic: of 1180 kg/m3 "
   ]
  },
  {
   "cell_type": "markdown",
   "id": "25d86ae2",
   "metadata": {},
   "source": [
    "### PP"
   ]
  },
  {
   "cell_type": "code",
   "execution_count": 15,
   "id": "93ba8a49",
   "metadata": {},
   "outputs": [
    {
     "data": {
      "text/plain": [
       "1380.0"
      ]
     },
     "execution_count": 15,
     "metadata": {},
     "output_type": "execute_result"
    }
   ],
   "source": [
    "100**3*1.38/1000"
   ]
  },
  {
   "cell_type": "code",
   "execution_count": 16,
   "id": "fb9c0e8e",
   "metadata": {},
   "outputs": [],
   "source": [
    "ρ_sea = 1035\n",
    "ρ_PE = 1380\n",
    "ν = 1e-6\n",
    "\n",
    "diametres = np.linspace(1, 100000, 1000)*1e-9"
   ]
  },
  {
   "cell_type": "code",
   "execution_count": 17,
   "id": "50ecaeeb",
   "metadata": {},
   "outputs": [],
   "source": [
    "beta_PE = beta(ρ_sea, ρ_PE)"
   ]
  },
  {
   "cell_type": "code",
   "execution_count": 18,
   "id": "8a3a6736",
   "metadata": {},
   "outputs": [],
   "source": [
    "tau_PE = tau_p(diametres, beta_PE, ν)"
   ]
  },
  {
   "cell_type": "code",
   "execution_count": 19,
   "id": "83c50ca3",
   "metadata": {},
   "outputs": [],
   "source": [
    "vs_PE = sinking_velocity(beta_PE, tau_PE)"
   ]
  },
  {
   "cell_type": "code",
   "execution_count": 20,
   "id": "f96e4971",
   "metadata": {},
   "outputs": [
    {
     "data": {
      "text/plain": [
       "[<matplotlib.lines.Line2D at 0x7fe1394af880>]"
      ]
     },
     "execution_count": 20,
     "metadata": {},
     "output_type": "execute_result"
    },
    {
     "data": {
      "image/png": "[encoded data removed]",
      "text/plain": [
       "<Figure size 432x288 with 1 Axes>"
      ]
     },
     "metadata": {
      "needs_background": "light"
     },
     "output_type": "display_data"
    }
   ],
   "source": [
    "plt.plot(diametres, tau_PE)"
   ]
  },
  {
   "cell_type": "code",
   "execution_count": 21,
   "id": "46038b27",
   "metadata": {},
   "outputs": [
    {
     "data": {
      "text/plain": [
       "[<matplotlib.lines.Line2D at 0x7fe13934deb0>]"
      ]
     },
     "execution_count": 21,
     "metadata": {},
     "output_type": "execute_result"
    },
    {
     "data": {
      "image/png": "[encoded data removed]",
      "text/plain": [
       "<Figure size 432x288 with 1 Axes>"
      ]
     },
     "metadata": {
      "needs_background": "light"
     },
     "output_type": "display_data"
    }
   ],
   "source": [
    "plt.plot(diametres, vs_PE)"
   ]
  },
  {
   "cell_type": "markdown",
   "id": "75a66514-7dc6-4c86-8505-d36f7d6f5222",
   "metadata": {},
   "source": [
    "## GSW density analysis\n",
    "\n",
    "Basically the MOi dataset has data on Practical Salinity and Potential Temperature, but to compute the desnity of seawater with TEOS10, you need to have Absolute Salinity and Conservative Temperature. \n",
    "\n",
    "So the question is what happens if you don't convert the Practical Salinity and Potential Temperature, and direclty use the with the TEOS?"
   ]
  },
  {
   "cell_type": "code",
   "execution_count": 23,
   "id": "93b71178-2ba0-4c86-9f86-482aab16a5c6",
   "metadata": {},
   "outputs": [],
   "source": [
    "data_path = '/storage/shared/oceanparcels/input_data/MOi/psy4v3r1/'\n",
    "mesh_mask = '/storage/shared/oceanparcels/input_data/MOi/domain_ORCA0083-N006/mesh_hgr.nc'\n",
    "\n",
    "tfiles = sorted(glob(data_path + 'psy4v3r1-daily_T_2019-12*.nc'))    \n",
    "sfiles = sorted(glob(data_path + 'psy4v3r1-daily_S_2019-12*.nc'))"
   ]
  },
  {
   "cell_type": "code",
   "execution_count": 24,
   "id": "ebc77a58-24de-4f52-b928-73a1bd394a4d",
   "metadata": {},
   "outputs": [
    {
     "data": {
      "text/plain": [
       "['/storage/shared/oceanparcels/input_data/MOi/psy4v3r1/psy4v3r1-daily_T_2019-12-01.nc',\n",
       " '/storage/shared/oceanparcels/input_data/MOi/psy4v3r1/psy4v3r1-daily_T_2019-12-02.nc',\n",
       " '/storage/shared/oceanparcels/input_data/MOi/psy4v3r1/psy4v3r1-daily_T_2019-12-03.nc',\n",
       " '/storage/shared/oceanparcels/input_data/MOi/psy4v3r1/psy4v3r1-daily_T_2019-12-04.nc',\n",
       " '/storage/shared/oceanparcels/input_data/MOi/psy4v3r1/psy4v3r1-daily_T_2019-12-05.nc',\n",
       " '/storage/shared/oceanparcels/input_data/MOi/psy4v3r1/psy4v3r1-daily_T_2019-12-06.nc',\n",
       " '/storage/shared/oceanparcels/input_data/MOi/psy4v3r1/psy4v3r1-daily_T_2019-12-07.nc',\n",
       " '/storage/shared/oceanparcels/input_data/MOi/psy4v3r1/psy4v3r1-daily_T_2019-12-08.nc',\n",
       " '/storage/shared/oceanparcels/input_data/MOi/psy4v3r1/psy4v3r1-daily_T_2019-12-09.nc',\n",
       " '/storage/shared/oceanparcels/input_data/MOi/psy4v3r1/psy4v3r1-daily_T_2019-12-10.nc',\n",
       " '/storage/shared/oceanparcels/input_data/MOi/psy4v3r1/psy4v3r1-daily_T_2019-12-11.nc',\n",
       " '/storage/shared/oceanparcels/input_data/MOi/psy4v3r1/psy4v3r1-daily_T_2019-12-12.nc',\n",
       " '/storage/shared/oceanparcels/input_data/MOi/psy4v3r1/psy4v3r1-daily_T_2019-12-13.nc',\n",
       " '/storage/shared/oceanparcels/input_data/MOi/psy4v3r1/psy4v3r1-daily_T_2019-12-14.nc',\n",
       " '/storage/shared/oceanparcels/input_data/MOi/psy4v3r1/psy4v3r1-daily_T_2019-12-15.nc',\n",
       " '/storage/shared/oceanparcels/input_data/MOi/psy4v3r1/psy4v3r1-daily_T_2019-12-16.nc',\n",
       " '/storage/shared/oceanparcels/input_data/MOi/psy4v3r1/psy4v3r1-daily_T_2019-12-17.nc',\n",
       " '/storage/shared/oceanparcels/input_data/MOi/psy4v3r1/psy4v3r1-daily_T_2019-12-18.nc',\n",
       " '/storage/shared/oceanparcels/input_data/MOi/psy4v3r1/psy4v3r1-daily_T_2019-12-19.nc',\n",
       " '/storage/shared/oceanparcels/input_data/MOi/psy4v3r1/psy4v3r1-daily_T_2019-12-20.nc',\n",
       " '/storage/shared/oceanparcels/input_data/MOi/psy4v3r1/psy4v3r1-daily_T_2019-12-21.nc',\n",
       " '/storage/shared/oceanparcels/input_data/MOi/psy4v3r1/psy4v3r1-daily_T_2019-12-22.nc',\n",
       " '/storage/shared/oceanparcels/input_data/MOi/psy4v3r1/psy4v3r1-daily_T_2019-12-23.nc',\n",
       " '/storage/shared/oceanparcels/input_data/MOi/psy4v3r1/psy4v3r1-daily_T_2019-12-24.nc',\n",
       " '/storage/shared/oceanparcels/input_data/MOi/psy4v3r1/psy4v3r1-daily_T_2019-12-25.nc',\n",
       " '/storage/shared/oceanparcels/input_data/MOi/psy4v3r1/psy4v3r1-daily_T_2019-12-26.nc',\n",
       " '/storage/shared/oceanparcels/input_data/MOi/psy4v3r1/psy4v3r1-daily_T_2019-12-27.nc',\n",
       " '/storage/shared/oceanparcels/input_data/MOi/psy4v3r1/psy4v3r1-daily_T_2019-12-28.nc',\n",
       " '/storage/shared/oceanparcels/input_data/MOi/psy4v3r1/psy4v3r1-daily_T_2019-12-29.nc',\n",
       " '/storage/shared/oceanparcels/input_data/MOi/psy4v3r1/psy4v3r1-daily_T_2019-12-30.nc',\n",
       " '/storage/shared/oceanparcels/input_data/MOi/psy4v3r1/psy4v3r1-daily_T_2019-12-31.nc']"
      ]
     },
     "execution_count": 24,
     "metadata": {},
     "output_type": "execute_result"
    }
   ],
   "source": [
    "tfiles"
   ]
  },
  {
   "cell_type": "code",
   "execution_count": 25,
   "id": "2d2c1e78-1e69-46c5-8475-ed3913e45c47",
   "metadata": {},
   "outputs": [],
   "source": [
    "pot_temp = xr.load_dataset(tfiles[0])\n",
    "PS = xr.load_dataset(sfiles[0])"
   ]
  },
  {
   "cell_type": "code",
   "execution_count": 26,
   "id": "5cf4736b-7997-4211-8dd1-9f0bbe664f34",
   "metadata": {},
   "outputs": [],
   "source": [
    "depth = PS['deptht']"
   ]
  },
  {
   "cell_type": "markdown",
   "id": "ded65345-81cc-4266-8ceb-a1162700cd60",
   "metadata": {},
   "source": [
    "Pick the sampling position for this comparison"
   ]
  },
  {
   "cell_type": "code",
   "execution_count": 27,
   "id": "f284f5a5-d9df-4463-a5f5-42c27f666cfd",
   "metadata": {},
   "outputs": [],
   "source": [
    "lon_sample = 6.287\n",
    "lon_idx = 3520\n",
    "lat_sample = -32.171\n",
    "lat_idx = 1086"
   ]
  },
  {
   "cell_type": "code",
   "execution_count": 28,
   "id": "b25c142c-1238-4567-b511-bdeaf5aa87c6",
   "metadata": {},
   "outputs": [
    {
     "data": {
      "text/plain": [
       "(array([1086]),)"
      ]
     },
     "execution_count": 28,
     "metadata": {},
     "output_type": "execute_result"
    }
   ],
   "source": [
    "lat_min = np.abs(PS['nav_lat'][:,0] - lat_sample)\n",
    "np.where(lat_min == np.min(lat_min))"
   ]
  },
  {
   "cell_type": "code",
   "execution_count": 29,
   "id": "7ad340d1-db95-4daa-b3bc-67a6b4838817",
   "metadata": {},
   "outputs": [
    {
     "data": {
      "text/plain": [
       "(array([3520]),)"
      ]
     },
     "execution_count": 29,
     "metadata": {},
     "output_type": "execute_result"
    }
   ],
   "source": [
    "lon_min = np.abs(PS['nav_lon'][0,:] - lon_sample)\n",
    "np.where(lon_min == np.min(lon_min))"
   ]
  },
  {
   "cell_type": "code",
   "execution_count": 30,
   "id": "e3dc3560-edcd-42f2-b616-a96fac9d166d",
   "metadata": {},
   "outputs": [],
   "source": [
    "PS_sampling = PS['vosaline'][:, lat_idx, lon_idx]"
   ]
  },
  {
   "cell_type": "code",
   "execution_count": 31,
   "id": "8772412d-7dc5-47b1-8564-88d320afe21c",
   "metadata": {},
   "outputs": [],
   "source": [
    "pt_sampling = pot_temp['votemper'][:, lat_idx, lon_idx]"
   ]
  },
  {
   "cell_type": "code",
   "execution_count": 32,
   "id": "41253e47-f104-44a6-af1a-4058e225c0d2",
   "metadata": {},
   "outputs": [
    {
     "data": {
      "text/plain": [
       "(array([1086]),)"
      ]
     },
     "execution_count": 32,
     "metadata": {},
     "output_type": "execute_result"
    }
   ],
   "source": [
    "np.where(lat_min == np.min(lat_min))"
   ]
  },
  {
   "cell_type": "markdown",
   "id": "65054a60-7941-4fc1-a96f-d94fb112e080",
   "metadata": {},
   "source": [
    "### TEOS10 correct procedure"
   ]
  },
  {
   "cell_type": "code",
   "execution_count": 33,
   "id": "e31f83ed-e0f1-4e62-a4d8-c2b5876d7bed",
   "metadata": {},
   "outputs": [],
   "source": [
    "pressure = gsw.p_from_z(-depth, lat_sample)"
   ]
  },
  {
   "cell_type": "code",
   "execution_count": 34,
   "id": "406f1cd8-9362-44d9-9794-9ee06117af9b",
   "metadata": {},
   "outputs": [],
   "source": [
    "SA_sampling = gsw.SA_from_SP(PS_sampling, pressure, lon_sample, lat_sample)"
   ]
  },
  {
   "cell_type": "code",
   "execution_count": 35,
   "id": "8ca4b92e-e685-4d33-a3ba-2240f6461712",
   "metadata": {},
   "outputs": [],
   "source": [
    "CT_sampling = gsw.CT_from_pt(SA_sampling, pt_sampling)"
   ]
  },
  {
   "cell_type": "code",
   "execution_count": 36,
   "id": "598c6d5a-e286-4fa2-92c7-177dd162b311",
   "metadata": {},
   "outputs": [
    {
     "data": {
      "text/plain": [
       "Text(0, 0.5, 'Depth (m)')"
      ]
     },
     "execution_count": 36,
     "metadata": {},
     "output_type": "execute_result"
    },
    {
     "data": {
      "image/png": "[encoded data removed]",
      "text/plain": [
       "<Figure size 432x288 with 1 Axes>"
      ]
     },
     "metadata": {
      "needs_background": "light"
     },
     "output_type": "display_data"
    }
   ],
   "source": [
    "plt.plot(pt_sampling, -depth, '*-k', label='Potential Temperature')\n",
    "plt.plot(CT_sampling, -depth, '--r', label='Conservative Temperature')\n",
    "plt.legend()\n",
    "plt.xlabel('Temperature (deg C)')\n",
    "plt.ylabel('Depth (m)')"
   ]
  },
  {
   "cell_type": "code",
   "execution_count": 37,
   "id": "bd630f03-1a54-4c66-9fa2-d918d36e98c6",
   "metadata": {},
   "outputs": [
    {
     "data": {
      "text/plain": [
       "Text(0, 0.5, 'Depth (m)')"
      ]
     },
     "execution_count": 37,
     "metadata": {},
     "output_type": "execute_result"
    },
    {
     "data": {
      "image/png": "[encoded data removed]",
      "text/plain": [
       "<Figure size 432x288 with 1 Axes>"
      ]
     },
     "metadata": {
      "needs_background": "light"
     },
     "output_type": "display_data"
    }
   ],
   "source": [
    "plt.plot(SA_sampling, -depth, '--r', label='Absolute Salinity (g/kg)')\n",
    "plt.plot(PS_sampling, -depth, 's-k', label='Practical Salinity (psu)')\n",
    "plt.legend()\n",
    "plt.xlabel('Salinity')\n",
    "plt.ylabel('Depth (m)')"
   ]
  },
  {
   "cell_type": "code",
   "execution_count": 38,
   "id": "3265344e-89f8-4732-9249-29e40b09dc72",
   "metadata": {},
   "outputs": [],
   "source": [
    "rho_SACT = gsw.density.rho(SA_sampling, CT_sampling, pressure)"
   ]
  },
  {
   "cell_type": "code",
   "execution_count": 39,
   "id": "f21d2471-358a-4200-9624-06205d78cee0",
   "metadata": {},
   "outputs": [],
   "source": [
    "rho_SPPT = gsw.density.rho(PS_sampling, pt_sampling, pressure)"
   ]
  },
  {
   "cell_type": "code",
   "execution_count": 42,
   "id": "28d370f3-845d-4d9d-8e22-1ba881dca654",
   "metadata": {},
   "outputs": [
    {
     "data": {
      "text/html": [
       "<div><svg style=\"position: absolute; width: 0; height: 0; overflow: hidden\">\n",
       "<defs>\n",
       "<symbol id=\"icon-database\" viewBox=\"0 0 32 32\">\n",
       "<path d=\"M16 0c-8.837 0-16 2.239-16 5v4c0 2.761 7.163 5 16 5s16-2.239 16-5v-4c0-2.761-7.163-5-16-5z\"></path>\n",
       "<path d=\"M16 17c-8.837 0-16-2.239-16-5v6c0 2.761 7.163 5 16 5s16-2.239 16-5v-6c0 2.761-7.163 5-16 5z\"></path>\n",
       "<path d=\"M16 26c-8.837 0-16-2.239-16-5v6c0 2.761 7.163 5 16 5s16-2.239 16-5v-6c0 2.761-7.163 5-16 5z\"></path>\n",
       "</symbol>\n",
       "<symbol id=\"icon-file-text2\" viewBox=\"0 0 32 32\">\n",
       "<path d=\"M28.681 7.159c-0.694-0.947-1.662-2.053-2.724-3.116s-2.169-2.030-3.116-2.724c-1.612-1.182-2.393-1.319-2.841-1.319h-15.5c-1.378 0-2.5 1.121-2.5 2.5v27c0 1.378 1.122 2.5 2.5 2.5h23c1.378 0 2.5-1.122 2.5-2.5v-19.5c0-0.448-0.137-1.23-1.319-2.841zM24.543 5.457c0.959 0.959 1.712 1.825 2.268 2.543h-4.811v-4.811c0.718 0.556 1.584 1.309 2.543 2.268zM28 29.5c0 0.271-0.229 0.5-0.5 0.5h-23c-0.271 0-0.5-0.229-0.5-0.5v-27c0-0.271 0.229-0.5 0.5-0.5 0 0 15.499-0 15.5 0v7c0 0.552 0.448 1 1 1h7v19.5z\"></path>\n",
       "<path d=\"M23 26h-14c-0.552 0-1-0.448-1-1s0.448-1 1-1h14c0.552 0 1 0.448 1 1s-0.448 1-1 1z\"></path>\n",
       "<path d=\"M23 22h-14c-0.552 0-1-0.448-1-1s0.448-1 1-1h14c0.552 0 1 0.448 1 1s-0.448 1-1 1z\"></path>\n",
       "<path d=\"M23 18h-14c-0.552 0-1-0.448-1-1s0.448-1 1-1h14c0.552 0 1 0.448 1 1s-0.448 1-1 1z\"></path>\n",
       "</symbol>\n",
       "</defs>\n",
       "</svg>\n",
       "<style>/* CSS stylesheet for displaying xarray objects in jupyterlab.\n",
       " *\n",
       " */\n",
       "\n",
       ":root {\n",
       "  --xr-font-color0: var(--jp-content-font-color0, rgba(0, 0, 0, 1));\n",
       "  --xr-font-color2: var(--jp-content-font-color2, rgba(0, 0, 0, 0.54));\n",
       "  --xr-font-color3: var(--jp-content-font-color3, rgba(0, 0, 0, 0.38));\n",
       "  --xr-border-color: var(--jp-border-color2, #e0e0e0);\n",
       "  --xr-disabled-color: var(--jp-layout-color3, #bdbdbd);\n",
       "  --xr-background-color: var(--jp-layout-color0, white);\n",
       "  --xr-background-color-row-even: var(--jp-layout-color1, white);\n",
       "  --xr-background-color-row-odd: var(--jp-layout-color2, #eeeeee);\n",
       "}\n",
       "\n",
       "html[theme=dark],\n",
       "body.vscode-dark {\n",
       "  --xr-font-color0: rgba(255, 255, 255, 1);\n",
       "  --xr-font-color2: rgba(255, 255, 255, 0.54);\n",
       "  --xr-font-color3: rgba(255, 255, 255, 0.38);\n",
       "  --xr-border-color: #1F1F1F;\n",
       "  --xr-disabled-color: #515151;\n",
       "  --xr-background-color: #111111;\n",
       "  --xr-background-color-row-even: #111111;\n",
       "  --xr-background-color-row-odd: #313131;\n",
       "}\n",
       "\n",
       ".xr-wrap {\n",
       "  display: block;\n",
       "  min-width: 300px;\n",
       "  max-width: 700px;\n",
       "}\n",
       "\n",
       ".xr-text-repr-fallback {\n",
       "  /* fallback to plain text repr when CSS is not injected (untrusted notebook) */\n",
       "  display: none;\n",
       "}\n",
       "\n",
       ".xr-header {\n",
       "  padding-top: 6px;\n",
       "  padding-bottom: 6px;\n",
       "  margin-bottom: 4px;\n",
       "  border-bottom: solid 1px var(--xr-border-color);\n",
       "}\n",
       "\n",
       ".xr-header > div,\n",
       ".xr-header > ul {\n",
       "  display: inline;\n",
       "  margin-top: 0;\n",
       "  margin-bottom: 0;\n",
       "}\n",
       "\n",
       ".xr-obj-type,\n",
       ".xr-array-name {\n",
       "  margin-left: 2px;\n",
       "  margin-right: 10px;\n",
       "}\n",
       "\n",
       ".xr-obj-type {\n",
       "  color: var(--xr-font-color2);\n",
       "}\n",
       "\n",
       ".xr-sections {\n",
       "  padding-left: 0 !important;\n",
       "  display: grid;\n",
       "  grid-template-columns: 150px auto auto 1fr 20px 20px;\n",
       "}\n",
       "\n",
       ".xr-section-item {\n",
       "  display: contents;\n",
       "}\n",
       "\n",
       ".xr-section-item input {\n",
       "  display: none;\n",
       "}\n",
       "\n",
       ".xr-section-item input + label {\n",
       "  color: var(--xr-disabled-color);\n",
       "}\n",
       "\n",
       ".xr-section-item input:enabled + label {\n",
       "  cursor: pointer;\n",
       "  color: var(--xr-font-color2);\n",
       "}\n",
       "\n",
       ".xr-section-item input:enabled + label:hover {\n",
       "  color: var(--xr-font-color0);\n",
       "}\n",
       "\n",
       ".xr-section-summary {\n",
       "  grid-column: 1;\n",
       "  color: var(--xr-font-color2);\n",
       "  font-weight: 500;\n",
       "}\n",
       "\n",
       ".xr-section-summary > span {\n",
       "  display: inline-block;\n",
       "  padding-left: 0.5em;\n",
       "}\n",
       "\n",
       ".xr-section-summary-in:disabled + label {\n",
       "  color: var(--xr-font-color2);\n",
       "}\n",
       "\n",
       ".xr-section-summary-in + label:before {\n",
       "  display: inline-block;\n",
       "  content: '►';\n",
       "  font-size: 11px;\n",
       "  width: 15px;\n",
       "  text-align: center;\n",
       "}\n",
       "\n",
       ".xr-section-summary-in:disabled + label:before {\n",
       "  color: var(--xr-disabled-color);\n",
       "}\n",
       "\n",
       ".xr-section-summary-in:checked + label:before {\n",
       "  content: '▼';\n",
       "}\n",
       "\n",
       ".xr-section-summary-in:checked + label > span {\n",
       "  display: none;\n",
       "}\n",
       "\n",
       ".xr-section-summary,\n",
       ".xr-section-inline-details {\n",
       "  padding-top: 4px;\n",
       "  padding-bottom: 4px;\n",
       "}\n",
       "\n",
       ".xr-section-inline-details {\n",
       "  grid-column: 2 / -1;\n",
       "}\n",
       "\n",
       ".xr-section-details {\n",
       "  display: none;\n",
       "  grid-column: 1 / -1;\n",
       "  margin-bottom: 5px;\n",
       "}\n",
       "\n",
       ".xr-section-summary-in:checked ~ .xr-section-details {\n",
       "  display: contents;\n",
       "}\n",
       "\n",
       ".xr-array-wrap {\n",
       "  grid-column: 1 / -1;\n",
       "  display: grid;\n",
       "  grid-template-columns: 20px auto;\n",
       "}\n",
       "\n",
       ".xr-array-wrap > label {\n",
       "  grid-column: 1;\n",
       "  vertical-align: top;\n",
       "}\n",
       "\n",
       ".xr-preview {\n",
       "  color: var(--xr-font-color3);\n",
       "}\n",
       "\n",
       ".xr-array-preview,\n",
       ".xr-array-data {\n",
       "  padding: 0 5px !important;\n",
       "  grid-column: 2;\n",
       "}\n",
       "\n",
       ".xr-array-data,\n",
       ".xr-array-in:checked ~ .xr-array-preview {\n",
       "  display: none;\n",
       "}\n",
       "\n",
       ".xr-array-in:checked ~ .xr-array-data,\n",
       ".xr-array-preview {\n",
       "  display: inline-block;\n",
       "}\n",
       "\n",
       ".xr-dim-list {\n",
       "  display: inline-block !important;\n",
       "  list-style: none;\n",
       "  padding: 0 !important;\n",
       "  margin: 0;\n",
       "}\n",
       "\n",
       ".xr-dim-list li {\n",
       "  display: inline-block;\n",
       "  padding: 0;\n",
       "  margin: 0;\n",
       "}\n",
       "\n",
       ".xr-dim-list:before {\n",
       "  content: '(';\n",
       "}\n",
       "\n",
       ".xr-dim-list:after {\n",
       "  content: ')';\n",
       "}\n",
       "\n",
       ".xr-dim-list li:not(:last-child):after {\n",
       "  content: ',';\n",
       "  padding-right: 5px;\n",
       "}\n",
       "\n",
       ".xr-has-index {\n",
       "  font-weight: bold;\n",
       "}\n",
       "\n",
       ".xr-var-list,\n",
       ".xr-var-item {\n",
       "  display: contents;\n",
       "}\n",
       "\n",
       ".xr-var-item > div,\n",
       ".xr-var-item label,\n",
       ".xr-var-item > .xr-var-name span {\n",
       "  background-color: var(--xr-background-color-row-even);\n",
       "  margin-bottom: 0;\n",
       "}\n",
       "\n",
       ".xr-var-item > .xr-var-name:hover span {\n",
       "  padding-right: 5px;\n",
       "}\n",
       "\n",
       ".xr-var-list > li:nth-child(odd) > div,\n",
       ".xr-var-list > li:nth-child(odd) > label,\n",
       ".xr-var-list > li:nth-child(odd) > .xr-var-name span {\n",
       "  background-color: var(--xr-background-color-row-odd);\n",
       "}\n",
       "\n",
       ".xr-var-name {\n",
       "  grid-column: 1;\n",
       "}\n",
       "\n",
       ".xr-var-dims {\n",
       "  grid-column: 2;\n",
       "}\n",
       "\n",
       ".xr-var-dtype {\n",
       "  grid-column: 3;\n",
       "  text-align: right;\n",
       "  color: var(--xr-font-color2);\n",
       "}\n",
       "\n",
       ".xr-var-preview {\n",
       "  grid-column: 4;\n",
       "}\n",
       "\n",
       ".xr-var-name,\n",
       ".xr-var-dims,\n",
       ".xr-var-dtype,\n",
       ".xr-preview,\n",
       ".xr-attrs dt {\n",
       "  white-space: nowrap;\n",
       "  overflow: hidden;\n",
       "  text-overflow: ellipsis;\n",
       "  padding-right: 10px;\n",
       "}\n",
       "\n",
       ".xr-var-name:hover,\n",
       ".xr-var-dims:hover,\n",
       ".xr-var-dtype:hover,\n",
       ".xr-attrs dt:hover {\n",
       "  overflow: visible;\n",
       "  width: auto;\n",
       "  z-index: 1;\n",
       "}\n",
       "\n",
       ".xr-var-attrs,\n",
       ".xr-var-data {\n",
       "  display: none;\n",
       "  background-color: var(--xr-background-color) !important;\n",
       "  padding-bottom: 5px !important;\n",
       "}\n",
       "\n",
       ".xr-var-attrs-in:checked ~ .xr-var-attrs,\n",
       ".xr-var-data-in:checked ~ .xr-var-data {\n",
       "  display: block;\n",
       "}\n",
       "\n",
       ".xr-var-data > table {\n",
       "  float: right;\n",
       "}\n",
       "\n",
       ".xr-var-name span,\n",
       ".xr-var-data,\n",
       ".xr-attrs {\n",
       "  padding-left: 25px !important;\n",
       "}\n",
       "\n",
       ".xr-attrs,\n",
       ".xr-var-attrs,\n",
       ".xr-var-data {\n",
       "  grid-column: 1 / -1;\n",
       "}\n",
       "\n",
       "dl.xr-attrs {\n",
       "  padding: 0;\n",
       "  margin: 0;\n",
       "  display: grid;\n",
       "  grid-template-columns: 125px auto;\n",
       "}\n",
       "\n",
       ".xr-attrs dt,\n",
       ".xr-attrs dd {\n",
       "  padding: 0;\n",
       "  margin: 0;\n",
       "  float: left;\n",
       "  padding-right: 10px;\n",
       "  width: auto;\n",
       "}\n",
       "\n",
       ".xr-attrs dt {\n",
       "  font-weight: normal;\n",
       "  grid-column: 1;\n",
       "}\n",
       "\n",
       ".xr-attrs dt:hover span {\n",
       "  display: inline-block;\n",
       "  background: var(--xr-background-color);\n",
       "  padding-right: 10px;\n",
       "}\n",
       "\n",
       ".xr-attrs dd {\n",
       "  grid-column: 2;\n",
       "  white-space: pre-wrap;\n",
       "  word-break: break-all;\n",
       "}\n",
       "\n",
       ".xr-icon-database,\n",
       ".xr-icon-file-text2 {\n",
       "  display: inline-block;\n",
       "  vertical-align: middle;\n",
       "  width: 1em;\n",
       "  height: 1.5em !important;\n",
       "  stroke-width: 0;\n",
       "  stroke: currentColor;\n",
       "  fill: currentColor;\n",
       "}\n",
       "</style><pre class='xr-text-repr-fallback'>&lt;xarray.DataArray &#x27;vosaline&#x27; (deptht: 50)&gt;\n",
       "array([1025.55689332, 1025.57152895, 1025.59023083, 1025.60457153,\n",
       "       1025.61709138, 1025.62913556, 1025.64105483, 1025.65345827,\n",
       "       1025.66718635, 1025.68273209, 1025.70104617, 1025.72615092,\n",
       "       1025.76644493, 1025.81602056, 1025.86761528, 1025.92049313,\n",
       "       1025.97906326, 1026.04939459, 1026.1347331 , 1026.23052206,\n",
       "       1026.32983475, 1026.42861621, 1026.53235854, 1026.64663253,\n",
       "       1026.78432669, 1026.95521282, 1027.15916055, 1027.42131738,\n",
       "       1027.76704563, 1028.18033471, 1028.65745188, 1029.20358964,\n",
       "       1029.84348321, 1030.55459154, 1031.33329891, 1032.21080321,\n",
       "       1033.20765757, 1034.30933938, 1035.44941917, 1036.73068452,\n",
       "       1038.09061603, 1039.52156155, 1041.04209828, 1042.64988824,\n",
       "       1044.40258002, 1046.16671832, 1048.04834219, 1049.94930656,\n",
       "       1051.86663863,           nan])\n",
       "Coordinates:\n",
       "    nav_lon       float32 6.25\n",
       "    nav_lat       float32 -32.16\n",
       "  * deptht        (deptht) float64 0.494 1.541 2.646 ... 5.275e+03 5.728e+03\n",
       "    x             int32 3521\n",
       "    y             int32 1087\n",
       "    time_counter  datetime64[ns] 2019-12-01T12:00:00\n",
       "Attributes:\n",
       "    units:               PSU\n",
       "    valid_min:           0.0\n",
       "    valid_max:           50.0\n",
       "    long_name:           Salinity\n",
       "    standard_name:       sea_water_salinity\n",
       "    short_name:          vosaline\n",
       "    online_operation:    N/A\n",
       "    interval_operation:  86400\n",
       "    interval_write:      86400\n",
       "    associate:           time_counter deptht nav_lat nav_lon</pre><div class='xr-wrap' hidden><div class='xr-header'><div class='xr-obj-type'>xarray.DataArray</div><div class='xr-array-name'>'vosaline'</div><ul class='xr-dim-list'><li><span class='xr-has-index'>deptht</span>: 50</li></ul></div><ul class='xr-sections'><li class='xr-section-item'><div class='xr-array-wrap'><input id='section-0b13a736-accc-43bd-bc89-46fe30c1812b' class='xr-array-in' type='checkbox' checked><label for='section-0b13a736-accc-43bd-bc89-46fe30c1812b' title='Show/hide data repr'><svg class='icon xr-icon-database'><use xlink:href='#icon-database'></use></svg></label><div class='xr-array-preview xr-preview'><span>1.026e+03 1.026e+03 1.026e+03 1.026e+03 ... 1.05e+03 1.052e+03 nan</span></div><div class='xr-array-data'><pre>array([1025.55689332, 1025.57152895, 1025.59023083, 1025.60457153,\n",
       "       1025.61709138, 1025.62913556, 1025.64105483, 1025.65345827,\n",
       "       1025.66718635, 1025.68273209, 1025.70104617, 1025.72615092,\n",
       "       1025.76644493, 1025.81602056, 1025.86761528, 1025.92049313,\n",
       "       1025.97906326, 1026.04939459, 1026.1347331 , 1026.23052206,\n",
       "       1026.32983475, 1026.42861621, 1026.53235854, 1026.64663253,\n",
       "       1026.78432669, 1026.95521282, 1027.15916055, 1027.42131738,\n",
       "       1027.76704563, 1028.18033471, 1028.65745188, 1029.20358964,\n",
       "       1029.84348321, 1030.55459154, 1031.33329891, 1032.21080321,\n",
       "       1033.20765757, 1034.30933938, 1035.44941917, 1036.73068452,\n",
       "       1038.09061603, 1039.52156155, 1041.04209828, 1042.64988824,\n",
       "       1044.40258002, 1046.16671832, 1048.04834219, 1049.94930656,\n",
       "       1051.86663863,           nan])</pre></div></div></li><li class='xr-section-item'><input id='section-2d34f822-0e87-4558-9226-69937a1d5312' class='xr-section-summary-in' type='checkbox'  checked><label for='section-2d34f822-0e87-4558-9226-69937a1d5312' class='xr-section-summary' >Coordinates: <span>(6)</span></label><div class='xr-section-inline-details'></div><div class='xr-section-details'><ul class='xr-var-list'><li class='xr-var-item'><div class='xr-var-name'><span>nav_lon</span></div><div class='xr-var-dims'>()</div><div class='xr-var-dtype'>float32</div><div class='xr-var-preview xr-preview'>6.25</div><input id='attrs-2bc8c737-b2a2-452f-9bc1-53990d28d10a' class='xr-var-attrs-in' type='checkbox' ><label for='attrs-2bc8c737-b2a2-452f-9bc1-53990d28d10a' title='Show/Hide attributes'><svg class='icon xr-icon-file-text2'><use xlink:href='#icon-file-text2'></use></svg></label><input id='data-31bcd8f5-88bf-4148-8e7a-5b8ba9b0a12c' class='xr-var-data-in' type='checkbox'><label for='data-31bcd8f5-88bf-4148-8e7a-5b8ba9b0a12c' title='Show/Hide data repr'><svg class='icon xr-icon-database'><use xlink:href='#icon-database'></use></svg></label><div class='xr-var-attrs'><dl class='xr-attrs'><dt><span>units :</span></dt><dd>degrees_east</dd><dt><span>valid_min :</span></dt><dd>-179.99998963909385</dd><dt><span>valid_max :</span></dt><dd>180.0</dd><dt><span>long_name :</span></dt><dd>Longitude</dd><dt><span>nav_model :</span></dt><dd>Default grid</dd><dt><span>standard_name :</span></dt><dd>longitude</dd></dl></div><div class='xr-var-data'><pre>array(6.25, dtype=float32)</pre></div></li><li class='xr-var-item'><div class='xr-var-name'><span>nav_lat</span></div><div class='xr-var-dims'>()</div><div class='xr-var-dtype'>float32</div><div class='xr-var-preview xr-preview'>-32.16</div><input id='attrs-586dbf60-9bca-473c-960d-42229c8f260b' class='xr-var-attrs-in' type='checkbox' ><label for='attrs-586dbf60-9bca-473c-960d-42229c8f260b' title='Show/Hide attributes'><svg class='icon xr-icon-file-text2'><use xlink:href='#icon-file-text2'></use></svg></label><input id='data-ab293610-e629-42c9-a383-bb50ec65e777' class='xr-var-data-in' type='checkbox'><label for='data-ab293610-e629-42c9-a383-bb50ec65e777' title='Show/Hide data repr'><svg class='icon xr-icon-database'><use xlink:href='#icon-database'></use></svg></label><div class='xr-var-attrs'><dl class='xr-attrs'><dt><span>units :</span></dt><dd>degrees_north</dd><dt><span>valid_min :</span></dt><dd>-77.0104751586914</dd><dt><span>valid_max :</span></dt><dd>89.95883178710938</dd><dt><span>long_name :</span></dt><dd>Latitude</dd><dt><span>nav_model :</span></dt><dd>Default grid</dd><dt><span>standard_name :</span></dt><dd>latitude</dd></dl></div><div class='xr-var-data'><pre>array(-32.16404, dtype=float32)</pre></div></li><li class='xr-var-item'><div class='xr-var-name'><span class='xr-has-index'>deptht</span></div><div class='xr-var-dims'>(deptht)</div><div class='xr-var-dtype'>float64</div><div class='xr-var-preview xr-preview'>0.494 1.541 ... 5.275e+03 5.728e+03</div><input id='attrs-52ceb1e0-5a65-42bf-9d20-634e9a67d830' class='xr-var-attrs-in' type='checkbox' ><label for='attrs-52ceb1e0-5a65-42bf-9d20-634e9a67d830' title='Show/Hide attributes'><svg class='icon xr-icon-file-text2'><use xlink:href='#icon-file-text2'></use></svg></label><input id='data-4c4bdec1-87fa-4f78-a65e-5effcd79da28' class='xr-var-data-in' type='checkbox'><label for='data-4c4bdec1-87fa-4f78-a65e-5effcd79da28' title='Show/Hide data repr'><svg class='icon xr-icon-database'><use xlink:href='#icon-database'></use></svg></label><div class='xr-var-attrs'><dl class='xr-attrs'><dt><span>units :</span></dt><dd>m</dd><dt><span>positive :</span></dt><dd>down</dd><dt><span>valid_min :</span></dt><dd>0.4940253794193268</dd><dt><span>valid_max :</span></dt><dd>5727.91650390625</dd><dt><span>long_name :</span></dt><dd>Vertical T levels</dd><dt><span>standard_name :</span></dt><dd>depth</dd><dt><span>axis :</span></dt><dd>Z</dd></dl></div><div class='xr-var-data'><pre>array([4.940254e-01, 1.541375e+00, 2.645669e+00, 3.819495e+00, 5.078224e+00,\n",
       "       6.440614e+00, 7.929560e+00, 9.572997e+00, 1.140500e+01, 1.346714e+01,\n",
       "       1.581007e+01, 1.849556e+01, 2.159882e+01, 2.521141e+01, 2.944473e+01,\n",
       "       3.443415e+01, 4.034405e+01, 4.737369e+01, 5.576429e+01, 6.580727e+01,\n",
       "       7.785385e+01, 9.232607e+01, 1.097293e+02, 1.306660e+02, 1.558507e+02,\n",
       "       1.861256e+02, 2.224752e+02, 2.660403e+02, 3.181274e+02, 3.802130e+02,\n",
       "       4.539377e+02, 5.410889e+02, 6.435668e+02, 7.633331e+02, 9.023393e+02,\n",
       "       1.062440e+03, 1.245291e+03, 1.452251e+03, 1.684284e+03, 1.941893e+03,\n",
       "       2.225078e+03, 2.533336e+03, 2.865703e+03, 3.220820e+03, 3.597032e+03,\n",
       "       3.992484e+03, 4.405224e+03, 4.833291e+03, 5.274784e+03, 5.727917e+03])</pre></div></li><li class='xr-var-item'><div class='xr-var-name'><span>x</span></div><div class='xr-var-dims'>()</div><div class='xr-var-dtype'>int32</div><div class='xr-var-preview xr-preview'>3521</div><input id='attrs-13f779a1-083f-4de7-a565-503fdc91699e' class='xr-var-attrs-in' type='checkbox' ><label for='attrs-13f779a1-083f-4de7-a565-503fdc91699e' title='Show/Hide attributes'><svg class='icon xr-icon-file-text2'><use xlink:href='#icon-file-text2'></use></svg></label><input id='data-2005c1ed-4966-4eb8-a8eb-ef8b4ab6a183' class='xr-var-data-in' type='checkbox'><label for='data-2005c1ed-4966-4eb8-a8eb-ef8b4ab6a183' title='Show/Hide data repr'><svg class='icon xr-icon-database'><use xlink:href='#icon-database'></use></svg></label><div class='xr-var-attrs'><dl class='xr-attrs'><dt><span>standard_name :</span></dt><dd>projection_x_coordinate</dd><dt><span>axis :</span></dt><dd>X</dd><dt><span>units :</span></dt><dd>1</dd></dl></div><div class='xr-var-data'><pre>array(3521, dtype=int32)</pre></div></li><li class='xr-var-item'><div class='xr-var-name'><span>y</span></div><div class='xr-var-dims'>()</div><div class='xr-var-dtype'>int32</div><div class='xr-var-preview xr-preview'>1087</div><input id='attrs-efe00b03-91c6-4c83-8013-6f026abc723a' class='xr-var-attrs-in' type='checkbox' ><label for='attrs-efe00b03-91c6-4c83-8013-6f026abc723a' title='Show/Hide attributes'><svg class='icon xr-icon-file-text2'><use xlink:href='#icon-file-text2'></use></svg></label><input id='data-b9922a9a-57aa-4e64-935d-e4d0b0a09e41' class='xr-var-data-in' type='checkbox'><label for='data-b9922a9a-57aa-4e64-935d-e4d0b0a09e41' title='Show/Hide data repr'><svg class='icon xr-icon-database'><use xlink:href='#icon-database'></use></svg></label><div class='xr-var-attrs'><dl class='xr-attrs'><dt><span>standard_name :</span></dt><dd>projection_y_coordinate</dd><dt><span>axis :</span></dt><dd>Y</dd><dt><span>units :</span></dt><dd>1</dd></dl></div><div class='xr-var-data'><pre>array(1087, dtype=int32)</pre></div></li><li class='xr-var-item'><div class='xr-var-name'><span>time_counter</span></div><div class='xr-var-dims'>()</div><div class='xr-var-dtype'>datetime64[ns]</div><div class='xr-var-preview xr-preview'>2019-12-01T12:00:00</div><input id='attrs-6adce82c-303b-47e4-a932-b29a0aec422c' class='xr-var-attrs-in' type='checkbox' ><label for='attrs-6adce82c-303b-47e4-a932-b29a0aec422c' title='Show/Hide attributes'><svg class='icon xr-icon-file-text2'><use xlink:href='#icon-file-text2'></use></svg></label><input id='data-f2d14629-8333-40e2-bd64-b905889b81ba' class='xr-var-data-in' type='checkbox'><label for='data-f2d14629-8333-40e2-bd64-b905889b81ba' title='Show/Hide data repr'><svg class='icon xr-icon-database'><use xlink:href='#icon-database'></use></svg></label><div class='xr-var-attrs'><dl class='xr-attrs'><dt><span>standard_name :</span></dt><dd>time</dd><dt><span>long_name :</span></dt><dd>Time axis</dd><dt><span>axis :</span></dt><dd>T</dd><dt><span>time_origin :</span></dt><dd>1950-JAN-01 00:00:00</dd></dl></div><div class='xr-var-data'><pre>array(&#x27;2019-12-01T12:00:00.000000000&#x27;, dtype=&#x27;datetime64[ns]&#x27;)</pre></div></li></ul></div></li><li class='xr-section-item'><input id='section-913ab41e-25e9-4e36-bf38-956f809041ff' class='xr-section-summary-in' type='checkbox'  ><label for='section-913ab41e-25e9-4e36-bf38-956f809041ff' class='xr-section-summary' >Attributes: <span>(10)</span></label><div class='xr-section-inline-details'></div><div class='xr-section-details'><dl class='xr-attrs'><dt><span>units :</span></dt><dd>PSU</dd><dt><span>valid_min :</span></dt><dd>0.0</dd><dt><span>valid_max :</span></dt><dd>50.0</dd><dt><span>long_name :</span></dt><dd>Salinity</dd><dt><span>standard_name :</span></dt><dd>sea_water_salinity</dd><dt><span>short_name :</span></dt><dd>vosaline</dd><dt><span>online_operation :</span></dt><dd>N/A</dd><dt><span>interval_operation :</span></dt><dd>86400</dd><dt><span>interval_write :</span></dt><dd>86400</dd><dt><span>associate :</span></dt><dd>time_counter deptht nav_lat nav_lon</dd></dl></div></li></ul></div></div>"
      ],
      "text/plain": [
       "<xarray.DataArray 'vosaline' (deptht: 50)>\n",
       "array([1025.55689332, 1025.57152895, 1025.59023083, 1025.60457153,\n",
       "       1025.61709138, 1025.62913556, 1025.64105483, 1025.65345827,\n",
       "       1025.66718635, 1025.68273209, 1025.70104617, 1025.72615092,\n",
       "       1025.76644493, 1025.81602056, 1025.86761528, 1025.92049313,\n",
       "       1025.97906326, 1026.04939459, 1026.1347331 , 1026.23052206,\n",
       "       1026.32983475, 1026.42861621, 1026.53235854, 1026.64663253,\n",
       "       1026.78432669, 1026.95521282, 1027.15916055, 1027.42131738,\n",
       "       1027.76704563, 1028.18033471, 1028.65745188, 1029.20358964,\n",
       "       1029.84348321, 1030.55459154, 1031.33329891, 1032.21080321,\n",
       "       1033.20765757, 1034.30933938, 1035.44941917, 1036.73068452,\n",
       "       1038.09061603, 1039.52156155, 1041.04209828, 1042.64988824,\n",
       "       1044.40258002, 1046.16671832, 1048.04834219, 1049.94930656,\n",
       "       1051.86663863,           nan])\n",
       "Coordinates:\n",
       "    nav_lon       float32 6.25\n",
       "    nav_lat       float32 -32.16\n",
       "  * deptht        (deptht) float64 0.494 1.541 2.646 ... 5.275e+03 5.728e+03\n",
       "    x             int32 3521\n",
       "    y             int32 1087\n",
       "    time_counter  datetime64[ns] 2019-12-01T12:00:00\n",
       "Attributes:\n",
       "    units:               PSU\n",
       "    valid_min:           0.0\n",
       "    valid_max:           50.0\n",
       "    long_name:           Salinity\n",
       "    standard_name:       sea_water_salinity\n",
       "    short_name:          vosaline\n",
       "    online_operation:    N/A\n",
       "    interval_operation:  86400\n",
       "    interval_write:      86400\n",
       "    associate:           time_counter deptht nav_lat nav_lon"
      ]
     },
     "execution_count": 42,
     "metadata": {},
     "output_type": "execute_result"
    }
   ],
   "source": [
    "rho_SACT"
   ]
  },
  {
   "cell_type": "code",
   "execution_count": 45,
   "id": "c2332a66-4c64-43ca-82c5-e56f6fb6e0d4",
   "metadata": {},
   "outputs": [
    {
     "data": {
      "text/html": [
       "<div><svg style=\"position: absolute; width: 0; height: 0; overflow: hidden\">\n",
       "<defs>\n",
       "<symbol id=\"icon-database\" viewBox=\"0 0 32 32\">\n",
       "<path d=\"M16 0c-8.837 0-16 2.239-16 5v4c0 2.761 7.163 5 16 5s16-2.239 16-5v-4c0-2.761-7.163-5-16-5z\"></path>\n",
       "<path d=\"M16 17c-8.837 0-16-2.239-16-5v6c0 2.761 7.163 5 16 5s16-2.239 16-5v-6c0 2.761-7.163 5-16 5z\"></path>\n",
       "<path d=\"M16 26c-8.837 0-16-2.239-16-5v6c0 2.761 7.163 5 16 5s16-2.239 16-5v-6c0 2.761-7.163 5-16 5z\"></path>\n",
       "</symbol>\n",
       "<symbol id=\"icon-file-text2\" viewBox=\"0 0 32 32\">\n",
       "<path d=\"M28.681 7.159c-0.694-0.947-1.662-2.053-2.724-3.116s-2.169-2.030-3.116-2.724c-1.612-1.182-2.393-1.319-2.841-1.319h-15.5c-1.378 0-2.5 1.121-2.5 2.5v27c0 1.378 1.122 2.5 2.5 2.5h23c1.378 0 2.5-1.122 2.5-2.5v-19.5c0-0.448-0.137-1.23-1.319-2.841zM24.543 5.457c0.959 0.959 1.712 1.825 2.268 2.543h-4.811v-4.811c0.718 0.556 1.584 1.309 2.543 2.268zM28 29.5c0 0.271-0.229 0.5-0.5 0.5h-23c-0.271 0-0.5-0.229-0.5-0.5v-27c0-0.271 0.229-0.5 0.5-0.5 0 0 15.499-0 15.5 0v7c0 0.552 0.448 1 1 1h7v19.5z\"></path>\n",
       "<path d=\"M23 26h-14c-0.552 0-1-0.448-1-1s0.448-1 1-1h14c0.552 0 1 0.448 1 1s-0.448 1-1 1z\"></path>\n",
       "<path d=\"M23 22h-14c-0.552 0-1-0.448-1-1s0.448-1 1-1h14c0.552 0 1 0.448 1 1s-0.448 1-1 1z\"></path>\n",
       "<path d=\"M23 18h-14c-0.552 0-1-0.448-1-1s0.448-1 1-1h14c0.552 0 1 0.448 1 1s-0.448 1-1 1z\"></path>\n",
       "</symbol>\n",
       "</defs>\n",
       "</svg>\n",
       "<style>/* CSS stylesheet for displaying xarray objects in jupyterlab.\n",
       " *\n",
       " */\n",
       "\n",
       ":root {\n",
       "  --xr-font-color0: var(--jp-content-font-color0, rgba(0, 0, 0, 1));\n",
       "  --xr-font-color2: var(--jp-content-font-color2, rgba(0, 0, 0, 0.54));\n",
       "  --xr-font-color3: var(--jp-content-font-color3, rgba(0, 0, 0, 0.38));\n",
       "  --xr-border-color: var(--jp-border-color2, #e0e0e0);\n",
       "  --xr-disabled-color: var(--jp-layout-color3, #bdbdbd);\n",
       "  --xr-background-color: var(--jp-layout-color0, white);\n",
       "  --xr-background-color-row-even: var(--jp-layout-color1, white);\n",
       "  --xr-background-color-row-odd: var(--jp-layout-color2, #eeeeee);\n",
       "}\n",
       "\n",
       "html[theme=dark],\n",
       "body.vscode-dark {\n",
       "  --xr-font-color0: rgba(255, 255, 255, 1);\n",
       "  --xr-font-color2: rgba(255, 255, 255, 0.54);\n",
       "  --xr-font-color3: rgba(255, 255, 255, 0.38);\n",
       "  --xr-border-color: #1F1F1F;\n",
       "  --xr-disabled-color: #515151;\n",
       "  --xr-background-color: #111111;\n",
       "  --xr-background-color-row-even: #111111;\n",
       "  --xr-background-color-row-odd: #313131;\n",
       "}\n",
       "\n",
       ".xr-wrap {\n",
       "  display: block;\n",
       "  min-width: 300px;\n",
       "  max-width: 700px;\n",
       "}\n",
       "\n",
       ".xr-text-repr-fallback {\n",
       "  /* fallback to plain text repr when CSS is not injected (untrusted notebook) */\n",
       "  display: none;\n",
       "}\n",
       "\n",
       ".xr-header {\n",
       "  padding-top: 6px;\n",
       "  padding-bottom: 6px;\n",
       "  margin-bottom: 4px;\n",
       "  border-bottom: solid 1px var(--xr-border-color);\n",
       "}\n",
       "\n",
       ".xr-header > div,\n",
       ".xr-header > ul {\n",
       "  display: inline;\n",
       "  margin-top: 0;\n",
       "  margin-bottom: 0;\n",
       "}\n",
       "\n",
       ".xr-obj-type,\n",
       ".xr-array-name {\n",
       "  margin-left: 2px;\n",
       "  margin-right: 10px;\n",
       "}\n",
       "\n",
       ".xr-obj-type {\n",
       "  color: var(--xr-font-color2);\n",
       "}\n",
       "\n",
       ".xr-sections {\n",
       "  padding-left: 0 !important;\n",
       "  display: grid;\n",
       "  grid-template-columns: 150px auto auto 1fr 20px 20px;\n",
       "}\n",
       "\n",
       ".xr-section-item {\n",
       "  display: contents;\n",
       "}\n",
       "\n",
       ".xr-section-item input {\n",
       "  display: none;\n",
       "}\n",
       "\n",
       ".xr-section-item input + label {\n",
       "  color: var(--xr-disabled-color);\n",
       "}\n",
       "\n",
       ".xr-section-item input:enabled + label {\n",
       "  cursor: pointer;\n",
       "  color: var(--xr-font-color2);\n",
       "}\n",
       "\n",
       ".xr-section-item input:enabled + label:hover {\n",
       "  color: var(--xr-font-color0);\n",
       "}\n",
       "\n",
       ".xr-section-summary {\n",
       "  grid-column: 1;\n",
       "  color: var(--xr-font-color2);\n",
       "  font-weight: 500;\n",
       "}\n",
       "\n",
       ".xr-section-summary > span {\n",
       "  display: inline-block;\n",
       "  padding-left: 0.5em;\n",
       "}\n",
       "\n",
       ".xr-section-summary-in:disabled + label {\n",
       "  color: var(--xr-font-color2);\n",
       "}\n",
       "\n",
       ".xr-section-summary-in + label:before {\n",
       "  display: inline-block;\n",
       "  content: '►';\n",
       "  font-size: 11px;\n",
       "  width: 15px;\n",
       "  text-align: center;\n",
       "}\n",
       "\n",
       ".xr-section-summary-in:disabled + label:before {\n",
       "  color: var(--xr-disabled-color);\n",
       "}\n",
       "\n",
       ".xr-section-summary-in:checked + label:before {\n",
       "  content: '▼';\n",
       "}\n",
       "\n",
       ".xr-section-summary-in:checked + label > span {\n",
       "  display: none;\n",
       "}\n",
       "\n",
       ".xr-section-summary,\n",
       ".xr-section-inline-details {\n",
       "  padding-top: 4px;\n",
       "  padding-bottom: 4px;\n",
       "}\n",
       "\n",
       ".xr-section-inline-details {\n",
       "  grid-column: 2 / -1;\n",
       "}\n",
       "\n",
       ".xr-section-details {\n",
       "  display: none;\n",
       "  grid-column: 1 / -1;\n",
       "  margin-bottom: 5px;\n",
       "}\n",
       "\n",
       ".xr-section-summary-in:checked ~ .xr-section-details {\n",
       "  display: contents;\n",
       "}\n",
       "\n",
       ".xr-array-wrap {\n",
       "  grid-column: 1 / -1;\n",
       "  display: grid;\n",
       "  grid-template-columns: 20px auto;\n",
       "}\n",
       "\n",
       ".xr-array-wrap > label {\n",
       "  grid-column: 1;\n",
       "  vertical-align: top;\n",
       "}\n",
       "\n",
       ".xr-preview {\n",
       "  color: var(--xr-font-color3);\n",
       "}\n",
       "\n",
       ".xr-array-preview,\n",
       ".xr-array-data {\n",
       "  padding: 0 5px !important;\n",
       "  grid-column: 2;\n",
       "}\n",
       "\n",
       ".xr-array-data,\n",
       ".xr-array-in:checked ~ .xr-array-preview {\n",
       "  display: none;\n",
       "}\n",
       "\n",
       ".xr-array-in:checked ~ .xr-array-data,\n",
       ".xr-array-preview {\n",
       "  display: inline-block;\n",
       "}\n",
       "\n",
       ".xr-dim-list {\n",
       "  display: inline-block !important;\n",
       "  list-style: none;\n",
       "  padding: 0 !important;\n",
       "  margin: 0;\n",
       "}\n",
       "\n",
       ".xr-dim-list li {\n",
       "  display: inline-block;\n",
       "  padding: 0;\n",
       "  margin: 0;\n",
       "}\n",
       "\n",
       ".xr-dim-list:before {\n",
       "  content: '(';\n",
       "}\n",
       "\n",
       ".xr-dim-list:after {\n",
       "  content: ')';\n",
       "}\n",
       "\n",
       ".xr-dim-list li:not(:last-child):after {\n",
       "  content: ',';\n",
       "  padding-right: 5px;\n",
       "}\n",
       "\n",
       ".xr-has-index {\n",
       "  font-weight: bold;\n",
       "}\n",
       "\n",
       ".xr-var-list,\n",
       ".xr-var-item {\n",
       "  display: contents;\n",
       "}\n",
       "\n",
       ".xr-var-item > div,\n",
       ".xr-var-item label,\n",
       ".xr-var-item > .xr-var-name span {\n",
       "  background-color: var(--xr-background-color-row-even);\n",
       "  margin-bottom: 0;\n",
       "}\n",
       "\n",
       ".xr-var-item > .xr-var-name:hover span {\n",
       "  padding-right: 5px;\n",
       "}\n",
       "\n",
       ".xr-var-list > li:nth-child(odd) > div,\n",
       ".xr-var-list > li:nth-child(odd) > label,\n",
       ".xr-var-list > li:nth-child(odd) > .xr-var-name span {\n",
       "  background-color: var(--xr-background-color-row-odd);\n",
       "}\n",
       "\n",
       ".xr-var-name {\n",
       "  grid-column: 1;\n",
       "}\n",
       "\n",
       ".xr-var-dims {\n",
       "  grid-column: 2;\n",
       "}\n",
       "\n",
       ".xr-var-dtype {\n",
       "  grid-column: 3;\n",
       "  text-align: right;\n",
       "  color: var(--xr-font-color2);\n",
       "}\n",
       "\n",
       ".xr-var-preview {\n",
       "  grid-column: 4;\n",
       "}\n",
       "\n",
       ".xr-var-name,\n",
       ".xr-var-dims,\n",
       ".xr-var-dtype,\n",
       ".xr-preview,\n",
       ".xr-attrs dt {\n",
       "  white-space: nowrap;\n",
       "  overflow: hidden;\n",
       "  text-overflow: ellipsis;\n",
       "  padding-right: 10px;\n",
       "}\n",
       "\n",
       ".xr-var-name:hover,\n",
       ".xr-var-dims:hover,\n",
       ".xr-var-dtype:hover,\n",
       ".xr-attrs dt:hover {\n",
       "  overflow: visible;\n",
       "  width: auto;\n",
       "  z-index: 1;\n",
       "}\n",
       "\n",
       ".xr-var-attrs,\n",
       ".xr-var-data {\n",
       "  display: none;\n",
       "  background-color: var(--xr-background-color) !important;\n",
       "  padding-bottom: 5px !important;\n",
       "}\n",
       "\n",
       ".xr-var-attrs-in:checked ~ .xr-var-attrs,\n",
       ".xr-var-data-in:checked ~ .xr-var-data {\n",
       "  display: block;\n",
       "}\n",
       "\n",
       ".xr-var-data > table {\n",
       "  float: right;\n",
       "}\n",
       "\n",
       ".xr-var-name span,\n",
       ".xr-var-data,\n",
       ".xr-attrs {\n",
       "  padding-left: 25px !important;\n",
       "}\n",
       "\n",
       ".xr-attrs,\n",
       ".xr-var-attrs,\n",
       ".xr-var-data {\n",
       "  grid-column: 1 / -1;\n",
       "}\n",
       "\n",
       "dl.xr-attrs {\n",
       "  padding: 0;\n",
       "  margin: 0;\n",
       "  display: grid;\n",
       "  grid-template-columns: 125px auto;\n",
       "}\n",
       "\n",
       ".xr-attrs dt,\n",
       ".xr-attrs dd {\n",
       "  padding: 0;\n",
       "  margin: 0;\n",
       "  float: left;\n",
       "  padding-right: 10px;\n",
       "  width: auto;\n",
       "}\n",
       "\n",
       ".xr-attrs dt {\n",
       "  font-weight: normal;\n",
       "  grid-column: 1;\n",
       "}\n",
       "\n",
       ".xr-attrs dt:hover span {\n",
       "  display: inline-block;\n",
       "  background: var(--xr-background-color);\n",
       "  padding-right: 10px;\n",
       "}\n",
       "\n",
       ".xr-attrs dd {\n",
       "  grid-column: 2;\n",
       "  white-space: pre-wrap;\n",
       "  word-break: break-all;\n",
       "}\n",
       "\n",
       ".xr-icon-database,\n",
       ".xr-icon-file-text2 {\n",
       "  display: inline-block;\n",
       "  vertical-align: middle;\n",
       "  width: 1em;\n",
       "  height: 1.5em !important;\n",
       "  stroke-width: 0;\n",
       "  stroke: currentColor;\n",
       "  fill: currentColor;\n",
       "}\n",
       "</style><pre class='xr-text-repr-fallback'>&lt;xarray.DataArray &#x27;deptht&#x27; (deptht: 50)&gt;\n",
       "array([4.940254e-01, 1.541375e+00, 2.645669e+00, 3.819495e+00, 5.078224e+00,\n",
       "       6.440614e+00, 7.929560e+00, 9.572997e+00, 1.140500e+01, 1.346714e+01,\n",
       "       1.581007e+01, 1.849556e+01, 2.159882e+01, 2.521141e+01, 2.944473e+01,\n",
       "       3.443415e+01, 4.034405e+01, 4.737369e+01, 5.576429e+01, 6.580727e+01,\n",
       "       7.785385e+01, 9.232607e+01, 1.097293e+02, 1.306660e+02, 1.558507e+02,\n",
       "       1.861256e+02, 2.224752e+02, 2.660403e+02, 3.181274e+02, 3.802130e+02,\n",
       "       4.539377e+02, 5.410889e+02, 6.435668e+02, 7.633331e+02, 9.023393e+02,\n",
       "       1.062440e+03, 1.245291e+03, 1.452251e+03, 1.684284e+03, 1.941893e+03,\n",
       "       2.225078e+03, 2.533336e+03, 2.865703e+03, 3.220820e+03, 3.597032e+03,\n",
       "       3.992484e+03, 4.405224e+03, 4.833291e+03, 5.274784e+03, 5.727917e+03])\n",
       "Coordinates:\n",
       "  * deptht        (deptht) float64 0.494 1.541 2.646 ... 5.275e+03 5.728e+03\n",
       "    time_counter  datetime64[ns] 2019-12-01T12:00:00\n",
       "Attributes:\n",
       "    units:          m\n",
       "    positive:       down\n",
       "    valid_min:      0.4940253794193268\n",
       "    valid_max:      5727.91650390625\n",
       "    long_name:      Vertical T levels\n",
       "    standard_name:  depth\n",
       "    axis:           Z</pre><div class='xr-wrap' hidden><div class='xr-header'><div class='xr-obj-type'>xarray.DataArray</div><div class='xr-array-name'>'deptht'</div><ul class='xr-dim-list'><li><span class='xr-has-index'>deptht</span>: 50</li></ul></div><ul class='xr-sections'><li class='xr-section-item'><div class='xr-array-wrap'><input id='section-3ac1eaca-e777-4b99-864a-9f0f5ea4eae2' class='xr-array-in' type='checkbox' checked><label for='section-3ac1eaca-e777-4b99-864a-9f0f5ea4eae2' title='Show/hide data repr'><svg class='icon xr-icon-database'><use xlink:href='#icon-database'></use></svg></label><div class='xr-array-preview xr-preview'><span>0.494 1.541 2.646 3.819 ... 4.405e+03 4.833e+03 5.275e+03 5.728e+03</span></div><div class='xr-array-data'><pre>array([4.940254e-01, 1.541375e+00, 2.645669e+00, 3.819495e+00, 5.078224e+00,\n",
       "       6.440614e+00, 7.929560e+00, 9.572997e+00, 1.140500e+01, 1.346714e+01,\n",
       "       1.581007e+01, 1.849556e+01, 2.159882e+01, 2.521141e+01, 2.944473e+01,\n",
       "       3.443415e+01, 4.034405e+01, 4.737369e+01, 5.576429e+01, 6.580727e+01,\n",
       "       7.785385e+01, 9.232607e+01, 1.097293e+02, 1.306660e+02, 1.558507e+02,\n",
       "       1.861256e+02, 2.224752e+02, 2.660403e+02, 3.181274e+02, 3.802130e+02,\n",
       "       4.539377e+02, 5.410889e+02, 6.435668e+02, 7.633331e+02, 9.023393e+02,\n",
       "       1.062440e+03, 1.245291e+03, 1.452251e+03, 1.684284e+03, 1.941893e+03,\n",
       "       2.225078e+03, 2.533336e+03, 2.865703e+03, 3.220820e+03, 3.597032e+03,\n",
       "       3.992484e+03, 4.405224e+03, 4.833291e+03, 5.274784e+03, 5.727917e+03])</pre></div></div></li><li class='xr-section-item'><input id='section-19d190d7-de17-46ff-939f-196d13e045b7' class='xr-section-summary-in' type='checkbox'  checked><label for='section-19d190d7-de17-46ff-939f-196d13e045b7' class='xr-section-summary' >Coordinates: <span>(2)</span></label><div class='xr-section-inline-details'></div><div class='xr-section-details'><ul class='xr-var-list'><li class='xr-var-item'><div class='xr-var-name'><span class='xr-has-index'>deptht</span></div><div class='xr-var-dims'>(deptht)</div><div class='xr-var-dtype'>float64</div><div class='xr-var-preview xr-preview'>0.494 1.541 ... 5.275e+03 5.728e+03</div><input id='attrs-a00763f9-163a-44ef-a39f-ee950ac36a1f' class='xr-var-attrs-in' type='checkbox' ><label for='attrs-a00763f9-163a-44ef-a39f-ee950ac36a1f' title='Show/Hide attributes'><svg class='icon xr-icon-file-text2'><use xlink:href='#icon-file-text2'></use></svg></label><input id='data-ea956e39-5c1b-4968-ab9a-f8ecf37e1479' class='xr-var-data-in' type='checkbox'><label for='data-ea956e39-5c1b-4968-ab9a-f8ecf37e1479' title='Show/Hide data repr'><svg class='icon xr-icon-database'><use xlink:href='#icon-database'></use></svg></label><div class='xr-var-attrs'><dl class='xr-attrs'><dt><span>units :</span></dt><dd>m</dd><dt><span>positive :</span></dt><dd>down</dd><dt><span>valid_min :</span></dt><dd>0.4940253794193268</dd><dt><span>valid_max :</span></dt><dd>5727.91650390625</dd><dt><span>long_name :</span></dt><dd>Vertical T levels</dd><dt><span>standard_name :</span></dt><dd>depth</dd><dt><span>axis :</span></dt><dd>Z</dd></dl></div><div class='xr-var-data'><pre>array([4.940254e-01, 1.541375e+00, 2.645669e+00, 3.819495e+00, 5.078224e+00,\n",
       "       6.440614e+00, 7.929560e+00, 9.572997e+00, 1.140500e+01, 1.346714e+01,\n",
       "       1.581007e+01, 1.849556e+01, 2.159882e+01, 2.521141e+01, 2.944473e+01,\n",
       "       3.443415e+01, 4.034405e+01, 4.737369e+01, 5.576429e+01, 6.580727e+01,\n",
       "       7.785385e+01, 9.232607e+01, 1.097293e+02, 1.306660e+02, 1.558507e+02,\n",
       "       1.861256e+02, 2.224752e+02, 2.660403e+02, 3.181274e+02, 3.802130e+02,\n",
       "       4.539377e+02, 5.410889e+02, 6.435668e+02, 7.633331e+02, 9.023393e+02,\n",
       "       1.062440e+03, 1.245291e+03, 1.452251e+03, 1.684284e+03, 1.941893e+03,\n",
       "       2.225078e+03, 2.533336e+03, 2.865703e+03, 3.220820e+03, 3.597032e+03,\n",
       "       3.992484e+03, 4.405224e+03, 4.833291e+03, 5.274784e+03, 5.727917e+03])</pre></div></li><li class='xr-var-item'><div class='xr-var-name'><span>time_counter</span></div><div class='xr-var-dims'>()</div><div class='xr-var-dtype'>datetime64[ns]</div><div class='xr-var-preview xr-preview'>2019-12-01T12:00:00</div><input id='attrs-c132e7d6-483a-47e5-870b-25aa03c8c6cf' class='xr-var-attrs-in' type='checkbox' ><label for='attrs-c132e7d6-483a-47e5-870b-25aa03c8c6cf' title='Show/Hide attributes'><svg class='icon xr-icon-file-text2'><use xlink:href='#icon-file-text2'></use></svg></label><input id='data-c9ab91a0-6b17-449e-b4e4-7ca1a6c5616e' class='xr-var-data-in' type='checkbox'><label for='data-c9ab91a0-6b17-449e-b4e4-7ca1a6c5616e' title='Show/Hide data repr'><svg class='icon xr-icon-database'><use xlink:href='#icon-database'></use></svg></label><div class='xr-var-attrs'><dl class='xr-attrs'><dt><span>standard_name :</span></dt><dd>time</dd><dt><span>long_name :</span></dt><dd>Time axis</dd><dt><span>axis :</span></dt><dd>T</dd><dt><span>time_origin :</span></dt><dd>1950-JAN-01 00:00:00</dd></dl></div><div class='xr-var-data'><pre>array(&#x27;2019-12-01T12:00:00.000000000&#x27;, dtype=&#x27;datetime64[ns]&#x27;)</pre></div></li></ul></div></li><li class='xr-section-item'><input id='section-ce110c11-c04a-4005-b190-b0c5b1271dbf' class='xr-section-summary-in' type='checkbox'  checked><label for='section-ce110c11-c04a-4005-b190-b0c5b1271dbf' class='xr-section-summary' >Attributes: <span>(7)</span></label><div class='xr-section-inline-details'></div><div class='xr-section-details'><dl class='xr-attrs'><dt><span>units :</span></dt><dd>m</dd><dt><span>positive :</span></dt><dd>down</dd><dt><span>valid_min :</span></dt><dd>0.4940253794193268</dd><dt><span>valid_max :</span></dt><dd>5727.91650390625</dd><dt><span>long_name :</span></dt><dd>Vertical T levels</dd><dt><span>standard_name :</span></dt><dd>depth</dd><dt><span>axis :</span></dt><dd>Z</dd></dl></div></li></ul></div></div>"
      ],
      "text/plain": [
       "<xarray.DataArray 'deptht' (deptht: 50)>\n",
       "array([4.940254e-01, 1.541375e+00, 2.645669e+00, 3.819495e+00, 5.078224e+00,\n",
       "       6.440614e+00, 7.929560e+00, 9.572997e+00, 1.140500e+01, 1.346714e+01,\n",
       "       1.581007e+01, 1.849556e+01, 2.159882e+01, 2.521141e+01, 2.944473e+01,\n",
       "       3.443415e+01, 4.034405e+01, 4.737369e+01, 5.576429e+01, 6.580727e+01,\n",
       "       7.785385e+01, 9.232607e+01, 1.097293e+02, 1.306660e+02, 1.558507e+02,\n",
       "       1.861256e+02, 2.224752e+02, 2.660403e+02, 3.181274e+02, 3.802130e+02,\n",
       "       4.539377e+02, 5.410889e+02, 6.435668e+02, 7.633331e+02, 9.023393e+02,\n",
       "       1.062440e+03, 1.245291e+03, 1.452251e+03, 1.684284e+03, 1.941893e+03,\n",
       "       2.225078e+03, 2.533336e+03, 2.865703e+03, 3.220820e+03, 3.597032e+03,\n",
       "       3.992484e+03, 4.405224e+03, 4.833291e+03, 5.274784e+03, 5.727917e+03])\n",
       "Coordinates:\n",
       "  * deptht        (deptht) float64 0.494 1.541 2.646 ... 5.275e+03 5.728e+03\n",
       "    time_counter  datetime64[ns] 2019-12-01T12:00:00\n",
       "Attributes:\n",
       "    units:          m\n",
       "    positive:       down\n",
       "    valid_min:      0.4940253794193268\n",
       "    valid_max:      5727.91650390625\n",
       "    long_name:      Vertical T levels\n",
       "    standard_name:  depth\n",
       "    axis:           Z"
      ]
     },
     "execution_count": 45,
     "metadata": {},
     "output_type": "execute_result"
    }
   ],
   "source": [
    "depth"
   ]
  },
  {
   "cell_type": "code",
   "execution_count": 46,
   "id": "c236d942-4050-49df-9cae-efd4c87c98f7",
   "metadata": {},
   "outputs": [],
   "source": [
    "np.save('../notebooks/julia/density_profile.npy', rho_SACT)\n",
    "np.save('../notebooks/julia/depth_profile.npy', depth)"
   ]
  },
  {
   "cell_type": "code",
   "execution_count": 44,
   "id": "ba47cde6-a3ff-40d7-b446-ddddf5144560",
   "metadata": {},
   "outputs": [
    {
     "data": {
      "text/plain": [
       "array([1025.55689332, 1025.57152895, 1025.59023083, 1025.60457153,\n",
       "       1025.61709138, 1025.62913556, 1025.64105483, 1025.65345827,\n",
       "       1025.66718635, 1025.68273209, 1025.70104617, 1025.72615092,\n",
       "       1025.76644493, 1025.81602056, 1025.86761528, 1025.92049313,\n",
       "       1025.97906326, 1026.04939459, 1026.1347331 , 1026.23052206,\n",
       "       1026.32983475, 1026.42861621, 1026.53235854, 1026.64663253,\n",
       "       1026.78432669, 1026.95521282, 1027.15916055, 1027.42131738,\n",
       "       1027.76704563, 1028.18033471, 1028.65745188, 1029.20358964,\n",
       "       1029.84348321, 1030.55459154, 1031.33329891, 1032.21080321,\n",
       "       1033.20765757, 1034.30933938, 1035.44941917, 1036.73068452,\n",
       "       1038.09061603, 1039.52156155, 1041.04209828, 1042.64988824,\n",
       "       1044.40258002, 1046.16671832, 1048.04834219, 1049.94930656,\n",
       "       1051.86663863,           nan])"
      ]
     },
     "execution_count": 44,
     "metadata": {},
     "output_type": "execute_result"
    }
   ],
   "source": [
    "np.load('../notebooks/julia/density_profile.npy')"
   ]
  },
  {
   "cell_type": "code",
   "execution_count": 40,
   "id": "4190e4f3-d5f1-4335-9bb4-543a690c1003",
   "metadata": {},
   "outputs": [
    {
     "data": {
      "text/plain": [
       "Text(0, 0.5, 'Depth (m)')"
      ]
     },
     "execution_count": 40,
     "metadata": {},
     "output_type": "execute_result"
    },
    {
     "data": {
      "image/png": "[encoded data removed]",
      "text/plain": [
       "<Figure size 432x288 with 1 Axes>"
      ]
     },
     "metadata": {
      "needs_background": "light"
     },
     "output_type": "display_data"
    }
   ],
   "source": [
    "plt.plot(rho_SPPT, -depth, '^-k', label='SP-PT')\n",
    "plt.plot(rho_SACT, -depth, '--r', label='SA-CT (TEOS10)')\n",
    "plt.legend()\n",
    "plt.xlabel(r'Density (kg/$m^3$)')\n",
    "plt.ylabel('Depth (m)')"
   ]
  },
  {
   "cell_type": "code",
   "execution_count": 41,
   "id": "471c8f8f-7325-4097-975b-82351ed9d2b2",
   "metadata": {},
   "outputs": [
    {
     "data": {
      "text/plain": [
       "Text(0.5, 1.0, '$\\\\frac{\\\\rho_{TEOS10}}{\\\\rho_{SP-TP}}$')"
      ]
     },
     "execution_count": 41,
     "metadata": {},
     "output_type": "execute_result"
    },
    {
     "data": {
      "image/png": "[encoded data removed]",
      "text/plain": [
       "<Figure size 432x288 with 1 Axes>"
      ]
     },
     "metadata": {
      "needs_background": "light"
     },
     "output_type": "display_data"
    }
   ],
   "source": [
    "plt.plot(rho_SACT/rho_SPPT, -depth)\n",
    "plt.xlabel(r'Density (kg/$m^3$)')\n",
    "plt.ylabel('Depth (m)')\n",
    "plt.title(r'$\\frac{\\rho_{TEOS10}}{\\rho_{SP-TP}}$')\n",
    "# plt.plot(rho_SACT, -depth)"
   ]
  },
  {
   "cell_type": "markdown",
   "id": "3d97b0d6-7371-4947-8b04-eb64c6cd689d",
   "metadata": {},
   "source": [
    "## 1D-model for sinking particles"
   ]
  },
  {
   "cell_type": "code",
   "execution_count": 85,
   "id": "bd232cd7-1116-41b8-94a1-edb4f9eddeda",
   "metadata": {},
   "outputs": [],
   "source": [
    "def beta(ρ_f, ρ_p):\n",
    "    _β = 3*ρ_f/(2*ρ_p + ρ_f)\n",
    "    \n",
    "    return _β\n",
    "\n",
    "def tau_p(a, β):\n",
    "    ν = 1e-6\n",
    "    _τ = a**2/(3*β*ν)\n",
    "    \n",
    "    return _τ\n",
    "\n",
    "density_teos = interpolate.interp1d(depth, rho_SACT)\n",
    "density_SP_PT = interpolate.interp1d(depth, rho_SPPT)\n",
    "\n",
    "def sinking_velocity(state):\n",
    "    a, ρ_p, depth = state\n",
    "    \n",
    "    # depth positive down\n",
    "    g = 9.81\n",
    "    seafloor = 5000\n",
    "    \n",
    "    if depth >= 1:\n",
    "        ρ_f = density_SP_PT(depth)\n",
    "    else:\n",
    "        ρ_f = ρ_p\n",
    "        \n",
    "    β = beta(ρ_f, ρ_p)\n",
    "    τ = tau_p(a, β)\n",
    "    \n",
    "    if depth < seafloor and depth > 0:\n",
    "        v_s = (1 - β)*g*τ\n",
    "    else:\n",
    "        v_s = 0\n",
    "    \n",
    "    return np.array((0, 0, v_s))\n",
    "\n",
    "def sinking_velocity_SP_PT(state):\n",
    "    a, ρ_p, depth = state\n",
    "    \n",
    "    # depth positive down\n",
    "    g = 9.81\n",
    "    seafloor = 5000\n",
    "    \n",
    "    if depth >= 5:\n",
    "        ρ_f = density_SP_PT(depth)\n",
    "    else:\n",
    "        ρ_f = ρ_p\n",
    "        \n",
    "    β = beta(ρ_f, ρ_p)\n",
    "    τ = tau_p(a, β)\n",
    "    \n",
    "    if depth < seafloor and depth > 0:\n",
    "        v_s = (1 - β)*g*τ\n",
    "    else:\n",
    "        v_s = 0\n",
    "    \n",
    "    return np.array((0, 0, v_s))\n"
   ]
  },
  {
   "cell_type": "code",
   "execution_count": 86,
   "id": "e50feaa9-2f00-4bed-8d2e-a23561914e05",
   "metadata": {},
   "outputs": [
    {
     "data": {
      "text/plain": [
       "array(1051.41194589)"
      ]
     },
     "execution_count": 86,
     "metadata": {},
     "output_type": "execute_result"
    }
   ],
   "source": [
    "density_SP_PT(5200)"
   ]
  },
  {
   "cell_type": "code",
   "execution_count": 87,
   "id": "95da30f4-ccfe-43e8-a091-60f9c7ffa264",
   "metadata": {},
   "outputs": [],
   "source": [
    "def euler(state, dt, derivatives):\n",
    "    \"\"\"\n",
    "        state: numpy array giving the state of the pendulum at time t\n",
    "        t: starting time\n",
    "        dt: integration step\n",
    "        derivatives: function that calculate the derivatives of the coordinates\n",
    "        \n",
    "        Function that performs an integration step using to runge-kutta algorithm\n",
    "        \n",
    "        Returns an np.array containing the new state (theta, omega)\n",
    "    \"\"\"\n",
    "    \n",
    "    #Calculate the ks\n",
    "    k1 = dt * derivatives(state)\n",
    "    \n",
    "    #And consequently the new state of the system\n",
    "    new_state = state + k1\n",
    "    \n",
    "    return new_state"
   ]
  },
  {
   "cell_type": "code",
   "execution_count": 88,
   "id": "37071481-3394-4ad2-af7a-ede395d567e0",
   "metadata": {},
   "outputs": [],
   "source": [
    "def runge_kutta(state, dt, derivatives):\n",
    "    \"\"\"\n",
    "        state: numpy array giving the state of the pendulum at time t\n",
    "        t: starting time\n",
    "        dt: integration step\n",
    "        derivatives: function that calculate the derivatives of the coordinates\n",
    "        \n",
    "        Function that performs an integration step using to runge-kutta algorithm\n",
    "        \n",
    "        Returns an np.array containing the new state (theta, omega)\n",
    "    \"\"\"\n",
    "    \n",
    "    #Calculate the ks\n",
    "    k1 = dt * derivatives(state)\n",
    "    k2 = dt * derivatives(state + (0.5 * k1))\n",
    "    k3 = dt * derivatives(state + (0.5 * k2))\n",
    "    k4 = dt * derivatives(state + k3)\n",
    "    \n",
    "    #And consequently the new state of the system\n",
    "    new_state = state + (k1 + 2*k2 + 2*k3 + k4) / 6.\n",
    "    \n",
    "    return new_state"
   ]
  },
  {
   "cell_type": "code",
   "execution_count": 89,
   "id": "3d76e66f-1c61-4b23-970f-630329ebd94f",
   "metadata": {},
   "outputs": [],
   "source": [
    "def solver(f, sizes, densities, depths, dt, N_t, N, integrator):\n",
    "    \"\"\"\n",
    "        solver(f, x0, y0, v0, u0, dt, N_t, N, b = 0.5)\n",
    "\n",
    "    Function iterate the solution using runge_kutta_step and a RHS function f, for several points or initial \n",
    "    conditions given by N.\n",
    "\n",
    "    f is a RHS function\n",
    "    x0, y0, v0, u0 are arrays containig the initial condition x,y,v,u; with N dimensions.\n",
    "    dt is the timestep, \n",
    "    N_t number of time steps.\n",
    "    N number of initial conditions to iterate.\n",
    "\n",
    "    \"\"\"\n",
    "    \n",
    "    solution = np.zeros((3, N_t+1, N))\n",
    "    solution[0,0, :] = sizes\n",
    "    solution[1,0, :] = densities\n",
    "    solution[2,0,: ] = depths\n",
    "    \n",
    "    for i in range(1, N_t + 1):\n",
    "        for k in range(N):\n",
    "            \n",
    "            x_0_step = solution[:, i-1, k]\n",
    "            solution[:, i, k] = integrator(x_0_step, dt, f)\n",
    "         \n",
    "    return solution"
   ]
  },
  {
   "cell_type": "code",
   "execution_count": 90,
   "id": "16f69d31-b415-45c2-a9b7-b4aeabdd5d3e",
   "metadata": {},
   "outputs": [],
   "source": [
    "n_particles = 10\n",
    "particles_sizes = np.linspace(1e-7, 1e-3, n_particles)\n",
    "particles_densities = np.ones(n_particles)*ρ_PE #np.linspace(1030, 1100, n_particles)\n",
    "initial_depths = np.ones(n_particles)*100\n"
   ]
  },
  {
   "cell_type": "code",
   "execution_count": 93,
   "id": "5d2ac83a-88aa-4a8d-b398-6480fd067463",
   "metadata": {},
   "outputs": [
    {
     "ename": "ValueError",
     "evalue": "A value in x_new is above the interpolation range.",
     "output_type": "error",
     "traceback": [
      "\u001b[0;31m---------------------------------------------------------------------------\u001b[0m",
      "\u001b[0;31mValueError\u001b[0m                                Traceback (most recent call last)",
      "\u001b[0;32m/tmp/ipykernel_2830288/119771808.py\u001b[0m in \u001b[0;36m<module>\u001b[0;34m\u001b[0m\n\u001b[1;32m      3\u001b[0m \u001b[0mtime_dim\u001b[0m \u001b[0;34m=\u001b[0m \u001b[0mnp\u001b[0m\u001b[0;34m.\u001b[0m\u001b[0mlinspace\u001b[0m\u001b[0;34m(\u001b[0m\u001b[0;36m0\u001b[0m\u001b[0;34m,\u001b[0m \u001b[0mintegration_time\u001b[0m\u001b[0;34m*\u001b[0m\u001b[0mdt\u001b[0m\u001b[0;34m,\u001b[0m \u001b[0mintegration_time\u001b[0m\u001b[0;34m+\u001b[0m\u001b[0;36m1\u001b[0m\u001b[0;34m)\u001b[0m\u001b[0;34m\u001b[0m\u001b[0;34m\u001b[0m\u001b[0m\n\u001b[1;32m      4\u001b[0m \u001b[0;34m\u001b[0m\u001b[0m\n\u001b[0;32m----> 5\u001b[0;31m solutions_sacp = solver(sinking_velocity, \n\u001b[0m\u001b[1;32m      6\u001b[0m                         \u001b[0mparticles_sizes\u001b[0m\u001b[0;34m,\u001b[0m\u001b[0;34m\u001b[0m\u001b[0;34m\u001b[0m\u001b[0m\n\u001b[1;32m      7\u001b[0m                         \u001b[0mparticles_densities\u001b[0m\u001b[0;34m,\u001b[0m\u001b[0;34m\u001b[0m\u001b[0;34m\u001b[0m\u001b[0m\n",
      "\u001b[0;32m/tmp/ipykernel_2830288/2381320985.py\u001b[0m in \u001b[0;36msolver\u001b[0;34m(f, sizes, densities, depths, dt, N_t, N, integrator)\u001b[0m\n\u001b[1;32m     23\u001b[0m \u001b[0;34m\u001b[0m\u001b[0m\n\u001b[1;32m     24\u001b[0m             \u001b[0mx_0_step\u001b[0m \u001b[0;34m=\u001b[0m \u001b[0msolution\u001b[0m\u001b[0;34m[\u001b[0m\u001b[0;34m:\u001b[0m\u001b[0;34m,\u001b[0m \u001b[0mi\u001b[0m\u001b[0;34m-\u001b[0m\u001b[0;36m1\u001b[0m\u001b[0;34m,\u001b[0m \u001b[0mk\u001b[0m\u001b[0;34m]\u001b[0m\u001b[0;34m\u001b[0m\u001b[0;34m\u001b[0m\u001b[0m\n\u001b[0;32m---> 25\u001b[0;31m             \u001b[0msolution\u001b[0m\u001b[0;34m[\u001b[0m\u001b[0;34m:\u001b[0m\u001b[0;34m,\u001b[0m \u001b[0mi\u001b[0m\u001b[0;34m,\u001b[0m \u001b[0mk\u001b[0m\u001b[0;34m]\u001b[0m \u001b[0;34m=\u001b[0m \u001b[0mintegrator\u001b[0m\u001b[0;34m(\u001b[0m\u001b[0mx_0_step\u001b[0m\u001b[0;34m,\u001b[0m \u001b[0mdt\u001b[0m\u001b[0;34m,\u001b[0m \u001b[0mf\u001b[0m\u001b[0;34m)\u001b[0m\u001b[0;34m\u001b[0m\u001b[0;34m\u001b[0m\u001b[0m\n\u001b[0m\u001b[1;32m     26\u001b[0m \u001b[0;34m\u001b[0m\u001b[0m\n\u001b[1;32m     27\u001b[0m     \u001b[0;32mreturn\u001b[0m \u001b[0msolution\u001b[0m\u001b[0;34m\u001b[0m\u001b[0;34m\u001b[0m\u001b[0m\n",
      "\u001b[0;32m/tmp/ipykernel_2830288/1422726566.py\u001b[0m in \u001b[0;36mrunge_kutta\u001b[0;34m(state, dt, derivatives)\u001b[0m\n\u001b[1;32m     15\u001b[0m     \u001b[0mk2\u001b[0m \u001b[0;34m=\u001b[0m \u001b[0mdt\u001b[0m \u001b[0;34m*\u001b[0m \u001b[0mderivatives\u001b[0m\u001b[0;34m(\u001b[0m\u001b[0mstate\u001b[0m \u001b[0;34m+\u001b[0m \u001b[0;34m(\u001b[0m\u001b[0;36m0.5\u001b[0m \u001b[0;34m*\u001b[0m \u001b[0mk1\u001b[0m\u001b[0;34m)\u001b[0m\u001b[0;34m)\u001b[0m\u001b[0;34m\u001b[0m\u001b[0;34m\u001b[0m\u001b[0m\n\u001b[1;32m     16\u001b[0m     \u001b[0mk3\u001b[0m \u001b[0;34m=\u001b[0m \u001b[0mdt\u001b[0m \u001b[0;34m*\u001b[0m \u001b[0mderivatives\u001b[0m\u001b[0;34m(\u001b[0m\u001b[0mstate\u001b[0m \u001b[0;34m+\u001b[0m \u001b[0;34m(\u001b[0m\u001b[0;36m0.5\u001b[0m \u001b[0;34m*\u001b[0m \u001b[0mk2\u001b[0m\u001b[0;34m)\u001b[0m\u001b[0;34m)\u001b[0m\u001b[0;34m\u001b[0m\u001b[0;34m\u001b[0m\u001b[0m\n\u001b[0;32m---> 17\u001b[0;31m     \u001b[0mk4\u001b[0m \u001b[0;34m=\u001b[0m \u001b[0mdt\u001b[0m \u001b[0;34m*\u001b[0m \u001b[0mderivatives\u001b[0m\u001b[0;34m(\u001b[0m\u001b[0mstate\u001b[0m \u001b[0;34m+\u001b[0m \u001b[0mk3\u001b[0m\u001b[0;34m)\u001b[0m\u001b[0;34m\u001b[0m\u001b[0;34m\u001b[0m\u001b[0m\n\u001b[0m\u001b[1;32m     18\u001b[0m \u001b[0;34m\u001b[0m\u001b[0m\n\u001b[1;32m     19\u001b[0m     \u001b[0;31m#And consequently the new state of the system\u001b[0m\u001b[0;34m\u001b[0m\u001b[0;34m\u001b[0m\u001b[0;34m\u001b[0m\u001b[0m\n",
      "\u001b[0;32m/tmp/ipykernel_2830288/2286732512.py\u001b[0m in \u001b[0;36msinking_velocity\u001b[0;34m(state)\u001b[0m\n\u001b[1;32m     21\u001b[0m \u001b[0;34m\u001b[0m\u001b[0m\n\u001b[1;32m     22\u001b[0m     \u001b[0;32mif\u001b[0m \u001b[0mdepth\u001b[0m \u001b[0;34m>=\u001b[0m \u001b[0;36m1\u001b[0m\u001b[0;34m:\u001b[0m\u001b[0;34m\u001b[0m\u001b[0;34m\u001b[0m\u001b[0m\n\u001b[0;32m---> 23\u001b[0;31m         \u001b[0mρ_f\u001b[0m \u001b[0;34m=\u001b[0m \u001b[0mdensity_SP_PT\u001b[0m\u001b[0;34m(\u001b[0m\u001b[0mdepth\u001b[0m\u001b[0;34m)\u001b[0m\u001b[0;34m\u001b[0m\u001b[0;34m\u001b[0m\u001b[0m\n\u001b[0m\u001b[1;32m     24\u001b[0m     \u001b[0;32melse\u001b[0m\u001b[0;34m:\u001b[0m\u001b[0;34m\u001b[0m\u001b[0;34m\u001b[0m\u001b[0m\n\u001b[1;32m     25\u001b[0m         \u001b[0mρ_f\u001b[0m \u001b[0;34m=\u001b[0m \u001b[0mρ_p\u001b[0m\u001b[0;34m\u001b[0m\u001b[0;34m\u001b[0m\u001b[0m\n",
      "\u001b[0;32m/opt/apps/miniconda3/envs/parcels-dev/lib/python3.8/site-packages/scipy/interpolate/polyint.py\u001b[0m in \u001b[0;36m__call__\u001b[0;34m(self, x)\u001b[0m\n\u001b[1;32m     76\u001b[0m         \"\"\"\n\u001b[1;32m     77\u001b[0m         \u001b[0mx\u001b[0m\u001b[0;34m,\u001b[0m \u001b[0mx_shape\u001b[0m \u001b[0;34m=\u001b[0m \u001b[0mself\u001b[0m\u001b[0;34m.\u001b[0m\u001b[0m_prepare_x\u001b[0m\u001b[0;34m(\u001b[0m\u001b[0mx\u001b[0m\u001b[0;34m)\u001b[0m\u001b[0;34m\u001b[0m\u001b[0;34m\u001b[0m\u001b[0m\n\u001b[0;32m---> 78\u001b[0;31m         \u001b[0my\u001b[0m \u001b[0;34m=\u001b[0m \u001b[0mself\u001b[0m\u001b[0;34m.\u001b[0m\u001b[0m_evaluate\u001b[0m\u001b[0;34m(\u001b[0m\u001b[0mx\u001b[0m\u001b[0;34m)\u001b[0m\u001b[0;34m\u001b[0m\u001b[0;34m\u001b[0m\u001b[0m\n\u001b[0m\u001b[1;32m     79\u001b[0m         \u001b[0;32mreturn\u001b[0m \u001b[0mself\u001b[0m\u001b[0;34m.\u001b[0m\u001b[0m_finish_y\u001b[0m\u001b[0;34m(\u001b[0m\u001b[0my\u001b[0m\u001b[0;34m,\u001b[0m \u001b[0mx_shape\u001b[0m\u001b[0;34m)\u001b[0m\u001b[0;34m\u001b[0m\u001b[0;34m\u001b[0m\u001b[0m\n\u001b[1;32m     80\u001b[0m \u001b[0;34m\u001b[0m\u001b[0m\n",
      "\u001b[0;32m/opt/apps/miniconda3/envs/parcels-dev/lib/python3.8/site-packages/scipy/interpolate/interpolate.py\u001b[0m in \u001b[0;36m_evaluate\u001b[0;34m(self, x_new)\u001b[0m\n\u001b[1;32m    682\u001b[0m         \u001b[0my_new\u001b[0m \u001b[0;34m=\u001b[0m \u001b[0mself\u001b[0m\u001b[0;34m.\u001b[0m\u001b[0m_call\u001b[0m\u001b[0;34m(\u001b[0m\u001b[0mself\u001b[0m\u001b[0;34m,\u001b[0m \u001b[0mx_new\u001b[0m\u001b[0;34m)\u001b[0m\u001b[0;34m\u001b[0m\u001b[0;34m\u001b[0m\u001b[0m\n\u001b[1;32m    683\u001b[0m         \u001b[0;32mif\u001b[0m \u001b[0;32mnot\u001b[0m \u001b[0mself\u001b[0m\u001b[0;34m.\u001b[0m\u001b[0m_extrapolate\u001b[0m\u001b[0;34m:\u001b[0m\u001b[0;34m\u001b[0m\u001b[0;34m\u001b[0m\u001b[0m\n\u001b[0;32m--> 684\u001b[0;31m             \u001b[0mbelow_bounds\u001b[0m\u001b[0;34m,\u001b[0m \u001b[0mabove_bounds\u001b[0m \u001b[0;34m=\u001b[0m \u001b[0mself\u001b[0m\u001b[0;34m.\u001b[0m\u001b[0m_check_bounds\u001b[0m\u001b[0;34m(\u001b[0m\u001b[0mx_new\u001b[0m\u001b[0;34m)\u001b[0m\u001b[0;34m\u001b[0m\u001b[0;34m\u001b[0m\u001b[0m\n\u001b[0m\u001b[1;32m    685\u001b[0m             \u001b[0;32mif\u001b[0m \u001b[0mlen\u001b[0m\u001b[0;34m(\u001b[0m\u001b[0my_new\u001b[0m\u001b[0;34m)\u001b[0m \u001b[0;34m>\u001b[0m \u001b[0;36m0\u001b[0m\u001b[0;34m:\u001b[0m\u001b[0;34m\u001b[0m\u001b[0;34m\u001b[0m\u001b[0m\n\u001b[1;32m    686\u001b[0m                 \u001b[0;31m# Note fill_value must be broadcast up to the proper size\u001b[0m\u001b[0;34m\u001b[0m\u001b[0;34m\u001b[0m\u001b[0;34m\u001b[0m\u001b[0m\n",
      "\u001b[0;32m/opt/apps/miniconda3/envs/parcels-dev/lib/python3.8/site-packages/scipy/interpolate/interpolate.py\u001b[0m in \u001b[0;36m_check_bounds\u001b[0;34m(self, x_new)\u001b[0m\n\u001b[1;32m    714\u001b[0m                              \"range.\")\n\u001b[1;32m    715\u001b[0m         \u001b[0;32mif\u001b[0m \u001b[0mself\u001b[0m\u001b[0;34m.\u001b[0m\u001b[0mbounds_error\u001b[0m \u001b[0;32mand\u001b[0m \u001b[0mabove_bounds\u001b[0m\u001b[0;34m.\u001b[0m\u001b[0many\u001b[0m\u001b[0;34m(\u001b[0m\u001b[0;34m)\u001b[0m\u001b[0;34m:\u001b[0m\u001b[0;34m\u001b[0m\u001b[0;34m\u001b[0m\u001b[0m\n\u001b[0;32m--> 716\u001b[0;31m             raise ValueError(\"A value in x_new is above the interpolation \"\n\u001b[0m\u001b[1;32m    717\u001b[0m                              \"range.\")\n\u001b[1;32m    718\u001b[0m \u001b[0;34m\u001b[0m\u001b[0m\n",
      "\u001b[0;31mValueError\u001b[0m: A value in x_new is above the interpolation range."
     ]
    }
   ],
   "source": [
    "integration_time = 10\n",
    "dt = 60*60\n",
    "time_dim = np.linspace(0, integration_time*dt, integration_time+1)\n",
    "\n",
    "solutions_sacp = solver(sinking_velocity, \n",
    "                        particles_sizes, \n",
    "                        particles_densities, \n",
    "                        initial_depths,\n",
    "                        dt, \n",
    "                        integration_time, n_particles,\n",
    "                        runge_kutta)\n",
    "\n",
    "solutions_sppt = solver(sinking_velocity_SP_PT, \n",
    "                        particles_sizes, \n",
    "                        particles_densities, \n",
    "                        initial_depths, \n",
    "                        dt, \n",
    "                        integration_time, n_particles,\n",
    "                        runge_kutta)"
   ]
  },
  {
   "cell_type": "code",
   "execution_count": 58,
   "id": "933222c3-1354-4f71-a0e3-8dc554a3a353",
   "metadata": {},
   "outputs": [],
   "source": [
    "solutions_sacp_euler = solver(sinking_velocity, \n",
    "                        particles_sizes, \n",
    "                        particles_densities, \n",
    "                        initial_depths,\n",
    "                        dt, \n",
    "                        integration_time, n_particles,\n",
    "                        euler)\n",
    "\n",
    "solutions_sppt_euler = solver(sinking_velocity_SP_PT, \n",
    "                        particles_sizes, \n",
    "                        particles_densities, \n",
    "                        initial_depths, \n",
    "                        dt, \n",
    "                        integration_time, n_particles,\n",
    "                        euler)"
   ]
  },
  {
   "cell_type": "code",
   "execution_count": 59,
   "id": "da6425ae-1c1e-40aa-9c83-cd23d22eddd0",
   "metadata": {},
   "outputs": [],
   "source": [
    "vs_sacp = np.diff(solutions_sacp[2], axis=0)/dt\n",
    "vs_sppt = np.diff(solutions_sppt[2], axis=0)/dt\n",
    "vs_sacp_euler = np.diff(solutions_sacp_euler[2], axis=0)/dt\n",
    "vs_sppt_euler = np.diff(solutions_sppt_euler[2], axis=0)/dt"
   ]
  },
  {
   "cell_type": "code",
   "execution_count": 60,
   "id": "b64a4c95-4219-4dbe-ac64-ddd5614117c7",
   "metadata": {},
   "outputs": [
    {
     "data": {
      "text/plain": [
       "(10, 10)"
      ]
     },
     "execution_count": 60,
     "metadata": {},
     "output_type": "execute_result"
    }
   ],
   "source": [
    "vs_sacp.shape"
   ]
  },
  {
   "cell_type": "code",
   "execution_count": 61,
   "id": "078da4a8-58e3-466b-b91e-cfe8f546e3a5",
   "metadata": {},
   "outputs": [
    {
     "data": {
      "text/plain": [
       "Text(0.5, 1.0, 'SA - CT')"
      ]
     },
     "execution_count": 61,
     "metadata": {},
     "output_type": "execute_result"
    },
    {
     "data": {
      "image/png": "[encoded data removed]",
      "text/plain": [
       "<Figure size 432x288 with 1 Axes>"
      ]
     },
     "metadata": {
      "needs_background": "light"
     },
     "output_type": "display_data"
    }
   ],
   "source": [
    "for i in range(n_particles):\n",
    "    plt.plot(time_dim, -solutions_sacp[2,:,i], label=f'{particles_sizes[i]:.1}');\n",
    "plt.legend()\n",
    "plt.xlabel('Time (seconds)')\n",
    "plt.ylabel('Depth (m)')\n",
    "plt.title('SA - CT')"
   ]
  },
  {
   "cell_type": "code",
   "execution_count": 62,
   "id": "c1b7c736-cac9-4f34-943b-6b7a11892c71",
   "metadata": {},
   "outputs": [
    {
     "data": {
      "text/plain": [
       "Text(0.5, 1.0, 'SP - PT')"
      ]
     },
     "execution_count": 62,
     "metadata": {},
     "output_type": "execute_result"
    },
    {
     "data": {
      "image/png": "[encoded data removed]",
      "text/plain": [
       "<Figure size 432x288 with 1 Axes>"
      ]
     },
     "metadata": {
      "needs_background": "light"
     },
     "output_type": "display_data"
    }
   ],
   "source": [
    "for i in range(n_particles):\n",
    "    plt.plot(time_dim, -solutions_sppt[2,:,i], label=f'{particles_sizes[i]:.1}');\n",
    "plt.legend()\n",
    "plt.xlabel('Time (seconds)')\n",
    "plt.ylabel('Depth (m)')\n",
    "plt.title('SP - PT')"
   ]
  },
  {
   "cell_type": "code",
   "execution_count": 63,
   "id": "71619929-ca5e-41a8-a589-056993665de9",
   "metadata": {},
   "outputs": [
    {
     "data": {
      "text/plain": [
       "Text(0.5, 1.0, 'Depth Difference (SACT - CPPT)')"
      ]
     },
     "execution_count": 63,
     "metadata": {},
     "output_type": "execute_result"
    },
    {
     "data": {
      "image/png": "[encoded data removed]",
      "text/plain": [
       "<Figure size 432x288 with 1 Axes>"
      ]
     },
     "metadata": {
      "needs_background": "light"
     },
     "output_type": "display_data"
    }
   ],
   "source": [
    "for i in range(n_particles):\n",
    "    plt.plot(time_dim, solutions_sacp[2,:,i] - solutions_sppt[2,:,i], label=f'{particles_sizes[i]:.1}');\n",
    "plt.legend()\n",
    "plt.xlabel('Time (seconds)')\n",
    "plt.ylabel('Depth diference(m)')\n",
    "plt.title('Depth Difference (SACT - CPPT)')"
   ]
  },
  {
   "cell_type": "markdown",
   "id": "dc0d97a1-58cc-4504-9bf3-e9f177772a34",
   "metadata": {},
   "source": [
    "# Euler vs RK4"
   ]
  },
  {
   "cell_type": "code",
   "execution_count": 64,
   "id": "b730d5f5-12ff-4b6b-9c31-85d59959992d",
   "metadata": {},
   "outputs": [
    {
     "data": {
      "text/plain": [
       "(3, 11, 10)"
      ]
     },
     "execution_count": 64,
     "metadata": {},
     "output_type": "execute_result"
    }
   ],
   "source": [
    "solutions_sacp.shape"
   ]
  },
  {
   "cell_type": "code",
   "execution_count": null,
   "id": "dc1a1c01-6868-4fd2-9021-e59036c637d4",
   "metadata": {},
   "outputs": [],
   "source": []
  },
  {
   "cell_type": "code",
   "execution_count": 65,
   "id": "9c14170e-aa91-4dd5-aeee-ab8355ec267f",
   "metadata": {},
   "outputs": [
    {
     "data": {
      "text/plain": [
       "Text(0.5, 1.0, 'Depth Difference (RK4 - Euler)')"
      ]
     },
     "execution_count": 65,
     "metadata": {},
     "output_type": "execute_result"
    },
    {
     "data": {
      "image/png": "[encoded data removed]",
      "text/plain": [
       "<Figure size 432x288 with 1 Axes>"
      ]
     },
     "metadata": {
      "needs_background": "light"
     },
     "output_type": "display_data"
    }
   ],
   "source": [
    "for i in range(8, 9):\n",
    "    plt.plot(time_dim, solutions_sacp[2,:,i], label=f'RK4 {particles_sizes[i]:.1}');\n",
    "    plt.plot(time_dim, solutions_sacp_euler[2,:,i], label=f'Euler {particles_sizes[i]:.1}');\n",
    "plt.legend()\n",
    "plt.xlabel('Time (seconds)')\n",
    "plt.ylabel('Depth diference(m)')\n",
    "plt.title('Depth Difference (RK4 - Euler)')"
   ]
  },
  {
   "cell_type": "code",
   "execution_count": 42,
   "id": "f378a9ea-2992-4f94-b2c9-67884aef0231",
   "metadata": {},
   "outputs": [
    {
     "data": {
      "text/plain": [
       "(10000, 10)"
      ]
     },
     "execution_count": 42,
     "metadata": {},
     "output_type": "execute_result"
    }
   ],
   "source": [
    "vs_sppt.shape"
   ]
  },
  {
   "cell_type": "code",
   "execution_count": 43,
   "id": "b4f95e31-6139-4410-b650-07db7ee01d81",
   "metadata": {},
   "outputs": [
    {
     "data": {
      "text/plain": [
       "Text(0, 0.5, 'Sinking velocity (m/s)')"
      ]
     },
     "execution_count": 43,
     "metadata": {},
     "output_type": "execute_result"
    },
    {
     "data": {
      "image/png": "[encoded data removed]",
      "text/plain": [
       "<Figure size 432x288 with 1 Axes>"
      ]
     },
     "metadata": {
      "needs_background": "light"
     },
     "output_type": "display_data"
    }
   ],
   "source": [
    "for i in range(9):\n",
    "    plt.plot(time_dim[1:], vs_sppt[:,i], label=f'{particles_sizes[i]:.1}');\n",
    "plt.legend()\n",
    "plt.xlabel('Time (seconds)')\n",
    "plt.ylabel('Sinking velocity (m/s)')\n"
   ]
  },
  {
   "cell_type": "code",
   "execution_count": 44,
   "id": "ef9f5db5-7520-4340-b3d5-6c21f0358493",
   "metadata": {},
   "outputs": [
    {
     "data": {
      "text/plain": [
       "Text(0.5, 1.0, 'SA - CT')"
      ]
     },
     "execution_count": 44,
     "metadata": {},
     "output_type": "execute_result"
    },
    {
     "data": {
      "image/png": "[encoded data removed]",
      "text/plain": [
       "<Figure size 432x288 with 1 Axes>"
      ]
     },
     "metadata": {
      "needs_background": "light"
     },
     "output_type": "display_data"
    }
   ],
   "source": [
    "for i in range(9):\n",
    "    plt.plot(time_dim[1:], vs_sacp[:,i], label=f'{particles_sizes[i]:.1}');\n",
    "plt.legend()\n",
    "plt.xlabel('Time (seconds)')\n",
    "plt.ylabel('Sinking velocity (m/s)')\n",
    "plt.title('SA - CT')"
   ]
  },
  {
   "cell_type": "code",
   "execution_count": 45,
   "id": "a61ff015-13e9-4697-b950-7a09e4764adb",
   "metadata": {},
   "outputs": [
    {
     "data": {
      "text/plain": [
       "Text(0.5, 1.0, 'vs_sacp - vs_sppt')"
      ]
     },
     "execution_count": 45,
     "metadata": {},
     "output_type": "execute_result"
    },
    {
     "data": {
      "image/png": "[encoded data removed]",
      "text/plain": [
       "<Figure size 432x288 with 1 Axes>"
      ]
     },
     "metadata": {
      "needs_background": "light"
     },
     "output_type": "display_data"
    }
   ],
   "source": [
    "for i in range(9):\n",
    "    plt.plot(time_dim[1:], vs_sacp[:,i] - vs_sppt[:,i], label=f'{particles_sizes[i]:.1}');\n",
    "plt.legend()\n",
    "plt.xlabel('Time (seconds)')\n",
    "plt.ylabel('Sinking velocity (m/s)')\n",
    "plt.title('vs_sacp - vs_sppt')"
   ]
  },
  {
   "cell_type": "markdown",
   "id": "b94226a1-3c01-43ce-a88e-60448142e93f",
   "metadata": {},
   "source": [
    "Fractions\n",
    "\n"
   ]
  },
  {
   "cell_type": "code",
   "execution_count": null,
   "id": "f2563078-e261-42b0-967c-f26a38aaee93",
   "metadata": {},
   "outputs": [],
   "source": []
  },
  {
   "cell_type": "code",
   "execution_count": null,
   "id": "a915abbc-b5e4-4616-9c01-d5425d4941b3",
   "metadata": {},
   "outputs": [],
   "source": []
  },
  {
   "cell_type": "code",
   "execution_count": null,
   "id": "64b27cf5-c838-4561-bde9-e7cb701d60a5",
   "metadata": {},
   "outputs": [],
   "source": []
  },
  {
   "cell_type": "code",
   "execution_count": 46,
   "id": "76929f5a-8e58-4a05-9194-a442b7f041d1",
   "metadata": {},
   "outputs": [
    {
     "ename": "NameError",
     "evalue": "name 'solutions_100m_sppt' is not defined",
     "output_type": "error",
     "traceback": [
      "\u001b[0;31m---------------------------------------------------------------------------\u001b[0m",
      "\u001b[0;31mNameError\u001b[0m                                 Traceback (most recent call last)",
      "\u001b[0;32m/tmp/ipykernel_2830288/3131036656.py\u001b[0m in \u001b[0;36m<module>\u001b[0;34m\u001b[0m\n\u001b[0;32m----> 1\u001b[0;31m \u001b[0mplt\u001b[0m\u001b[0;34m.\u001b[0m\u001b[0mplot\u001b[0m\u001b[0;34m(\u001b[0m\u001b[0mnp\u001b[0m\u001b[0;34m.\u001b[0m\u001b[0mdiff\u001b[0m\u001b[0;34m(\u001b[0m\u001b[0msolutions_100m_sppt\u001b[0m\u001b[0;34m[\u001b[0m\u001b[0;36m2\u001b[0m\u001b[0;34m]\u001b[0m\u001b[0;34m,\u001b[0m\u001b[0maxis\u001b[0m\u001b[0;34m=\u001b[0m\u001b[0;36m1\u001b[0m\u001b[0;34m)\u001b[0m\u001b[0;34m)\u001b[0m\u001b[0;34m;\u001b[0m\u001b[0;34m\u001b[0m\u001b[0;34m\u001b[0m\u001b[0m\n\u001b[0m",
      "\u001b[0;31mNameError\u001b[0m: name 'solutions_100m_sppt' is not defined"
     ]
    }
   ],
   "source": [
    "plt.plot(np.diff(solutions_100m_sppt[2],axis=1));"
   ]
  },
  {
   "cell_type": "code",
   "execution_count": null,
   "id": "f070b88d-6846-45f7-9823-6047fa6c7e9b",
   "metadata": {},
   "outputs": [],
   "source": [
    "d0 = (0.001, 900, 10)"
   ]
  },
  {
   "cell_type": "code",
   "execution_count": null,
   "id": "bb2164b7-e3e4-47fd-82c6-1937b086ea79",
   "metadata": {},
   "outputs": [],
   "source": [
    "d0 = runge_kutta(d0, 1, sinking_velocity)\n",
    "d0"
   ]
  },
  {
   "cell_type": "code",
   "execution_count": null,
   "id": "221a775b-40a5-4bd6-9e3c-6f5831520ff9",
   "metadata": {},
   "outputs": [],
   "source": [
    "state_0 = [0.001, 1030, 10]\n",
    "\n",
    "time_range = np.linspace(0, 100000, 10001)\n",
    "dt = time_range[1] - time_range[0]\n",
    "sol = np.array([state_0])\n",
    "\n",
    "for i, t in enumerate(time_range):\n",
    "\n",
    "    _state = runge_kutta(sol[i], dt, sinking_velocity)\n",
    "    sol = np.vstack((sol, _state))\n",
    "    "
   ]
  },
  {
   "cell_type": "code",
   "execution_count": null,
   "id": "5c672c56-6fa9-4d90-a498-68c7fee8d214",
   "metadata": {},
   "outputs": [],
   "source": [
    "sol.shape"
   ]
  },
  {
   "cell_type": "code",
   "execution_count": null,
   "id": "dffac333-a25b-4806-83e7-ac6fdb14ef19",
   "metadata": {},
   "outputs": [],
   "source": [
    "sol[:, 2].shape"
   ]
  },
  {
   "cell_type": "code",
   "execution_count": null,
   "id": "837338bc-f84f-4c15-8985-ac153dac14dd",
   "metadata": {},
   "outputs": [],
   "source": [
    "plt.plot(time_range, sol[1:, 2])"
   ]
  },
  {
   "cell_type": "code",
   "execution_count": null,
   "id": "a85d04af-b941-4c18-9421-63817fde96ee",
   "metadata": {},
   "outputs": [],
   "source": []
  }
 ],
 "metadata": {
  "kernelspec": {
   "display_name": "Python 3",
   "language": "python",
   "name": "python3"
  },
  "language_info": {
   "codemirror_mode": {
    "name": "ipython",
    "version": 3
   },
   "file_extension": ".py",
   "mimetype": "text/x-python",
   "name": "python",
   "nbconvert_exporter": "python",
   "pygments_lexer": "ipython3",
   "version": "3.6.13"
  }
 },
 "nbformat": 4,
 "nbformat_minor": 5
}
