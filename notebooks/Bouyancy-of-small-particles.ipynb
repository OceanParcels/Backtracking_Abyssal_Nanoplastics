{
 "cells": [
  {
   "cell_type": "code",
   "execution_count": 7,
   "id": "825a0411",
   "metadata": {},
   "outputs": [],
   "source": [
    "import numpy as np\n",
    "import matplotlib.pyplot as plt\n",
    "import gsw\n",
    "import xarray as xr\n",
    "from glob import glob"
   ]
  },
  {
   "cell_type": "markdown",
   "id": "2bcc57e9",
   "metadata": {},
   "source": [
    "Dynamics\n",
    "\n",
    "$$ \\vec{v} = \\vec{u} + \\vec{v}_s$$\n",
    "\n",
    "with\n",
    "\n",
    "$\\vec{v_s} = (1 - \\beta) \\vec{g} \\tau_p$\n",
    "\n",
    "$\\beta = \\frac{3 \\rho_f}{2 \\rho_p + \\rho_f}$\n",
    "\n",
    "$\\tau_p = \\frac{a^2}{3 \\beta \\nu}$"
   ]
  },
  {
   "cell_type": "code",
   "execution_count": 29,
   "id": "6e69dd00",
   "metadata": {},
   "outputs": [],
   "source": [
    "def sinking_velocity(β, τ):\n",
    "    g=9.81\n",
    "    v_s = (1 - β)*g*τ\n",
    "    \n",
    "    return v_s\n",
    "\n",
    "def beta(ρ_f, ρ_p):\n",
    "    _β = 3*ρ_f/(2*ρ_p + ρ_f)\n",
    "    \n",
    "    return _β\n",
    "\n",
    "def tau_p(a, β, ν):\n",
    "    _τ = a**2/(3*β*ν)\n",
    "    \n",
    "    return _τ\n",
    "    "
   ]
  },
  {
   "cell_type": "markdown",
   "id": "6477bf2d",
   "metadata": {},
   "source": [
    " - Polypropylene(PP): 850–920 kg/m3\n",
    " - Polyethylene (PE): 890–980 kg/m3\n",
    " - Polystyrene (PS): 1040 kg/m3 (excluding its foamed version)\n",
    " - Polyesters (PEST): 1100– 1400 kg/m3\n",
    " - Polyamide (PA): 1120–1150 kg/m3\n",
    " - Acrylic: of 1180 kg/m3 "
   ]
  },
  {
   "cell_type": "markdown",
   "id": "25d86ae2",
   "metadata": {},
   "source": [
    "### PP"
   ]
  },
  {
   "cell_type": "code",
   "execution_count": 30,
   "id": "93ba8a49",
   "metadata": {},
   "outputs": [
    {
     "data": {
      "text/plain": [
       "1380.0"
      ]
     },
     "execution_count": 30,
     "metadata": {},
     "output_type": "execute_result"
    }
   ],
   "source": [
    "100**3*1.38/1000"
   ]
  },
  {
   "cell_type": "code",
   "execution_count": 37,
   "id": "fb9c0e8e",
   "metadata": {},
   "outputs": [],
   "source": [
    "ρ_sea = 1035\n",
    "ρ_PE = 1380\n",
    "ν = 1e-6\n",
    "\n",
    "diametres = np.linspace(1, 100000, 1000)*1e-9"
   ]
  },
  {
   "cell_type": "code",
   "execution_count": 38,
   "id": "50ecaeeb",
   "metadata": {},
   "outputs": [],
   "source": [
    "beta_PE = beta(ρ_sea, ρ_PE)"
   ]
  },
  {
   "cell_type": "code",
   "execution_count": 39,
   "id": "8a3a6736",
   "metadata": {},
   "outputs": [],
   "source": [
    "tau_PE = tau_p(diametres, beta_PE, ν)"
   ]
  },
  {
   "cell_type": "code",
   "execution_count": 40,
   "id": "83c50ca3",
   "metadata": {},
   "outputs": [],
   "source": [
    "vs_PE = sinking_velocity(beta_PE, tau_PE)"
   ]
  },
  {
   "cell_type": "code",
   "execution_count": 41,
   "id": "f96e4971",
   "metadata": {},
   "outputs": [
    {
     "data": {
      "text/plain": [
       "[<matplotlib.lines.Line2D at 0x7ff047d912e8>]"
      ]
     },
     "execution_count": 41,
     "metadata": {},
     "output_type": "execute_result"
    },
    {
     "data": {
      "image/png": "[encoded data removed]",
      "text/plain": [
       "<Figure size 432x288 with 1 Axes>"
      ]
     },
     "metadata": {
      "needs_background": "light"
     },
     "output_type": "display_data"
    }
   ],
   "source": [
    "plt.plot(diametres, tau_PE)"
   ]
  },
  {
   "cell_type": "code",
   "execution_count": 42,
   "id": "46038b27",
   "metadata": {},
   "outputs": [
    {
     "data": {
      "text/plain": [
       "[<matplotlib.lines.Line2D at 0x7ff0480d5f28>]"
      ]
     },
     "execution_count": 42,
     "metadata": {},
     "output_type": "execute_result"
    },
    {
     "data": {
      "image/png": "[encoded data removed]",
      "text/plain": [
       "<Figure size 432x288 with 1 Axes>"
      ]
     },
     "metadata": {
      "needs_background": "light"
     },
     "output_type": "display_data"
    }
   ],
   "source": [
    "plt.plot(diametres, vs_PE)"
   ]
  },
  {
   "cell_type": "markdown",
   "id": "75a66514-7dc6-4c86-8505-d36f7d6f5222",
   "metadata": {},
   "source": [
    "## GSW density analysis\n",
    "\n",
    "Basically the MOi dataset has data on Practical Salinity and Potential Temperature, but to compute the desnity of seawater with TEOS10, you need to have Absolute Salinity and Conservative Temperature. \n",
    "\n",
    "So the question is what happens if you don't convert the Practical Salinity and Potential Temperature, and direclty use the with the TEOS?"
   ]
  },
  {
   "cell_type": "code",
   "execution_count": 18,
   "id": "93b71178-2ba0-4c86-9f86-482aab16a5c6",
   "metadata": {},
   "outputs": [],
   "source": [
    "data_path = '/storage/shared/oceanparcels/input_data/MOi/2019/'\n",
    "mesh_mask = '/storage/shared/oceanparcels/input_data/MOi/domain_ORCA0083-N006/mesh_hgr.nc'\n",
    "\n",
    "tfiles = sorted(glob(data_path + 'psy4v3r1-daily_T_2019-12*.nc'))    \n",
    "sfiles = sorted(glob(data_path + 'psy4v3r1-daily_S_2019-12*.nc'))"
   ]
  },
  {
   "cell_type": "code",
   "execution_count": 21,
   "id": "2d2c1e78-1e69-46c5-8475-ed3913e45c47",
   "metadata": {},
   "outputs": [],
   "source": [
    "pot_temp = xr.load_dataset(tfiles[0])\n",
    "PS = xr.load_dataset(sfiles[0])"
   ]
  },
  {
   "cell_type": "code",
   "execution_count": 23,
   "id": "5cf4736b-7997-4211-8dd1-9f0bbe664f34",
   "metadata": {},
   "outputs": [],
   "source": [
    "depth = PS['deptht']"
   ]
  },
  {
   "cell_type": "markdown",
   "id": "ded65345-81cc-4266-8ceb-a1162700cd60",
   "metadata": {},
   "source": [
    "Pick the sampling position for this comparison"
   ]
  },
  {
   "cell_type": "code",
   "execution_count": 56,
   "id": "f284f5a5-d9df-4463-a5f5-42c27f666cfd",
   "metadata": {},
   "outputs": [],
   "source": [
    "lon_sample = 6.287\n",
    "lon_idx = 3520\n",
    "lat_sample = -32.171\n",
    "lat_idx = 1086"
   ]
  },
  {
   "cell_type": "code",
   "execution_count": 52,
   "id": "b25c142c-1238-4567-b511-bdeaf5aa87c6",
   "metadata": {},
   "outputs": [
    {
     "data": {
      "text/plain": [
       "(array([1086]),)"
      ]
     },
     "execution_count": 52,
     "metadata": {},
     "output_type": "execute_result"
    }
   ],
   "source": [
    "lat_min = np.abs(PS['nav_lat'][:,0] - lat_sample)\n",
    "np.where(lat_min == np.min(lat_min))"
   ]
  },
  {
   "cell_type": "code",
   "execution_count": 55,
   "id": "7ad340d1-db95-4daa-b3bc-67a6b4838817",
   "metadata": {},
   "outputs": [
    {
     "data": {
      "text/plain": [
       "(array([3520]),)"
      ]
     },
     "execution_count": 55,
     "metadata": {},
     "output_type": "execute_result"
    }
   ],
   "source": [
    "lon_min = np.abs(PS['nav_lon'][0,:] - lon_sample)\n",
    "np.where(lon_min == np.min(lon_min))"
   ]
  },
  {
   "cell_type": "code",
   "execution_count": 65,
   "id": "e3dc3560-edcd-42f2-b616-a96fac9d166d",
   "metadata": {},
   "outputs": [],
   "source": [
    "PS_sampling = PS['vosaline'][:, lat_idx, lon_idx]"
   ]
  },
  {
   "cell_type": "code",
   "execution_count": 68,
   "id": "8772412d-7dc5-47b1-8564-88d320afe21c",
   "metadata": {},
   "outputs": [],
   "source": [
    "pt_sampling = pot_temp['votemper'][:, lat_idx, lon_idx]"
   ]
  },
  {
   "cell_type": "code",
   "execution_count": 40,
   "id": "41253e47-f104-44a6-af1a-4058e225c0d2",
   "metadata": {},
   "outputs": [
    {
     "data": {
      "text/plain": [
       "(array([1914]), array([3059]))"
      ]
     },
     "execution_count": 40,
     "metadata": {},
     "output_type": "execute_result"
    }
   ],
   "source": [
    "np.where(lat_min == np.min(lat_min))"
   ]
  },
  {
   "cell_type": "markdown",
   "id": "65054a60-7941-4fc1-a96f-d94fb112e080",
   "metadata": {},
   "source": [
    "### TEOS10 correct procedure"
   ]
  },
  {
   "cell_type": "code",
   "execution_count": 31,
   "id": "e31f83ed-e0f1-4e62-a4d8-c2b5876d7bed",
   "metadata": {},
   "outputs": [],
   "source": [
    "pressure = gsw.p_from_z(-depth, lat_sample)"
   ]
  },
  {
   "cell_type": "code",
   "execution_count": 67,
   "id": "406f1cd8-9362-44d9-9794-9ee06117af9b",
   "metadata": {},
   "outputs": [],
   "source": [
    "SA_sampling = gsw.SA_from_SP(PS_sampling, pressure, lon_sample, lat_sample)"
   ]
  },
  {
   "cell_type": "code",
   "execution_count": 70,
   "id": "8ca4b92e-e685-4d33-a3ba-2240f6461712",
   "metadata": {},
   "outputs": [],
   "source": [
    "CT_sampling = gsw.CT_from_pt(SA_sampling, pt_sampling)"
   ]
  },
  {
   "cell_type": "code",
   "execution_count": 73,
   "id": "598c6d5a-e286-4fa2-92c7-177dd162b311",
   "metadata": {},
   "outputs": [
    {
     "data": {
      "text/plain": [
       "[<matplotlib.lines.Line2D at 0x7fc1297ac070>]"
      ]
     },
     "execution_count": 73,
     "metadata": {},
     "output_type": "execute_result"
    },
    {
     "data": {
      "image/png": "[encoded data removed]",
      "text/plain": [
       "<Figure size 432x288 with 1 Axes>"
      ]
     },
     "metadata": {
      "needs_background": "light"
     },
     "output_type": "display_data"
    }
   ],
   "source": [
    "plt.plot(pt_sampling, -depth)\n",
    "plt.plot(CT_sampling, -depth)"
   ]
  },
  {
   "cell_type": "code",
   "execution_count": 75,
   "id": "bd630f03-1a54-4c66-9fa2-d918d36e98c6",
   "metadata": {},
   "outputs": [
    {
     "data": {
      "text/plain": [
       "[<matplotlib.lines.Line2D at 0x7fc129b06490>]"
      ]
     },
     "execution_count": 75,
     "metadata": {},
     "output_type": "execute_result"
    },
    {
     "data": {
      "image/png": "[encoded data removed]",
      "text/plain": [
       "<Figure size 432x288 with 1 Axes>"
      ]
     },
     "metadata": {
      "needs_background": "light"
     },
     "output_type": "display_data"
    }
   ],
   "source": [
    "plt.plot(SA_sampling, -depth)\n",
    "plt.plot(PS_sampling, -depth)"
   ]
  },
  {
   "cell_type": "code",
   "execution_count": 77,
   "id": "3265344e-89f8-4732-9249-29e40b09dc72",
   "metadata": {},
   "outputs": [],
   "source": [
    "rho_SACT = gsw.density.rho(SA_sampling, CT_sampling, pressure)"
   ]
  },
  {
   "cell_type": "code",
   "execution_count": 78,
   "id": "f21d2471-358a-4200-9624-06205d78cee0",
   "metadata": {},
   "outputs": [],
   "source": [
    "rho_SPPT = gsw.density.rho(PS_sampling, pot_temp_sampling, pressure)"
   ]
  },
  {
   "cell_type": "code",
   "execution_count": 79,
   "id": "4190e4f3-d5f1-4335-9bb4-543a690c1003",
   "metadata": {},
   "outputs": [
    {
     "data": {
      "text/plain": [
       "[<matplotlib.lines.Line2D at 0x7fc128f9fd90>]"
      ]
     },
     "execution_count": 79,
     "metadata": {},
     "output_type": "execute_result"
    },
    {
     "data": {
      "image/png": "[encoded data removed]",
      "text/plain": [
       "<Figure size 432x288 with 1 Axes>"
      ]
     },
     "metadata": {
      "needs_background": "light"
     },
     "output_type": "display_data"
    }
   ],
   "source": [
    "plt.plot(rho_SPPT, -depth)\n",
    "plt.plot(rho_SACT, -depth)"
   ]
  },
  {
   "cell_type": "code",
   "execution_count": 81,
   "id": "471c8f8f-7325-4097-975b-82351ed9d2b2",
   "metadata": {},
   "outputs": [
    {
     "data": {
      "text/plain": [
       "[<matplotlib.lines.Line2D at 0x7fc128649d60>]"
      ]
     },
     "execution_count": 81,
     "metadata": {},
     "output_type": "execute_result"
    },
    {
     "data": {
      "image/png": "[encoded data removed]",
      "text/plain": [
       "<Figure size 432x288 with 1 Axes>"
      ]
     },
     "metadata": {
      "needs_background": "light"
     },
     "output_type": "display_data"
    }
   ],
   "source": [
    "plt.plot(abs(rho_SPPT- rho_SACT), -depth)\n",
    "# plt.plot(rho_SACT, -depth)"
   ]
  },
  {
   "cell_type": "code",
   "execution_count": null,
   "id": "08ff6f64-d004-4cdb-b43e-5321ebdf4685",
   "metadata": {},
   "outputs": [],
   "source": []
  }
 ],
 "metadata": {
  "kernelspec": {
   "display_name": "Python 3 (ipykernel)",
   "language": "python",
   "name": "python3"
  },
  "language_info": {
   "codemirror_mode": {
    "name": "ipython",
    "version": 3
   },
   "file_extension": ".py",
   "mimetype": "text/x-python",
   "name": "python",
   "nbconvert_exporter": "python",
   "pygments_lexer": "ipython3",
   "version": "3.8.11"
  }
 },
 "nbformat": 4,
 "nbformat_minor": 5
}
