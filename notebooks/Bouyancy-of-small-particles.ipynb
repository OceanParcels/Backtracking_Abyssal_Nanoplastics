{
 "cells": [
  {
   "cell_type": "code",
   "execution_count": 1,
   "id": "825a0411",
   "metadata": {},
   "outputs": [],
   "source": [
    "import numpy as np\n",
    "import matplotlib.pyplot as plt\n",
    "import gsw\n",
    "import xarray as xr\n",
    "from glob import glob\n",
    "from scipy import interpolate"
   ]
  },
  {
   "cell_type": "markdown",
   "id": "2bcc57e9",
   "metadata": {},
   "source": [
    "Dynamics\n",
    "\n",
    "$$ \\vec{v} = \\vec{u} + \\vec{v}_s$$\n",
    "\n",
    "with\n",
    "\n",
    "$\\vec{v_s} = (1 - \\beta) \\vec{g} \\tau_p$\n",
    "\n",
    "$\\beta = \\frac{3 \\rho_f}{2 \\rho_p + \\rho_f}$\n",
    "\n",
    "$\\tau_p = \\frac{a^2}{3 \\beta \\nu}$"
   ]
  },
  {
   "cell_type": "code",
   "execution_count": 2,
   "id": "6e69dd00",
   "metadata": {},
   "outputs": [],
   "source": [
    "def sinking_velocity(β, τ):\n",
    "    g=9.81\n",
    "    v_s = (1 - β)*g*τ\n",
    "    \n",
    "    return v_s\n",
    "\n",
    "def beta(ρ_f, ρ_p):\n",
    "    _β = 3*ρ_f/(2*ρ_p + ρ_f)\n",
    "    \n",
    "    return _β\n",
    "\n",
    "def tau_p(a, β, ν):\n",
    "    _τ = a**2/(3*β*ν)\n",
    "    \n",
    "    return _τ\n",
    "    "
   ]
  },
  {
   "cell_type": "markdown",
   "id": "6477bf2d",
   "metadata": {},
   "source": [
    " - Polypropylene(PP): 850–920 kg/m3\n",
    " - Polyethylene (PE): 890–980 kg/m3\n",
    " - Polystyrene (PS): 1040 kg/m3 (excluding its foamed version)\n",
    " - Polyesters (PEST): 1100– 1400 kg/m3\n",
    " - Polyamide (PA): 1120–1150 kg/m3\n",
    " - Acrylic: of 1180 kg/m3 "
   ]
  },
  {
   "cell_type": "markdown",
   "id": "25d86ae2",
   "metadata": {},
   "source": [
    "### PP"
   ]
  },
  {
   "cell_type": "code",
   "execution_count": 7,
   "id": "93ba8a49",
   "metadata": {},
   "outputs": [
    {
     "data": {
      "text/plain": [
       "1380.0"
      ]
     },
     "execution_count": 7,
     "metadata": {},
     "output_type": "execute_result"
    }
   ],
   "source": [
    "100**3*1.38/1000"
   ]
  },
  {
   "cell_type": "code",
   "execution_count": 8,
   "id": "fb9c0e8e",
   "metadata": {},
   "outputs": [],
   "source": [
    "ρ_sea = 1035\n",
    "ρ_PE = 1380\n",
    "ν = 1e-6\n",
    "\n",
    "diametres = np.linspace(1, 100000, 1000)*1e-9"
   ]
  },
  {
   "cell_type": "code",
   "execution_count": 9,
   "id": "50ecaeeb",
   "metadata": {},
   "outputs": [],
   "source": [
    "beta_PE = beta(ρ_sea, ρ_PE)"
   ]
  },
  {
   "cell_type": "code",
   "execution_count": 10,
   "id": "8a3a6736",
   "metadata": {},
   "outputs": [],
   "source": [
    "tau_PE = tau_p(diametres, beta_PE, ν)"
   ]
  },
  {
   "cell_type": "code",
   "execution_count": 11,
   "id": "83c50ca3",
   "metadata": {},
   "outputs": [],
   "source": [
    "vs_PE = sinking_velocity(beta_PE, tau_PE)"
   ]
  },
  {
   "cell_type": "code",
   "execution_count": 12,
   "id": "f96e4971",
   "metadata": {},
   "outputs": [
    {
     "data": {
      "text/plain": [
       "[<matplotlib.lines.Line2D at 0x7f0447dfb1c0>]"
      ]
     },
     "execution_count": 12,
     "metadata": {},
     "output_type": "execute_result"
    },
    {
     "data": {
      "image/png": "[encoded data removed]",
      "text/plain": [
       "<Figure size 432x288 with 1 Axes>"
      ]
     },
     "metadata": {
      "needs_background": "light"
     },
     "output_type": "display_data"
    }
   ],
   "source": [
    "plt.plot(diametres, tau_PE)"
   ]
  },
  {
   "cell_type": "code",
   "execution_count": 13,
   "id": "46038b27",
   "metadata": {},
   "outputs": [
    {
     "data": {
      "text/plain": [
       "[<matplotlib.lines.Line2D at 0x7f04475a45b0>]"
      ]
     },
     "execution_count": 13,
     "metadata": {},
     "output_type": "execute_result"
    },
    {
     "data": {
      "image/png": "[encoded data removed]",
      "text/plain": [
       "<Figure size 432x288 with 1 Axes>"
      ]
     },
     "metadata": {
      "needs_background": "light"
     },
     "output_type": "display_data"
    }
   ],
   "source": [
    "plt.plot(diametres, vs_PE)"
   ]
  },
  {
   "cell_type": "markdown",
   "id": "75a66514-7dc6-4c86-8505-d36f7d6f5222",
   "metadata": {},
   "source": [
    "## GSW density analysis\n",
    "\n",
    "Basically the MOi dataset has data on Practical Salinity and Potential Temperature, but to compute the desnity of seawater with TEOS10, you need to have Absolute Salinity and Conservative Temperature. \n",
    "\n",
    "So the question is what happens if you don't convert the Practical Salinity and Potential Temperature, and direclty use the with the TEOS?"
   ]
  },
  {
   "cell_type": "code",
   "execution_count": 3,
   "id": "93b71178-2ba0-4c86-9f86-482aab16a5c6",
   "metadata": {},
   "outputs": [],
   "source": [
    "data_path = '/storage/shared/oceanparcels/input_data/MOi/2019/'\n",
    "mesh_mask = '/storage/shared/oceanparcels/input_data/MOi/domain_ORCA0083-N006/mesh_hgr.nc'\n",
    "\n",
    "tfiles = sorted(glob(data_path + 'psy4v3r1-daily_T_2019-12*.nc'))    \n",
    "sfiles = sorted(glob(data_path + 'psy4v3r1-daily_S_2019-12*.nc'))"
   ]
  },
  {
   "cell_type": "code",
   "execution_count": 4,
   "id": "2d2c1e78-1e69-46c5-8475-ed3913e45c47",
   "metadata": {},
   "outputs": [],
   "source": [
    "pot_temp = xr.load_dataset(tfiles[0])\n",
    "PS = xr.load_dataset(sfiles[0])"
   ]
  },
  {
   "cell_type": "code",
   "execution_count": 5,
   "id": "5cf4736b-7997-4211-8dd1-9f0bbe664f34",
   "metadata": {},
   "outputs": [],
   "source": [
    "depth = PS['deptht']"
   ]
  },
  {
   "cell_type": "markdown",
   "id": "ded65345-81cc-4266-8ceb-a1162700cd60",
   "metadata": {},
   "source": [
    "Pick the sampling position for this comparison"
   ]
  },
  {
   "cell_type": "code",
   "execution_count": 6,
   "id": "f284f5a5-d9df-4463-a5f5-42c27f666cfd",
   "metadata": {},
   "outputs": [],
   "source": [
    "lon_sample = 6.287\n",
    "lon_idx = 3520\n",
    "lat_sample = -32.171\n",
    "lat_idx = 1086"
   ]
  },
  {
   "cell_type": "code",
   "execution_count": 7,
   "id": "b25c142c-1238-4567-b511-bdeaf5aa87c6",
   "metadata": {},
   "outputs": [
    {
     "data": {
      "text/plain": [
       "(array([1086]),)"
      ]
     },
     "execution_count": 7,
     "metadata": {},
     "output_type": "execute_result"
    }
   ],
   "source": [
    "lat_min = np.abs(PS['nav_lat'][:,0] - lat_sample)\n",
    "np.where(lat_min == np.min(lat_min))"
   ]
  },
  {
   "cell_type": "code",
   "execution_count": 8,
   "id": "7ad340d1-db95-4daa-b3bc-67a6b4838817",
   "metadata": {},
   "outputs": [
    {
     "data": {
      "text/plain": [
       "(array([3520]),)"
      ]
     },
     "execution_count": 8,
     "metadata": {},
     "output_type": "execute_result"
    }
   ],
   "source": [
    "lon_min = np.abs(PS['nav_lon'][0,:] - lon_sample)\n",
    "np.where(lon_min == np.min(lon_min))"
   ]
  },
  {
   "cell_type": "code",
   "execution_count": 9,
   "id": "e3dc3560-edcd-42f2-b616-a96fac9d166d",
   "metadata": {},
   "outputs": [],
   "source": [
    "PS_sampling = PS['vosaline'][:, lat_idx, lon_idx]"
   ]
  },
  {
   "cell_type": "code",
   "execution_count": 10,
   "id": "8772412d-7dc5-47b1-8564-88d320afe21c",
   "metadata": {},
   "outputs": [],
   "source": [
    "pt_sampling = pot_temp['votemper'][:, lat_idx, lon_idx]"
   ]
  },
  {
   "cell_type": "code",
   "execution_count": 11,
   "id": "41253e47-f104-44a6-af1a-4058e225c0d2",
   "metadata": {},
   "outputs": [
    {
     "data": {
      "text/plain": [
       "(array([1086]),)"
      ]
     },
     "execution_count": 11,
     "metadata": {},
     "output_type": "execute_result"
    }
   ],
   "source": [
    "np.where(lat_min == np.min(lat_min))"
   ]
  },
  {
   "cell_type": "markdown",
   "id": "65054a60-7941-4fc1-a96f-d94fb112e080",
   "metadata": {},
   "source": [
    "### TEOS10 correct procedure"
   ]
  },
  {
   "cell_type": "code",
   "execution_count": 12,
   "id": "e31f83ed-e0f1-4e62-a4d8-c2b5876d7bed",
   "metadata": {},
   "outputs": [],
   "source": [
    "pressure = gsw.p_from_z(-depth, lat_sample)"
   ]
  },
  {
   "cell_type": "code",
   "execution_count": 13,
   "id": "406f1cd8-9362-44d9-9794-9ee06117af9b",
   "metadata": {},
   "outputs": [],
   "source": [
    "SA_sampling = gsw.SA_from_SP(PS_sampling, pressure, lon_sample, lat_sample)"
   ]
  },
  {
   "cell_type": "code",
   "execution_count": 14,
   "id": "8ca4b92e-e685-4d33-a3ba-2240f6461712",
   "metadata": {},
   "outputs": [],
   "source": [
    "CT_sampling = gsw.CT_from_pt(SA_sampling, pt_sampling)"
   ]
  },
  {
   "cell_type": "code",
   "execution_count": 15,
   "id": "598c6d5a-e286-4fa2-92c7-177dd162b311",
   "metadata": {},
   "outputs": [
    {
     "data": {
      "text/plain": [
       "Text(0, 0.5, 'Depth (m)')"
      ]
     },
     "execution_count": 15,
     "metadata": {},
     "output_type": "execute_result"
    },
    {
     "data": {
      "image/png": "[encoded data removed]",
      "text/plain": [
       "<Figure size 432x288 with 1 Axes>"
      ]
     },
     "metadata": {
      "needs_background": "light"
     },
     "output_type": "display_data"
    }
   ],
   "source": [
    "plt.plot(pt_sampling, -depth, '*-k', label='Potential Temperature')\n",
    "plt.plot(CT_sampling, -depth, '--r', label='Conservative Temperature')\n",
    "plt.legend()\n",
    "plt.xlabel('Temperature (deg C)')\n",
    "plt.ylabel('Depth (m)')"
   ]
  },
  {
   "cell_type": "code",
   "execution_count": 16,
   "id": "bd630f03-1a54-4c66-9fa2-d918d36e98c6",
   "metadata": {},
   "outputs": [
    {
     "data": {
      "text/plain": [
       "Text(0, 0.5, 'Depth (m)')"
      ]
     },
     "execution_count": 16,
     "metadata": {},
     "output_type": "execute_result"
    },
    {
     "data": {
      "image/png": "[encoded data removed]",
      "text/plain": [
       "<Figure size 432x288 with 1 Axes>"
      ]
     },
     "metadata": {
      "needs_background": "light"
     },
     "output_type": "display_data"
    }
   ],
   "source": [
    "plt.plot(SA_sampling, -depth, '--r', label='Absolute Salinity (g/kg)')\n",
    "plt.plot(PS_sampling, -depth, 's-k', label='Partial Salinity (psu)')\n",
    "plt.legend()\n",
    "plt.xlabel('Salinity')\n",
    "plt.ylabel('Depth (m)')"
   ]
  },
  {
   "cell_type": "code",
   "execution_count": 17,
   "id": "3265344e-89f8-4732-9249-29e40b09dc72",
   "metadata": {},
   "outputs": [],
   "source": [
    "rho_SACT = gsw.density.rho(SA_sampling, CT_sampling, pressure)"
   ]
  },
  {
   "cell_type": "code",
   "execution_count": 18,
   "id": "f21d2471-358a-4200-9624-06205d78cee0",
   "metadata": {},
   "outputs": [],
   "source": [
    "rho_SPPT = gsw.density.rho(PS_sampling, pt_sampling, pressure)"
   ]
  },
  {
   "cell_type": "code",
   "execution_count": 19,
   "id": "4190e4f3-d5f1-4335-9bb4-543a690c1003",
   "metadata": {},
   "outputs": [
    {
     "data": {
      "text/plain": [
       "Text(0, 0.5, 'Depth (m)')"
      ]
     },
     "execution_count": 19,
     "metadata": {},
     "output_type": "execute_result"
    },
    {
     "data": {
      "image/png": "[encoded data removed]",
      "text/plain": [
       "<Figure size 432x288 with 1 Axes>"
      ]
     },
     "metadata": {
      "needs_background": "light"
     },
     "output_type": "display_data"
    }
   ],
   "source": [
    "plt.plot(rho_SPPT, -depth, '^-k', label='SP-PT')\n",
    "plt.plot(rho_SACT, -depth, '--r', label='SA-CT (TEOS10)')\n",
    "plt.legend()\n",
    "plt.xlabel(r'Density (kg/$m^3$)')\n",
    "plt.ylabel('Depth (m)')"
   ]
  },
  {
   "cell_type": "code",
   "execution_count": 20,
   "id": "471c8f8f-7325-4097-975b-82351ed9d2b2",
   "metadata": {},
   "outputs": [
    {
     "data": {
      "text/plain": [
       "Text(0.5, 1.0, '$\\\\rho_{TEOS10} - \\\\rho_{SP-TP}$')"
      ]
     },
     "execution_count": 20,
     "metadata": {},
     "output_type": "execute_result"
    },
    {
     "data": {
      "image/png": "[encoded data removed]",
      "text/plain": [
       "<Figure size 432x288 with 1 Axes>"
      ]
     },
     "metadata": {
      "needs_background": "light"
     },
     "output_type": "display_data"
    }
   ],
   "source": [
    "plt.plot(rho_SACT - rho_SPPT, -depth)\n",
    "plt.xlabel(r'Density (kg/$m^3$)')\n",
    "plt.ylabel('Depth (m)')\n",
    "plt.title(r'$\\rho_{TEOS10} - \\rho_{SP-TP}$')\n",
    "# plt.plot(rho_SACT, -depth)"
   ]
  },
  {
   "cell_type": "markdown",
   "id": "3d97b0d6-7371-4947-8b04-eb64c6cd689d",
   "metadata": {},
   "source": [
    "## 1D-model for sinking particles"
   ]
  },
  {
   "cell_type": "code",
   "execution_count": 800,
   "id": "bd232cd7-1116-41b8-94a1-edb4f9eddeda",
   "metadata": {},
   "outputs": [],
   "source": [
    "def beta(ρ_f, ρ_p):\n",
    "    _β = 3*ρ_f/(2*ρ_p + ρ_f)\n",
    "    \n",
    "    return _β\n",
    "\n",
    "def tau_p(a, β):\n",
    "    ν = 1e-6\n",
    "    _τ = a**2/(3*β*ν)\n",
    "    \n",
    "    return _τ\n",
    "\n",
    "density_teos = interpolate.interp1d(depth, rho_SACT)\n",
    "\n",
    "def sinking_velocity(state):\n",
    "    a, ρ_p, depth = state\n",
    "    \n",
    "    # depth positive down\n",
    "    g = 9.81\n",
    "    seafloor = 5300\n",
    "    ρ_f = density_teos(depth)\n",
    "    β = beta(ρ_f, ρ_p)\n",
    "    τ = tau_p(a, β)\n",
    "    \n",
    "    if depth < seafloor and depth > 0:\n",
    "        v_s = (1 - β)*g*τ\n",
    "    else:\n",
    "        v_s = 0\n",
    "    \n",
    "    return np.array((0, 0, v_s))\n"
   ]
  },
  {
   "cell_type": "code",
   "execution_count": 805,
   "id": "e50feaa9-2f00-4bed-8d2e-a23561914e05",
   "metadata": {},
   "outputs": [
    {
     "data": {
      "text/plain": [
       "<scipy.interpolate.interpolate.interp1d at 0x7ff2fe963590>"
      ]
     },
     "execution_count": 805,
     "metadata": {},
     "output_type": "execute_result"
    }
   ],
   "source": [
    "density_teos"
   ]
  },
  {
   "cell_type": "code",
   "execution_count": 801,
   "id": "37071481-3394-4ad2-af7a-ede395d567e0",
   "metadata": {},
   "outputs": [],
   "source": [
    "density_teosutta(state, dt, derivatives):\n",
    "    \"\"\"\n",
    "        state: numpy array giving the state of the pendulum at time t\n",
    "        t: starting time\n",
    "        dt: integration step\n",
    "        derivatives: function that calculate the derivatives of the coordinates\n",
    "        \n",
    "        Function that performs an integration step using to runge-kutta algorithm\n",
    "        \n",
    "        Returns an np.array containing the new state (theta, omega)\n",
    "    \"\"\"\n",
    "    \n",
    "    #Calculate the ks\n",
    "    k1 = dt * derivatives(state)\n",
    "    k2 = dt * derivatives(state + (0.5 * k1))\n",
    "    k3 = dt * derivatives(state + (0.5 * k2))\n",
    "    k4 = dt * derivatives(state + k3)\n",
    "    \n",
    "    #And consequently the new state of the system\n",
    "    new_state = state + (k1 + 2*k2 + 2*k3 + k4) / 6.\n",
    "    \n",
    "    return new_state"
   ]
  },
  {
   "cell_type": "code",
   "execution_count": 802,
   "id": "3d76e66f-1c61-4b23-970f-630329ebd94f",
   "metadata": {},
   "outputs": [],
   "source": [
    "def solver(f, sizes, densities, depths, dt, N_t, N):\n",
    "    \"\"\"\n",
    "        solver(f, x0, y0, v0, u0, dt, N_t, N, b = 0.5)\n",
    "\n",
    "    Function iterate the solution using runge_kutta_step and a RHS function f, for several points or initial \n",
    "    conditions given by N.\n",
    "\n",
    "    f is a RHS function\n",
    "    x0, y0, v0, u0 are arrays containig the initial condition x,y,v,u; with N dimensions.\n",
    "    dt is the timestep, \n",
    "    N_t number of time steps.\n",
    "    N number of initial conditions to iterate.\n",
    "\n",
    "    \"\"\"\n",
    "    \n",
    "    solution = np.zeros((3, N_t+1, N))\n",
    "    solution[0,0, :] = sizes\n",
    "    solution[1,0, :] = densities\n",
    "    solution[2,0,: ] = depths\n",
    "    \n",
    "    for i in range(1, N_t + 1):\n",
    "        for k in range(N):\n",
    "            \n",
    "            x_0_step = solution[:, i-1, k]\n",
    "            solution[:, i, k] = runge_kutta(x_0_step, dt, f)\n",
    "         \n",
    "    return solution"
   ]
  },
  {
   "cell_type": "code",
   "execution_count": 796,
   "id": "16f69d31-b415-45c2-a9b7-b4aeabdd5d3e",
   "metadata": {},
   "outputs": [],
   "source": [
    "n_particles = 11\n",
    "particles_sizes = np.ones(n_particles)*0.01 #np.linspace(1e-5, 0.01, n_particles)\n",
    "particles_densities = np.linspace(900, 1100, n_particles)\n",
    "initial_depths = np.ones(n_particles)*15"
   ]
  },
  {
   "cell_type": "code",
   "execution_count": 797,
   "id": "5d2ac83a-88aa-4a8d-b398-6480fd067463",
   "metadata": {},
   "outputs": [
    {
     "ename": "ValueError",
     "evalue": "A value in x_new is below the interpolation range.",
     "output_type": "error",
     "traceback": [
      "\u001b[0;31m---------------------------------------------------------------------------\u001b[0m",
      "\u001b[0;31mValueError\u001b[0m                                Traceback (most recent call last)",
      "\u001b[0;32m/tmp/ipykernel_309203/2785301823.py\u001b[0m in \u001b[0;36m<module>\u001b[0;34m\u001b[0m\n\u001b[0;32m----> 1\u001b[0;31m \u001b[0msolutions_100m\u001b[0m \u001b[0;34m=\u001b[0m \u001b[0msolver\u001b[0m\u001b[0;34m(\u001b[0m\u001b[0msinking_velocity\u001b[0m\u001b[0;34m,\u001b[0m \u001b[0mparticles_sizes\u001b[0m\u001b[0;34m,\u001b[0m \u001b[0mparticles_densities\u001b[0m\u001b[0;34m,\u001b[0m \u001b[0minitial_depths\u001b[0m\u001b[0;34m,\u001b[0m \u001b[0;36m1\u001b[0m\u001b[0;34m,\u001b[0m \u001b[0;36m10000\u001b[0m\u001b[0;34m,\u001b[0m \u001b[0mn_particles\u001b[0m\u001b[0;34m)\u001b[0m\u001b[0;34m\u001b[0m\u001b[0;34m\u001b[0m\u001b[0m\n\u001b[0m",
      "\u001b[0;32m/tmp/ipykernel_309203/2236464342.py\u001b[0m in \u001b[0;36msolver\u001b[0;34m(f, sizes, densities, depths, dt, N_t, N)\u001b[0m\n\u001b[1;32m     23\u001b[0m \u001b[0;34m\u001b[0m\u001b[0m\n\u001b[1;32m     24\u001b[0m             \u001b[0mx_0_step\u001b[0m \u001b[0;34m=\u001b[0m \u001b[0msolution\u001b[0m\u001b[0;34m[\u001b[0m\u001b[0;34m:\u001b[0m\u001b[0;34m,\u001b[0m \u001b[0mi\u001b[0m\u001b[0;34m-\u001b[0m\u001b[0;36m1\u001b[0m\u001b[0;34m,\u001b[0m \u001b[0mk\u001b[0m\u001b[0;34m]\u001b[0m\u001b[0;34m\u001b[0m\u001b[0;34m\u001b[0m\u001b[0m\n\u001b[0;32m---> 25\u001b[0;31m             \u001b[0msolution\u001b[0m\u001b[0;34m[\u001b[0m\u001b[0;34m:\u001b[0m\u001b[0;34m,\u001b[0m \u001b[0mi\u001b[0m\u001b[0;34m,\u001b[0m \u001b[0mk\u001b[0m\u001b[0;34m]\u001b[0m \u001b[0;34m=\u001b[0m \u001b[0mrunge_kutta\u001b[0m\u001b[0;34m(\u001b[0m\u001b[0mx_0_step\u001b[0m\u001b[0;34m,\u001b[0m \u001b[0mdt\u001b[0m\u001b[0;34m,\u001b[0m \u001b[0mf\u001b[0m\u001b[0;34m)\u001b[0m\u001b[0;34m\u001b[0m\u001b[0;34m\u001b[0m\u001b[0m\n\u001b[0m\u001b[1;32m     26\u001b[0m \u001b[0;34m\u001b[0m\u001b[0m\n\u001b[1;32m     27\u001b[0m     \u001b[0;32mreturn\u001b[0m \u001b[0msolution\u001b[0m\u001b[0;34m\u001b[0m\u001b[0;34m\u001b[0m\u001b[0m\n",
      "\u001b[0;32m/tmp/ipykernel_309203/1422726566.py\u001b[0m in \u001b[0;36mrunge_kutta\u001b[0;34m(state, dt, derivatives)\u001b[0m\n\u001b[1;32m     15\u001b[0m     \u001b[0mk2\u001b[0m \u001b[0;34m=\u001b[0m \u001b[0mdt\u001b[0m \u001b[0;34m*\u001b[0m \u001b[0mderivatives\u001b[0m\u001b[0;34m(\u001b[0m\u001b[0mstate\u001b[0m \u001b[0;34m+\u001b[0m \u001b[0;34m(\u001b[0m\u001b[0;36m0.5\u001b[0m \u001b[0;34m*\u001b[0m \u001b[0mk1\u001b[0m\u001b[0;34m)\u001b[0m\u001b[0;34m)\u001b[0m\u001b[0;34m\u001b[0m\u001b[0;34m\u001b[0m\u001b[0m\n\u001b[1;32m     16\u001b[0m     \u001b[0mk3\u001b[0m \u001b[0;34m=\u001b[0m \u001b[0mdt\u001b[0m \u001b[0;34m*\u001b[0m \u001b[0mderivatives\u001b[0m\u001b[0;34m(\u001b[0m\u001b[0mstate\u001b[0m \u001b[0;34m+\u001b[0m \u001b[0;34m(\u001b[0m\u001b[0;36m0.5\u001b[0m \u001b[0;34m*\u001b[0m \u001b[0mk2\u001b[0m\u001b[0;34m)\u001b[0m\u001b[0;34m)\u001b[0m\u001b[0;34m\u001b[0m\u001b[0;34m\u001b[0m\u001b[0m\n\u001b[0;32m---> 17\u001b[0;31m     \u001b[0mk4\u001b[0m \u001b[0;34m=\u001b[0m \u001b[0mdt\u001b[0m \u001b[0;34m*\u001b[0m \u001b[0mderivatives\u001b[0m\u001b[0;34m(\u001b[0m\u001b[0mstate\u001b[0m \u001b[0;34m+\u001b[0m \u001b[0mk3\u001b[0m\u001b[0;34m)\u001b[0m\u001b[0;34m\u001b[0m\u001b[0;34m\u001b[0m\u001b[0m\n\u001b[0m\u001b[1;32m     18\u001b[0m \u001b[0;34m\u001b[0m\u001b[0m\n\u001b[1;32m     19\u001b[0m     \u001b[0;31m#And consequently the new state of the system\u001b[0m\u001b[0;34m\u001b[0m\u001b[0;34m\u001b[0m\u001b[0;34m\u001b[0m\u001b[0m\n",
      "\u001b[0;32m/tmp/ipykernel_309203/2563434032.py\u001b[0m in \u001b[0;36msinking_velocity\u001b[0;34m(state)\u001b[0m\n\u001b[1;32m     18\u001b[0m     \u001b[0mg\u001b[0m \u001b[0;34m=\u001b[0m \u001b[0;36m9.81\u001b[0m\u001b[0;34m\u001b[0m\u001b[0;34m\u001b[0m\u001b[0m\n\u001b[1;32m     19\u001b[0m     \u001b[0mseafloor\u001b[0m \u001b[0;34m=\u001b[0m \u001b[0;36m5300\u001b[0m\u001b[0;34m\u001b[0m\u001b[0;34m\u001b[0m\u001b[0m\n\u001b[0;32m---> 20\u001b[0;31m     \u001b[0mρ_f\u001b[0m \u001b[0;34m=\u001b[0m \u001b[0mdensity_teos\u001b[0m\u001b[0;34m(\u001b[0m\u001b[0mdepth\u001b[0m\u001b[0;34m)\u001b[0m\u001b[0;34m\u001b[0m\u001b[0;34m\u001b[0m\u001b[0m\n\u001b[0m\u001b[1;32m     21\u001b[0m     \u001b[0mβ\u001b[0m \u001b[0;34m=\u001b[0m \u001b[0mbeta\u001b[0m\u001b[0;34m(\u001b[0m\u001b[0mρ_f\u001b[0m\u001b[0;34m,\u001b[0m \u001b[0mρ_p\u001b[0m\u001b[0;34m)\u001b[0m\u001b[0;34m\u001b[0m\u001b[0;34m\u001b[0m\u001b[0m\n\u001b[1;32m     22\u001b[0m     \u001b[0mτ\u001b[0m \u001b[0;34m=\u001b[0m \u001b[0mtau_p\u001b[0m\u001b[0;34m(\u001b[0m\u001b[0ma\u001b[0m\u001b[0;34m,\u001b[0m \u001b[0mβ\u001b[0m\u001b[0;34m)\u001b[0m\u001b[0;34m\u001b[0m\u001b[0;34m\u001b[0m\u001b[0m\n",
      "\u001b[0;32m/opt/apps/miniconda3/envs/parcels-dev/lib/python3.8/site-packages/scipy/interpolate/polyint.py\u001b[0m in \u001b[0;36m__call__\u001b[0;34m(self, x)\u001b[0m\n\u001b[1;32m     76\u001b[0m         \"\"\"\n\u001b[1;32m     77\u001b[0m         \u001b[0mx\u001b[0m\u001b[0;34m,\u001b[0m \u001b[0mx_shape\u001b[0m \u001b[0;34m=\u001b[0m \u001b[0mself\u001b[0m\u001b[0;34m.\u001b[0m\u001b[0m_prepare_x\u001b[0m\u001b[0;34m(\u001b[0m\u001b[0mx\u001b[0m\u001b[0;34m)\u001b[0m\u001b[0;34m\u001b[0m\u001b[0;34m\u001b[0m\u001b[0m\n\u001b[0;32m---> 78\u001b[0;31m         \u001b[0my\u001b[0m \u001b[0;34m=\u001b[0m \u001b[0mself\u001b[0m\u001b[0;34m.\u001b[0m\u001b[0m_evaluate\u001b[0m\u001b[0;34m(\u001b[0m\u001b[0mx\u001b[0m\u001b[0;34m)\u001b[0m\u001b[0;34m\u001b[0m\u001b[0;34m\u001b[0m\u001b[0m\n\u001b[0m\u001b[1;32m     79\u001b[0m         \u001b[0;32mreturn\u001b[0m \u001b[0mself\u001b[0m\u001b[0;34m.\u001b[0m\u001b[0m_finish_y\u001b[0m\u001b[0;34m(\u001b[0m\u001b[0my\u001b[0m\u001b[0;34m,\u001b[0m \u001b[0mx_shape\u001b[0m\u001b[0;34m)\u001b[0m\u001b[0;34m\u001b[0m\u001b[0;34m\u001b[0m\u001b[0m\n\u001b[1;32m     80\u001b[0m \u001b[0;34m\u001b[0m\u001b[0m\n",
      "\u001b[0;32m/opt/apps/miniconda3/envs/parcels-dev/lib/python3.8/site-packages/scipy/interpolate/interpolate.py\u001b[0m in \u001b[0;36m_evaluate\u001b[0;34m(self, x_new)\u001b[0m\n\u001b[1;32m    682\u001b[0m         \u001b[0my_new\u001b[0m \u001b[0;34m=\u001b[0m \u001b[0mself\u001b[0m\u001b[0;34m.\u001b[0m\u001b[0m_call\u001b[0m\u001b[0;34m(\u001b[0m\u001b[0mself\u001b[0m\u001b[0;34m,\u001b[0m \u001b[0mx_new\u001b[0m\u001b[0;34m)\u001b[0m\u001b[0;34m\u001b[0m\u001b[0;34m\u001b[0m\u001b[0m\n\u001b[1;32m    683\u001b[0m         \u001b[0;32mif\u001b[0m \u001b[0;32mnot\u001b[0m \u001b[0mself\u001b[0m\u001b[0;34m.\u001b[0m\u001b[0m_extrapolate\u001b[0m\u001b[0;34m:\u001b[0m\u001b[0;34m\u001b[0m\u001b[0;34m\u001b[0m\u001b[0m\n\u001b[0;32m--> 684\u001b[0;31m             \u001b[0mbelow_bounds\u001b[0m\u001b[0;34m,\u001b[0m \u001b[0mabove_bounds\u001b[0m \u001b[0;34m=\u001b[0m \u001b[0mself\u001b[0m\u001b[0;34m.\u001b[0m\u001b[0m_check_bounds\u001b[0m\u001b[0;34m(\u001b[0m\u001b[0mx_new\u001b[0m\u001b[0;34m)\u001b[0m\u001b[0;34m\u001b[0m\u001b[0;34m\u001b[0m\u001b[0m\n\u001b[0m\u001b[1;32m    685\u001b[0m             \u001b[0;32mif\u001b[0m \u001b[0mlen\u001b[0m\u001b[0;34m(\u001b[0m\u001b[0my_new\u001b[0m\u001b[0;34m)\u001b[0m \u001b[0;34m>\u001b[0m \u001b[0;36m0\u001b[0m\u001b[0;34m:\u001b[0m\u001b[0;34m\u001b[0m\u001b[0;34m\u001b[0m\u001b[0m\n\u001b[1;32m    686\u001b[0m                 \u001b[0;31m# Note fill_value must be broadcast up to the proper size\u001b[0m\u001b[0;34m\u001b[0m\u001b[0;34m\u001b[0m\u001b[0;34m\u001b[0m\u001b[0m\n",
      "\u001b[0;32m/opt/apps/miniconda3/envs/parcels-dev/lib/python3.8/site-packages/scipy/interpolate/interpolate.py\u001b[0m in \u001b[0;36m_check_bounds\u001b[0;34m(self, x_new)\u001b[0m\n\u001b[1;32m    711\u001b[0m         \u001b[0;31m# !! Could provide more information about which values are out of bounds\u001b[0m\u001b[0;34m\u001b[0m\u001b[0;34m\u001b[0m\u001b[0;34m\u001b[0m\u001b[0m\n\u001b[1;32m    712\u001b[0m         \u001b[0;32mif\u001b[0m \u001b[0mself\u001b[0m\u001b[0;34m.\u001b[0m\u001b[0mbounds_error\u001b[0m \u001b[0;32mand\u001b[0m \u001b[0mbelow_bounds\u001b[0m\u001b[0;34m.\u001b[0m\u001b[0many\u001b[0m\u001b[0;34m(\u001b[0m\u001b[0;34m)\u001b[0m\u001b[0;34m:\u001b[0m\u001b[0;34m\u001b[0m\u001b[0;34m\u001b[0m\u001b[0m\n\u001b[0;32m--> 713\u001b[0;31m             raise ValueError(\"A value in x_new is below the interpolation \"\n\u001b[0m\u001b[1;32m    714\u001b[0m                              \"range.\")\n\u001b[1;32m    715\u001b[0m         \u001b[0;32mif\u001b[0m \u001b[0mself\u001b[0m\u001b[0;34m.\u001b[0m\u001b[0mbounds_error\u001b[0m \u001b[0;32mand\u001b[0m \u001b[0mabove_bounds\u001b[0m\u001b[0;34m.\u001b[0m\u001b[0many\u001b[0m\u001b[0;34m(\u001b[0m\u001b[0;34m)\u001b[0m\u001b[0;34m:\u001b[0m\u001b[0;34m\u001b[0m\u001b[0;34m\u001b[0m\u001b[0m\n",
      "\u001b[0;31mValueError\u001b[0m: A value in x_new is below the interpolation range."
     ]
    }
   ],
   "source": [
    "solutions_100m = solver(sinking_velocity, particles_sizes, particles_densities, initial_depths, 1, 10000, n_particles)"
   ]
  },
  {
   "cell_type": "code",
   "execution_count": 798,
   "id": "078da4a8-58e3-466b-b91e-cfe8f546e3a5",
   "metadata": {},
   "outputs": [
    {
     "data": {
      "image/png": "[encoded data removed]",
      "text/plain": [
       "<Figure size 432x288 with 1 Axes>"
      ]
     },
     "metadata": {
      "needs_background": "light"
     },
     "output_type": "display_data"
    }
   ],
   "source": [
    "plt.plot(solutions_100m[2]);"
   ]
  },
  {
   "cell_type": "code",
   "execution_count": 661,
   "id": "f070b88d-6846-45f7-9823-6047fa6c7e9b",
   "metadata": {},
   "outputs": [],
   "source": [
    "d0 = (0.001, 900, 10)"
   ]
  },
  {
   "cell_type": "code",
   "execution_count": 706,
   "id": "bb2164b7-e3e4-47fd-82c6-1937b086ea79",
   "metadata": {},
   "outputs": [
    {
     "data": {
      "text/plain": [
       "array([1.00000000e-03, 9.00000000e+02, 9.66309767e-01])"
      ]
     },
     "execution_count": 706,
     "metadata": {},
     "output_type": "execute_result"
    }
   ],
   "source": [
    "d0 = runge_kutta(d0, 1, sinking_velocity)\n",
    "d0"
   ]
  },
  {
   "cell_type": "code",
   "execution_count": 754,
   "id": "221a775b-40a5-4bd6-9e3c-6f5831520ff9",
   "metadata": {},
   "outputs": [],
   "source": [
    "state_0 = [0.001, 1030, 10]\n",
    "\n",
    "time_range = np.linspace(0, 100000, 10001)\n",
    "dt = time_range[1] - time_range[0]\n",
    "sol = np.array([state_0])\n",
    "\n",
    "for i, t in enumerate(time_range):\n",
    "\n",
    "    _state = runge_kutta(sol[i], dt, sinking_velocity)\n",
    "    sol = np.vstack((sol, _state))\n",
    "    "
   ]
  },
  {
   "cell_type": "code",
   "execution_count": 755,
   "id": "5c672c56-6fa9-4d90-a498-68c7fee8d214",
   "metadata": {},
   "outputs": [
    {
     "data": {
      "text/plain": [
       "(10002, 3)"
      ]
     },
     "execution_count": 755,
     "metadata": {},
     "output_type": "execute_result"
    }
   ],
   "source": [
    "sol.shape"
   ]
  },
  {
   "cell_type": "code",
   "execution_count": 756,
   "id": "dffac333-a25b-4806-83e7-ac6fdb14ef19",
   "metadata": {},
   "outputs": [
    {
     "data": {
      "text/plain": [
       "(10002,)"
      ]
     },
     "execution_count": 756,
     "metadata": {},
     "output_type": "execute_result"
    }
   ],
   "source": [
    "sol[:, 2].shape"
   ]
  },
  {
   "cell_type": "code",
   "execution_count": 757,
   "id": "837338bc-f84f-4c15-8985-ac153dac14dd",
   "metadata": {},
   "outputs": [
    {
     "data": {
      "text/plain": [
       "[<matplotlib.lines.Line2D at 0x7ff44a2c7dc0>]"
      ]
     },
     "execution_count": 757,
     "metadata": {},
     "output_type": "execute_result"
    },
    {
     "data": {
      "image/png": "[encoded data removed]",
      "text/plain": [
       "<Figure size 432x288 with 1 Axes>"
      ]
     },
     "metadata": {
      "needs_background": "light"
     },
     "output_type": "display_data"
    }
   ],
   "source": [
    "plt.plot(time_range, sol[1:, 2])"
   ]
  },
  {
   "cell_type": "code",
   "execution_count": null,
   "id": "a85d04af-b941-4c18-9421-63817fde96ee",
   "metadata": {},
   "outputs": [],
   "source": []
  }
 ],
 "metadata": {
  "kernelspec": {
   "display_name": "Python 3 (ipykernel)",
   "language": "python",
   "name": "python3"
  },
  "language_info": {
   "codemirror_mode": {
    "name": "ipython",
    "version": 3
   },
   "file_extension": ".py",
   "mimetype": "text/x-python",
   "name": "python",
   "nbconvert_exporter": "python",
   "pygments_lexer": "ipython3",
   "version": "3.8.11"
  }
 },
 "nbformat": 4,
 "nbformat_minor": 5
}
