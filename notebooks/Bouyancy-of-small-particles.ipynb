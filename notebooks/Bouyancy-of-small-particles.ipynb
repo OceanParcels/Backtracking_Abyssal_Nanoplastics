{
 "cells": [
  {
   "cell_type": "code",
   "execution_count": 1,
   "id": "825a0411",
   "metadata": {},
   "outputs": [],
   "source": [
    "import numpy as np\n",
    "import matplotlib.pyplot as plt"
   ]
  },
  {
   "cell_type": "markdown",
   "id": "2bcc57e9",
   "metadata": {},
   "source": [
    "Dynamics\n",
    "\n",
    "$$ \\vec{v} = \\vec{u} + \\vec{v}_s$$\n",
    "\n",
    "with\n",
    "\n",
    "$\\vec{v_s} = (1 - \\beta) \\vec{g} \\tau_p$\n",
    "\n",
    "$\\beta = \\frac{3 \\rho_f}{2 \\rho_p + \\rho_f}$\n",
    "\n",
    "$\\tau_p = \\frac{a^2}{3 \\beta \\nu}$"
   ]
  },
  {
   "cell_type": "code",
   "execution_count": 29,
   "id": "6e69dd00",
   "metadata": {},
   "outputs": [],
   "source": [
    "def sinking_velocity(β, τ):\n",
    "    g=9.81\n",
    "    v_s = (1 - β)*g*τ\n",
    "    \n",
    "    return v_s\n",
    "\n",
    "def beta(ρ_f, ρ_p):\n",
    "    _β = 3*ρ_f/(2*ρ_p + ρ_f)\n",
    "    \n",
    "    return _β\n",
    "\n",
    "def tau_p(a, β, ν):\n",
    "    _τ = a**2/(3*β*ν)\n",
    "    \n",
    "    return _τ\n",
    "    "
   ]
  },
  {
   "cell_type": "markdown",
   "id": "6477bf2d",
   "metadata": {},
   "source": [
    " - Polypropylene(PP): 850–920 kg/m3\n",
    " - Polyethylene (PE): 890–980 kg/m3\n",
    " - Polystyrene (PS): 1040 kg/m3 (excluding its foamed version)\n",
    " - Polyesters (PEST): 1100– 1400 kg/m3\n",
    " - Polyamide (PA): 1120–1150 kg/m3\n",
    " - Acrylic: of 1180 kg/m3 "
   ]
  },
  {
   "cell_type": "markdown",
   "id": "25d86ae2",
   "metadata": {},
   "source": [
    "### PP"
   ]
  },
  {
   "cell_type": "code",
   "execution_count": 30,
   "id": "93ba8a49",
   "metadata": {},
   "outputs": [
    {
     "data": {
      "text/plain": [
       "1380.0"
      ]
     },
     "execution_count": 30,
     "metadata": {},
     "output_type": "execute_result"
    }
   ],
   "source": [
    "100**3*1.38/1000"
   ]
  },
  {
   "cell_type": "code",
   "execution_count": 37,
   "id": "fb9c0e8e",
   "metadata": {},
   "outputs": [],
   "source": [
    "ρ_sea = 1035\n",
    "ρ_PE = 1380\n",
    "ν = 1e-6\n",
    "\n",
    "diametres = np.linspace(1, 100000, 1000)*1e-9"
   ]
  },
  {
   "cell_type": "code",
   "execution_count": 38,
   "id": "50ecaeeb",
   "metadata": {},
   "outputs": [],
   "source": [
    "beta_PE = beta(ρ_sea, ρ_PE)"
   ]
  },
  {
   "cell_type": "code",
   "execution_count": 39,
   "id": "8a3a6736",
   "metadata": {},
   "outputs": [],
   "source": [
    "tau_PE = tau_p(diametres, beta_PE, ν)"
   ]
  },
  {
   "cell_type": "code",
   "execution_count": 40,
   "id": "83c50ca3",
   "metadata": {},
   "outputs": [],
   "source": [
    "vs_PE = sinking_velocity(beta_PE, tau_PE)"
   ]
  },
  {
   "cell_type": "code",
   "execution_count": 41,
   "id": "f96e4971",
   "metadata": {},
   "outputs": [
    {
     "data": {
      "text/plain": [
       "[<matplotlib.lines.Line2D at 0x7ff047d912e8>]"
      ]
     },
     "execution_count": 41,
     "metadata": {},
     "output_type": "execute_result"
    },
    {
     "data": {
      "image/png": "[encoded data removed]",
      "text/plain": [
       "<Figure size 432x288 with 1 Axes>"
      ]
     },
     "metadata": {
      "needs_background": "light"
     },
     "output_type": "display_data"
    }
   ],
   "source": [
    "plt.plot(diametres, tau_PE)"
   ]
  },
  {
   "cell_type": "code",
   "execution_count": 42,
   "id": "46038b27",
   "metadata": {},
   "outputs": [
    {
     "data": {
      "text/plain": [
       "[<matplotlib.lines.Line2D at 0x7ff0480d5f28>]"
      ]
     },
     "execution_count": 42,
     "metadata": {},
     "output_type": "execute_result"
    },
    {
     "data": {
      "image/png": "[encoded data removed]",
      "text/plain": [
       "<Figure size 432x288 with 1 Axes>"
      ]
     },
     "metadata": {
      "needs_background": "light"
     },
     "output_type": "display_data"
    }
   ],
   "source": [
    "plt.plot(diametres, vs_PE)"
   ]
  },
  {
   "cell_type": "code",
   "execution_count": null,
   "id": "71b67546",
   "metadata": {},
   "outputs": [],
   "source": []
  }
 ],
 "metadata": {
  "kernelspec": {
   "display_name": "Python 3",
   "language": "python",
   "name": "python3"
  },
  "language_info": {
   "codemirror_mode": {
    "name": "ipython",
    "version": 3
   },
   "file_extension": ".py",
   "mimetype": "text/x-python",
   "name": "python",
   "nbconvert_exporter": "python",
   "pygments_lexer": "ipython3",
   "version": "3.6.13"
  }
 },
 "nbformat": 4,
 "nbformat_minor": 5
}
