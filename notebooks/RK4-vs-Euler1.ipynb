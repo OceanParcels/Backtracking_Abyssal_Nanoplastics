{
 "cells": [
  {
   "cell_type": "code",
   "execution_count": 1,
   "id": "fa1741b9-5249-4f63-8e92-5c5beca8b6f3",
   "metadata": {},
   "outputs": [],
   "source": [
    "from glob import glob\n",
    "import numpy as np\n",
    "from parcels import FieldSet, ParticleSet, JITParticle, ScipyParticle\n",
    "from parcels import ErrorCode, AdvectionRK4_3D, Variable, Field\n",
    "from parcels.application_kernels.TEOSseawaterdensity import PolyTEOS10_bsq\n",
    "\n",
    "from datetime import timedelta\n",
    "from datetime import datetime\n",
    "import xarray as xr\n",
    "import matplotlib.pyplot as plt"
   ]
  },
  {
   "cell_type": "code",
   "execution_count": 2,
   "id": "09828bbc-932d-46d3-9a1a-a7709f806e09",
   "metadata": {},
   "outputs": [],
   "source": [
    "# Lorenz - MOi fields\n",
    "data_path = '/storage/shared/oceanparcels/input_data/MOi/2019/'\n",
    "\n",
    "output_path = '/storage/shared/oceanparcels/output_data/' + \\\n",
    "    'data_Claudio/v_s_RK4.nc'\n",
    "\n",
    "ufiles = []\n",
    "vfiles = []\n",
    "wfiles = []\n",
    "tfiles = []\n",
    "sfiles = [] \n",
    "twoDfiles = []\n",
    "\n",
    "for i in range(8, 10):\n",
    "    ufiles = ufiles + sorted(glob(data_path + f'psy4v3r1-daily_U_201{i}*.nc'))\n",
    "    vfiles = vfiles + sorted(glob(data_path + f'psy4v3r1-daily_V_201{i}*.nc'))\n",
    "    wfiles = wfiles + sorted(glob(data_path + f'psy4v3r1-daily_W_201{i}*.nc'))\n",
    "    tfiles = tfiles + sorted(glob(data_path + f'psy4v3r1-daily_T_201{i}*.nc'))    \n",
    "    sfiles = sfiles + sorted(glob(data_path + f'psy4v3r1-daily_S_201{i}*.nc'))\n",
    "    twoDfiles = twoDfiles + sorted(glob(data_path + f'psy4v3r1-daily_2D_201{i}*.nc'))\n",
    "\n",
    "# phfiles = sorted(glob(bio_data_path + 'biomer4v2r1-weekly_ph_2019*.nc'))\n",
    "\n",
    "mesh_mask = '/storage/shared/oceanparcels/input_data/MOi/domain_ORCA0083-N006/coordinates.nc'\n",
    "bathy_file = '/storage/shared/oceanparcels/input_data/MOi/domain_ORCA0083-N006/bathymetry_ORCA12_V3.3.nc'\n",
    "# mesh_mask_bio = '/storage/shared/oceanparcels/input_data/MOi/domain_ORCA025-N006/coordinates.nc'\n"
   ]
  },
  {
   "cell_type": "code",
   "execution_count": 3,
   "id": "4efb2a01-0b5b-4a53-949d-baffd99c2280",
   "metadata": {},
   "outputs": [],
   "source": [
    "filenames = {'U': {'lon': mesh_mask,\n",
    "                   'lat': mesh_mask,\n",
    "                   'depth': wfiles[0],\n",
    "                   'data': ufiles},\n",
    "             'V': {'lon': mesh_mask,\n",
    "                   'lat': mesh_mask,\n",
    "                   'depth': wfiles[0],\n",
    "                   'data': vfiles},\n",
    "             'W': {'lon': mesh_mask,\n",
    "                   'lat': mesh_mask,\n",
    "                   'depth': wfiles[0],\n",
    "                   'data': wfiles}}\n",
    "\n",
    "filenames['cons_temperature'] = {'lon': mesh_mask, \n",
    "                                 'lat': mesh_mask, \n",
    "                                 'depth': wfiles[0], \n",
    "                                 'data': tfiles}\n",
    "filenames['abs_salinity'] = {'lon': mesh_mask, \n",
    "                             'lat': mesh_mask, \n",
    "                             'depth': wfiles[0], \n",
    "                             'data': sfiles}\n",
    "\n",
    "filenames['mld'] = {'lon': mesh_mask, \n",
    "                     'lat': mesh_mask,\n",
    "                     'depth': twoDfiles[0],\n",
    "                     'data': twoDfiles}\n"
   ]
  },
  {
   "cell_type": "code",
   "execution_count": 4,
   "id": "e3257584-5b9a-47b2-baef-648d91f8e34a",
   "metadata": {},
   "outputs": [],
   "source": [
    "n_points = 100\n",
    "particle_size = 0.0001 #\n",
    "initial_depth = 5\n",
    "\n",
    "start_time = datetime.strptime('2019-12-20 12:00:00', '%Y-%m-%d %H:%M:%S')\n",
    "# psy4v3r1-daily_2D_2019-01-01.nc\n",
    "\n",
    "variables = {'U': 'vozocrtx',\n",
    "             'V': 'vomecrty',\n",
    "             'W': 'vovecrtz'}\n",
    "\n",
    "variables['cons_temperature'] = 'votemper'\n",
    "variables['abs_salinity'] = 'vosaline'\n",
    "variables['mld'] = 'somxlavt'\n",
    "\n",
    "dimensions = {'U': {'lon': 'glamf',\n",
    "                    'lat': 'gphif',\n",
    "                    'depth': 'depthw',\n",
    "                    'time': 'time_counter'},\n",
    "              'V': {'lon': 'glamf',\n",
    "                    'lat': 'gphif',\n",
    "                    'depth': 'depthw',\n",
    "                    'time': 'time_counter'},\n",
    "              'W': {'lon': 'glamf',\n",
    "                    'lat': 'gphif',\n",
    "                    'depth': 'depthw',\n",
    "                    'time': 'time_counter'}}\n",
    "\n",
    "dimensions['cons_temperature'] = {'lon': 'glamf', \n",
    "                                  'lat': 'gphif',\n",
    "                                  'depth': 'depthw', \n",
    "                                  'time': 'time_counter'}\n",
    "\n",
    "dimensions['abs_salinity'] = {'lon': 'glamf', \n",
    "                              'lat': 'gphif',\n",
    "                              'depth': 'depthw', \n",
    "                              'time': 'time_counter'}\n",
    "\n",
    "dimensions['mld'] = {'lon': 'glamf', \n",
    "                              'lat': 'gphif',\n",
    "                              'depth': 'deptht', \n",
    "                              'time': 'time_counter'}\n",
    "\n"
   ]
  },
  {
   "cell_type": "code",
   "execution_count": 5,
   "id": "513bb5de-e59a-46f8-adbc-3242748a93b7",
   "metadata": {},
   "outputs": [],
   "source": [
    "indices = {'lat': range(750, 1300), 'lon': range(2900, 4000)}"
   ]
  },
  {
   "cell_type": "code",
   "execution_count": 6,
   "id": "0a11e6fd-5c56-4de2-94d4-38ad15574329",
   "metadata": {},
   "outputs": [
    {
     "name": "stderr",
     "output_type": "stream",
     "text": [
      "WARNING: File /storage/shared/oceanparcels/input_data/MOi/domain_ORCA0083-N006/coordinates.nc could not be decoded properly by xarray (version 0.19.0).\n",
      "         It will be opened with no decoding. Filling values might be wrongly parsed.\n"
     ]
    }
   ],
   "source": [
    "fieldset = FieldSet.from_nemo(filenames, variables, dimensions,\n",
    "                              allow_time_extrapolation=False,\n",
    "                              indices=indices)\n"
   ]
  },
  {
   "cell_type": "code",
   "execution_count": 7,
   "id": "19589bce-95c8-4e89-ac3e-dffa352d6729",
   "metadata": {},
   "outputs": [],
   "source": [
    "fieldset.add_constant('viscosity', 1e-6)\n",
    "fieldset.add_constant('particle_density', 1380)\n",
    "\n",
    "bathy = xr.load_dataset(bathy_file)\n",
    "\n",
    "fieldset.add_field(Field('bathymetry', bathy['Bathymetry'].values,\n",
    "                         lon=bathy['nav_lon'].values, lat=bathy['nav_lat'].values,\n",
    "                         mesh='spherical'))\n"
   ]
  },
  {
   "cell_type": "code",
   "execution_count": 8,
   "id": "d3d72286-1c0a-4393-a605-c95cae0f1426",
   "metadata": {},
   "outputs": [],
   "source": [
    "class PlasticParticle(ScipyParticle):\n",
    "    cons_temperature = Variable('cons_temperature', dtype=np.float32, initial=fieldset.cons_temperature)\n",
    "    abs_salinity = Variable('abs_salinity', dtype=np.float32, initial=fieldset.abs_salinity)\n",
    "    mld = Variable('mld', dtype=np.float32, initial=fieldset.mld)\n",
    "    density = Variable('density', dtype=np.float32, initial=1035)\n",
    "    v_s = Variable('v_s', dtype=np.float32, initial=0)\n",
    "    alpha = Variable('alpha', dtype=np.float32, initial=particle_size)\n",
    "    "
   ]
  },
  {
   "cell_type": "code",
   "execution_count": 9,
   "id": "8add8d37-b750-4013-83b1-d541e3e598c6",
   "metadata": {},
   "outputs": [],
   "source": [
    "lon_cluster = [6.287]*n_points\n",
    "lat_cluster = [-32.171]*n_points\n",
    "\n",
    "# depth_cluster = np.linspace(1, 5000, n_points)\n",
    "depth_cluster = np.ones(n_points)*initial_depth #meters\n",
    "\n",
    "date_cluster = [start_time]*n_points\n",
    "\n",
    "lon_cluster = np.array(lon_cluster)+(np.random.random(len(lon_cluster))-0.5)/24\n",
    "lat_cluster = np.array(lat_cluster)+(np.random.random(len(lat_cluster))-0.5)/24"
   ]
  },
  {
   "cell_type": "code",
   "execution_count": 10,
   "id": "5e1cd7db-f9d0-4008-afed-e0e3954b54e5",
   "metadata": {},
   "outputs": [
    {
     "name": "stderr",
     "output_type": "stream",
     "text": [
      "WARNING: Particle initialisation from field can be very slow as it is computed in scipy mode.\n"
     ]
    }
   ],
   "source": [
    "pset = ParticleSet.from_list(fieldset=fieldset, pclass=PlasticParticle,\n",
    "                             lon=lon_cluster,\n",
    "                             lat=lat_cluster,\n",
    "                             depth=depth_cluster,\n",
    "                             time=date_cluster)\n"
   ]
  },
  {
   "cell_type": "code",
   "execution_count": 11,
   "id": "c5df5b0a-e1a7-43c8-a32c-0d797c7682b4",
   "metadata": {},
   "outputs": [],
   "source": [
    "def delete_particle(particle, fieldset, time):\n",
    "    particle.delete()"
   ]
  },
  {
   "cell_type": "code",
   "execution_count": 12,
   "id": "77efd239-846d-4e70-bd6d-01af7ebeb74a",
   "metadata": {},
   "outputs": [],
   "source": [
    "def GrowParticle(particle, fieldset, time):\n",
    "    particle.alpha = particle.alpha - fieldset.grow_rate*particle.dt"
   ]
  },
  {
   "cell_type": "code",
   "execution_count": 13,
   "id": "296f30a2-d531-4f33-a0c5-5d0883791270",
   "metadata": {},
   "outputs": [],
   "source": [
    "def AdvectionRK4_1D(particle, fieldset, time):\n",
    "    \"\"\"\n",
    "    Advection of particles using fourth-order Runge-Kutta integration including vertical velocity.\n",
    "    Function needs to be converted to Kernel object before execution\n",
    "    \"\"\"\n",
    "    (w1) = fieldset.W[time, particle.depth, particle.lat, particle.lon]\n",
    "    depth_1 = particle.depth + w1 * .5 * particle.dt\n",
    "    \n",
    "    (w2) = fieldset.W[time + .5 * particle.dt, depth_1, particle.lat, particle.lon]\n",
    "    depth_2 = particle.depth + w2 * .5 * particle.dt\n",
    "\n",
    "    (w3) = fieldset.W[time + .5 * particle.dt, depth_2, particle.lat, particle.lon]\n",
    "    depth_3 = particle.depth + w3 * particle.dt\n",
    "    \n",
    "    (w4) = fieldset.W[time + particle.dt, depth_3, particle.lat, particle.lon]\n",
    "\n",
    "    particle.depth += (w1 + 2 * w2 + 2 * w3 + w4) / 6. * particle.dt"
   ]
  },
  {
   "cell_type": "code",
   "execution_count": 14,
   "id": "942a4087-131d-4487-9e7f-35f666d349d2",
   "metadata": {},
   "outputs": [],
   "source": [
    "def SinkingVelocity_RK4(particle, fieldset, time):\n",
    "    def polyTEOS10_bsq(Z, SA, CT):\n",
    "        Z = - Z #particle.depth  # note: use negative depths!\n",
    "\n",
    "        SAu = 40 * 35.16504 / 35\n",
    "        CTu = 40\n",
    "        Zu = 1e4\n",
    "        deltaS = 32\n",
    "        R000 = 8.0189615746e+02\n",
    "        R100 = 8.6672408165e+02\n",
    "        R200 = -1.7864682637e+03\n",
    "        R300 = 2.0375295546e+03\n",
    "        R400 = -1.2849161071e+03\n",
    "        R500 = 4.3227585684e+02\n",
    "        R600 = -6.0579916612e+01\n",
    "        R010 = 2.6010145068e+01\n",
    "        R110 = -6.5281885265e+01\n",
    "        R210 = 8.1770425108e+01\n",
    "        R310 = -5.6888046321e+01\n",
    "        R410 = 1.7681814114e+01\n",
    "        R510 = -1.9193502195e+00\n",
    "        R020 = -3.7074170417e+01\n",
    "        R120 = 6.1548258127e+01\n",
    "        R220 = -6.0362551501e+01\n",
    "        R320 = 2.9130021253e+01\n",
    "        R420 = -5.4723692739e+00\n",
    "        R030 = 2.1661789529e+01\n",
    "        R130 = -3.3449108469e+01\n",
    "        R230 = 1.9717078466e+01\n",
    "        R330 = -3.1742946532e+00\n",
    "        R040 = -8.3627885467e+00\n",
    "        R140 = 1.1311538584e+01\n",
    "        R240 = -5.3563304045e+00\n",
    "        R050 = 5.4048723791e-01\n",
    "        R150 = 4.8169980163e-01\n",
    "        R060 = -1.9083568888e-01\n",
    "        R001 = 1.9681925209e+01\n",
    "        R101 = -4.2549998214e+01\n",
    "        R201 = 5.0774768218e+01\n",
    "        R301 = -3.0938076334e+01\n",
    "        R401 = 6.6051753097e+00\n",
    "        R011 = -1.3336301113e+01\n",
    "        R111 = -4.4870114575e+00\n",
    "        R211 = 5.0042598061e+00\n",
    "        R311 = -6.5399043664e-01\n",
    "        R021 = 6.7080479603e+00\n",
    "        R121 = 3.5063081279e+00\n",
    "        R221 = -1.8795372996e+00\n",
    "        R031 = -2.4649669534e+00\n",
    "        R131 = -5.5077101279e-01\n",
    "        R041 = 5.5927935970e-01\n",
    "        R002 = 2.0660924175e+00\n",
    "        R102 = -4.9527603989e+00\n",
    "        R202 = 2.5019633244e+00\n",
    "        R012 = 2.0564311499e+00\n",
    "        R112 = -2.1311365518e-01\n",
    "        R022 = -1.2419983026e+00\n",
    "        R003 = -2.3342758797e-02\n",
    "        R103 = -1.8507636718e-02\n",
    "        R013 = 3.7969820455e-01\n",
    "        ss = math.sqrt((SA + deltaS) / SAu)\n",
    "        tt = CT / CTu\n",
    "        zz = -Z / Zu\n",
    "        rz3 = R013 * tt + R103 * ss + R003\n",
    "        rz2 = (R022 * tt + R112 * ss + R012) * tt + (R202 * ss + R102) * ss + R002\n",
    "        rz1 = (((R041 * tt + R131 * ss + R031) * tt + (R221 * ss + R121) * ss + R021) * tt + ((R311 * ss + R211) * ss + R111) * ss + R011) * tt + (((R401 * ss + R301) * ss + R201) * ss + R101) * ss + R001\n",
    "        rz0 = (((((R060 * tt + R150 * ss + R050) * tt + (R240 * ss + R140) * ss + R040) * tt + ((R330 * ss + R230) * ss + R130) * ss + R030) * tt + (((R420 * ss + R320) * ss + R220) * ss + R120) * ss + R020) * tt + ((((R510 * ss + R410) * ss + R310) * ss + R210) * ss + R110) * ss + R010) * tt + (((((R600 * ss + R500) * ss + R400) * ss + R300) * ss + R200) * ss + R100) * ss + R000\n",
    "        density = ((rz3 * zz + rz2) * zz + rz1) * zz + rz0\n",
    "\n",
    "        return density\n",
    "    \n",
    "    g = 9.81\n",
    "    dt = particle.dt\n",
    "    rho_p = fieldset.particle_density\n",
    "    \n",
    "    nu = fieldset.viscosity\n",
    "    alpha = particle.alpha\n",
    "    seafloor = fieldset.bathymetry[time, particle.depth,\n",
    "                                   particle.lat, particle.lon]\n",
    "    \n",
    "    if particle.depth < seafloor and particle.depth > 0:\n",
    "        T1 = fieldset.cons_temperature[time, particle.depth,\n",
    "                                  particle.lat, particle.lon]\n",
    "        S1 = fieldset.abs_salinity[time, particle.depth,\n",
    "                                 particle.lat, particle.lon]\n",
    "        depth_1 = particle.depth\n",
    "        # --\n",
    "        rho_f = polyTEOS10_bsq(depth_1, S1, T1)\n",
    "        beta = 3*rho_f/(2*rho_p + rho_f)\n",
    "        tau_p = alpha*alpha/(3*beta*nu)\n",
    "        v_s_1 = (1 - beta)*g*tau_p\n",
    "        # --\n",
    "        depth_2 = depth_1 + v_s_1*dt*0.5\n",
    "        T2 = fieldset.cons_temperature[time + .5*dt, depth_1,\n",
    "                                  particle.lat, particle.lon]\n",
    "        S2 = fieldset.abs_salinity[time + .5*dt, depth_1,\n",
    "                                 particle.lat, particle.lon]\n",
    "        rho_f = polyTEOS10_bsq(depth_1, S2, T2)\n",
    "        beta = 3*rho_f/(2*rho_p + rho_f)\n",
    "        tau_p = alpha*alpha/(3*beta*nu) ## alpha*alpha\n",
    "        v_s_2 = (1 - beta)*g*tau_p\n",
    "        # --\n",
    "        depth_3 = depth_2 + v_s_2*dt*0.5\n",
    "        T3 = fieldset.cons_temperature[time + .5*dt, depth_2,\n",
    "                                  particle.lat, particle.lon]\n",
    "        S3 = fieldset.abs_salinity[time + .5*dt, depth_2,\n",
    "                                 particle.lat, particle.lon]\n",
    "        rho_f = polyTEOS10_bsq(depth_3, S3, T3)\n",
    "        beta = 3*rho_f/(2*rho_p + rho_f)\n",
    "        tau_p = alpha*alpha/(3*beta*nu) ## alpha*alpha\n",
    "        v_s_3 = (1 - beta)*g*tau_p\n",
    "        # --\n",
    "        depth_4 = depth_3 + v_s_3*dt\n",
    "        T4 = fieldset.cons_temperature[time + dt, depth_3,\n",
    "                                  particle.lat, particle.lon]\n",
    "        S4 = fieldset.abs_salinity[time + dt, depth_3,\n",
    "                                 particle.lat, particle.lon]\n",
    "        rho_f = polyTEOS10_bsq(depth_4, S4, T4)\n",
    "        beta = 3*rho_f/(2*rho_p + rho_f)\n",
    "        tau_p = alpha*alpha/(3*beta*nu) ## alpha*alpha\n",
    "        v_s_4 = (1 - beta)*g*tau_p\n",
    "    \n",
    "        v_s = (v_s_1 + 2 * v_s_2 + 2 * v_s_3 + v_s_4)/6.\n",
    "        \n",
    "    else:\n",
    "        v_s = 0\n",
    "        \n",
    "    particle.depth = particle.depth + v_s*dt"
   ]
  },
  {
   "cell_type": "code",
   "execution_count": 15,
   "id": "4977352b-fe1c-47ae-a71e-f2df2da56fe2",
   "metadata": {},
   "outputs": [],
   "source": [
    "def SinkingVelocity(particle, fieldset, time):\n",
    "    rho_p = fieldset.particle_density ##\n",
    "    rho_f = particle.density\n",
    "    nu = fieldset.viscosity\n",
    "    alpha = particle.alpha\n",
    "    g = 9.81\n",
    "    dt = particle.dt\n",
    "    beta = 3*rho_f/(2*rho_p + rho_f)\n",
    "    tau_p = alpha*alpha/(3*beta*nu) ## alpha*alpha\n",
    "    \n",
    "    seafloor = fieldset.bathymetry[time, particle.depth, particle.lat, particle.lon]\n",
    "    \n",
    "    if particle.depth < seafloor and particle.depth > 0:\n",
    "        v_s = (1 - beta)*g*tau_p\n",
    "    else:\n",
    "        v_s = 0\n",
    "        \n",
    "    particle.v_s = v_s\n",
    "    particle.depth = particle.depth + v_s*dt\n",
    "    "
   ]
  },
  {
   "cell_type": "code",
   "execution_count": 16,
   "id": "f9147389-b905-43f2-82ad-a0d269c2893b",
   "metadata": {},
   "outputs": [],
   "source": [
    "def SampleField(particle, fielset, time):\n",
    "    particle.cons_temperature = fieldset.cons_temperature[time, particle.depth, \n",
    "                                               particle.lat, particle.lon]\n",
    "    particle.abs_salinity = fieldset.abs_salinity[time, particle.depth, \n",
    "                                               particle.lat, particle.lon]\n",
    "    particle.mld = fieldset.mld[time, particle.depth, \n",
    "                                               particle.lat, particle.lon]\n"
   ]
  },
  {
   "cell_type": "code",
   "execution_count": 17,
   "id": "fc65d00a-ff61-4c12-8f17-e8ec651d7ab8",
   "metadata": {},
   "outputs": [
    {
     "name": "stderr",
     "output_type": "stream",
     "text": [
      "WARNING: ParticleSet is empty on writing as array at time 6.19488e+07\n",
      "INFO: Temporary output files are stored in /storage/shared/oceanparcels/output_data/data_Claudio/out-GBVYQWSN.\n",
      "INFO: You can use \"parcels_convert_npydir_to_netcdf /storage/shared/oceanparcels/output_data/data_Claudio/out-GBVYQWSN\" to convert these to a NetCDF file during the run.\n",
      "N/A% (0 of 864000.0) |                   | Elapsed Time: 0:00:00 ETA:  --:--:--WARNING: ParticleSet is empty on writing as array at time 6.18624e+07\n",
      " 20% (172800.0 of 864000.0) |##          | Elapsed Time: 0:00:16 ETA:   0:01:05WARNING: ParticleSet is empty on writing as array at time 6.1776e+07\n",
      " 30% (259200.0 of 864000.0) |###         | Elapsed Time: 0:00:27 ETA:   0:01:16WARNING: ParticleSet is empty on writing as array at time 6.16896e+07\n",
      " 40% (345600.0 of 864000.0) |####        | Elapsed Time: 0:00:45 ETA:   0:01:48WARNING: ParticleSet is empty on writing as array at time 6.16032e+07\n",
      " 50% (432000.0 of 864000.0) |######      | Elapsed Time: 0:01:03 ETA:   0:01:28WARNING: ParticleSet is empty on writing as array at time 6.15168e+07\n",
      " 60% (518400.0 of 864000.0) |#######     | Elapsed Time: 0:01:15 ETA:   0:00:48WARNING: ParticleSet is empty on writing as array at time 6.14304e+07\n",
      " 70% (604800.0 of 864000.0) |########    | Elapsed Time: 0:01:30 ETA:   0:00:46WARNING: ParticleSet is empty on writing as array at time 6.1344e+07\n",
      " 80% (691200.0 of 864000.0) |#########   | Elapsed Time: 0:01:44 ETA:   0:00:27WARNING: ParticleSet is empty on writing as array at time 6.12576e+07\n",
      " 90% (777600.0 of 864000.0) |##########  | Elapsed Time: 0:02:00 ETA:   0:00:16WARNING: ParticleSet is empty on writing as array at time 6.11712e+07\n",
      "100% (864000.0 of 864000.0) |############| Elapsed Time: 0:02:01 Time:  0:02:01\n"
     ]
    }
   ],
   "source": [
    "kernels = pset.Kernel(AdvectionRK4_1D) + pset.Kernel(SampleField) + pset.Kernel(PolyTEOS10_bsq) + pset.Kernel(SinkingVelocity_RK4)\n",
    "\n",
    "# Output file\n",
    "output_file = pset.ParticleFile(name=output_path,\n",
    "                                outputdt=timedelta(hours=24))\n",
    "\n",
    "pset.execute(kernels,\n",
    "             output_file=output_file,\n",
    "             runtime=timedelta(days=10),\n",
    "             dt=-timedelta(hours=1),\n",
    "             recovery={ErrorCode.ErrorOutOfBounds: delete_particle})\n",
    "\n",
    "output_file.close()"
   ]
  },
  {
   "cell_type": "markdown",
   "id": "697e914a-4d94-4084-9501-4ffb1bc03d0c",
   "metadata": {},
   "source": [
    "-----------\n",
    "Analysis"
   ]
  },
  {
   "cell_type": "code",
   "execution_count": null,
   "id": "1b561495-5ea4-4421-a9b9-89d7910d5fe8",
   "metadata": {},
   "outputs": [],
   "source": [
    "sim = xr.load_dataset(output_path)"
   ]
  },
  {
   "cell_type": "code",
   "execution_count": null,
   "id": "0941810b-09dc-4a7b-80ca-042633815f34",
   "metadata": {},
   "outputs": [],
   "source": [
    "sim"
   ]
  },
  {
   "cell_type": "code",
   "execution_count": null,
   "id": "6e5d62ef-95f2-45a3-afc5-427b76f16e0f",
   "metadata": {},
   "outputs": [],
   "source": [
    "sim['z']"
   ]
  },
  {
   "cell_type": "code",
   "execution_count": null,
   "id": "73a9426d-5f40-44a0-bc2b-a90229b37982",
   "metadata": {},
   "outputs": [],
   "source": [
    "plt.plot(sim['alpha'][0, :])\n",
    "plt.xlabel('Time steps')\n",
    "plt.ylabel('Particle size')"
   ]
  },
  {
   "cell_type": "code",
   "execution_count": null,
   "id": "8494a192-5848-4e04-bc28-af0ab49e9838",
   "metadata": {},
   "outputs": [],
   "source": [
    "step = 10\n",
    "plt.scatter(sim['alpha'][:,step], -sim['z'][:,step])\n",
    "plt.xlabel('Salinity (PSU)')\n",
    "plt.ylabel('Depth (m)')\n",
    "plt.title(sim['time'][0,step].values)"
   ]
  },
  {
   "cell_type": "code",
   "execution_count": null,
   "id": "9c1d70cc-0990-407d-b4ff-4074971c6839",
   "metadata": {},
   "outputs": [],
   "source": [
    "step = 10\n",
    "plt.scatter(sim['salinity'][:,step], -sim['z'][:,step])\n",
    "plt.xlabel('Salinity (PSU)')\n",
    "plt.ylabel('Depth (m)')\n",
    "plt.title(sim['time'][0,step].values)"
   ]
  },
  {
   "cell_type": "code",
   "execution_count": null,
   "id": "f02993ae-9926-419b-941e-311a148ece24",
   "metadata": {},
   "outputs": [],
   "source": [
    "step = 10\n",
    "plt.scatter(sim['temperature'][:,step], -sim['z'][:,step], color='r')\n",
    "plt.xlabel('Temperature (Celsius)')\n",
    "plt.ylabel('Depth (m)')\n",
    "plt.title(sim['time'][0,step].values)"
   ]
  },
  {
   "cell_type": "code",
   "execution_count": null,
   "id": "68d7bcdf-c992-40cb-91e5-3e4fcffa7088",
   "metadata": {},
   "outputs": [],
   "source": [
    "step = 10\n",
    "plt.scatter(sim['ph'][:,step], -sim['z'][:,step], color='g')\n",
    "plt.xlabel('pH')\n",
    "plt.ylabel('Depth (m)')\n",
    "plt.title(sim['time'][0,step].values)"
   ]
  },
  {
   "cell_type": "code",
   "execution_count": null,
   "id": "89f5abf8-6ac0-46c0-9a31-964f62a2b095",
   "metadata": {},
   "outputs": [],
   "source": [
    "step = 10\n",
    "for i in range(1000):\n",
    "    plt.plot(sim['lon'][i,:], sim['lat'][i,:]);\n",
    "\n",
    "plt.xlabel('Longitude')\n",
    "plt.ylabel('Latitude')\n",
    "# plt.title(sim['time'][0,step].values)"
   ]
  },
  {
   "cell_type": "code",
   "execution_count": null,
   "id": "2903b650-987b-4535-be4a-ac03dcd9a804",
   "metadata": {},
   "outputs": [],
   "source": [
    "sim2 = xr.load_dataset('/storage/shared/oceanparcels/output_data/data_Claudio/SA_5m_s02.nc')"
   ]
  },
  {
   "cell_type": "code",
   "execution_count": null,
   "id": "d5b5d203-78c1-4772-b764-ae522b023500",
   "metadata": {},
   "outputs": [],
   "source": [
    "sim2"
   ]
  },
  {
   "cell_type": "code",
   "execution_count": null,
   "id": "95c54ca2-42ab-422d-a9da-236fdf13fa9c",
   "metadata": {},
   "outputs": [],
   "source": [
    "import cartopy as cart\n",
    "import cartopy.crs as ccrs\n",
    "# import cmocean.cm as cmo\n",
    "# import seaborn as sns\n",
    "from glob import glob"
   ]
  },
  {
   "cell_type": "code",
   "execution_count": null,
   "id": "63630a34-bc53-46a3-aae2-0f1f415b09ab",
   "metadata": {},
   "outputs": [],
   "source": [
    "step = 10\n",
    "for i in range(1000):\n",
    "    plt.plot(sim2['lon'][i,:], sim2['lat'][i,:]);\n",
    "\n",
    "plt.xlabel('Longitude')\n",
    "plt.ylabel('Latitude')"
   ]
  },
  {
   "cell_type": "code",
   "execution_count": null,
   "id": "994f1b0a-1888-4466-9bc2-ee211710f5a3",
   "metadata": {},
   "outputs": [],
   "source": [
    "step = 10\n",
    "plt.scatter(sim2['salinity'][:,step], -sim2['z'][:,step])\n",
    "plt.xlabel('Salinity (PSU)')\n",
    "plt.ylabel('Depth (m)')\n",
    "plt.title(sim2['time'][0,step].values)"
   ]
  },
  {
   "cell_type": "code",
   "execution_count": null,
   "id": "d6d72caf-26e5-4410-9317-281fb8f9b059",
   "metadata": {},
   "outputs": [],
   "source": []
  }
 ],
 "metadata": {
  "kernelspec": {
   "display_name": "Python 3 (ipykernel)",
   "language": "python",
   "name": "python3"
  },
  "language_info": {
   "codemirror_mode": {
    "name": "ipython",
    "version": 3
   },
   "file_extension": ".py",
   "mimetype": "text/x-python",
   "name": "python",
   "nbconvert_exporter": "python",
   "pygments_lexer": "ipython3",
   "version": "3.8.11"
  }
 },
 "nbformat": 4,
 "nbformat_minor": 5
}
